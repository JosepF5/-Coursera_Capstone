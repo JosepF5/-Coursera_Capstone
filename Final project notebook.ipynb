{
 "cells": [
  {
   "cell_type": "markdown",
   "id": "f19a8271",
   "metadata": {},
   "source": [
    "# Installing libraries"
   ]
  },
  {
   "cell_type": "code",
   "execution_count": 2,
   "id": "249b217c",
   "metadata": {},
   "outputs": [
    {
     "name": "stdout",
     "output_type": "stream",
     "text": [
      "Requirement already satisfied: geopy in c:\\users\\user\\appdata\\local\\programs\\python\\python39\\lib\\site-packages (2.1.0)\n",
      "Requirement already satisfied: geographiclib<2,>=1.49 in c:\\users\\user\\appdata\\local\\programs\\python\\python39\\lib\\site-packages (from geopy) (1.52)\n",
      "Requirement already satisfied: folium in c:\\users\\user\\appdata\\local\\programs\\python\\python39\\lib\\site-packages (0.12.1)\n",
      "Requirement already satisfied: jinja2>=2.9 in c:\\users\\user\\appdata\\local\\programs\\python\\python39\\lib\\site-packages (from folium) (3.0.1)\n",
      "Requirement already satisfied: requests in c:\\users\\user\\appdata\\local\\programs\\python\\python39\\lib\\site-packages (from folium) (2.25.1)\n",
      "Requirement already satisfied: branca>=0.3.0 in c:\\users\\user\\appdata\\local\\programs\\python\\python39\\lib\\site-packages (from folium) (0.4.2)\n",
      "Requirement already satisfied: numpy in c:\\users\\user\\appdata\\local\\programs\\python\\python39\\lib\\site-packages (from folium) (1.20.3)\n",
      "Requirement already satisfied: MarkupSafe>=2.0 in c:\\users\\user\\appdata\\local\\programs\\python\\python39\\lib\\site-packages (from jinja2>=2.9->folium) (2.0.1)\n",
      "Requirement already satisfied: urllib3<1.27,>=1.21.1 in c:\\users\\user\\appdata\\local\\programs\\python\\python39\\lib\\site-packages (from requests->folium) (1.26.5)\n",
      "Requirement already satisfied: certifi>=2017.4.17 in c:\\users\\user\\appdata\\local\\programs\\python\\python39\\lib\\site-packages (from requests->folium) (2021.5.30)\n",
      "Requirement already satisfied: idna<3,>=2.5 in c:\\users\\user\\appdata\\local\\programs\\python\\python39\\lib\\site-packages (from requests->folium) (2.10)\n",
      "Requirement already satisfied: chardet<5,>=3.0.2 in c:\\users\\user\\appdata\\local\\programs\\python\\python39\\lib\\site-packages (from requests->folium) (4.0.0)\n",
      "Libraries installed!\n"
     ]
    }
   ],
   "source": [
    "!pip install geopy\n",
    "!pip install folium\n",
    "print('Libraries installed!')"
   ]
  },
  {
   "cell_type": "markdown",
   "id": "1238d17b",
   "metadata": {},
   "source": [
    "# Importing necessary libraries"
   ]
  },
  {
   "cell_type": "code",
   "execution_count": 7,
   "id": "b568bfcf",
   "metadata": {},
   "outputs": [
    {
     "name": "stdout",
     "output_type": "stream",
     "text": [
      "Collecting seaborn\n",
      "  Downloading seaborn-0.11.1-py3-none-any.whl (285 kB)\n",
      "Requirement already satisfied: numpy>=1.15 in c:\\users\\user\\appdata\\local\\programs\\python\\python39\\lib\\site-packages (from seaborn) (1.20.3)\n",
      "Requirement already satisfied: matplotlib>=2.2 in c:\\users\\user\\appdata\\local\\programs\\python\\python39\\lib\\site-packages (from seaborn) (3.4.2)\n",
      "Requirement already satisfied: pandas>=0.23 in c:\\users\\user\\appdata\\local\\programs\\python\\python39\\lib\\site-packages (from seaborn) (1.2.4)\n",
      "Collecting scipy>=1.0\n",
      "  Downloading scipy-1.7.0-cp39-cp39-win_amd64.whl (33.8 MB)\n",
      "Requirement already satisfied: pillow>=6.2.0 in c:\\users\\user\\appdata\\local\\programs\\python\\python39\\lib\\site-packages (from matplotlib>=2.2->seaborn) (8.2.0)\n",
      "Requirement already satisfied: cycler>=0.10 in c:\\users\\user\\appdata\\local\\programs\\python\\python39\\lib\\site-packages (from matplotlib>=2.2->seaborn) (0.10.0)\n",
      "Requirement already satisfied: python-dateutil>=2.7 in c:\\users\\user\\appdata\\local\\programs\\python\\python39\\lib\\site-packages (from matplotlib>=2.2->seaborn) (2.8.1)\n",
      "Requirement already satisfied: kiwisolver>=1.0.1 in c:\\users\\user\\appdata\\local\\programs\\python\\python39\\lib\\site-packages (from matplotlib>=2.2->seaborn) (1.3.1)\n",
      "Requirement already satisfied: pyparsing>=2.2.1 in c:\\users\\user\\appdata\\local\\programs\\python\\python39\\lib\\site-packages (from matplotlib>=2.2->seaborn) (2.4.7)\n",
      "Requirement already satisfied: six in c:\\users\\user\\appdata\\local\\programs\\python\\python39\\lib\\site-packages (from cycler>=0.10->matplotlib>=2.2->seaborn) (1.16.0)\n",
      "Requirement already satisfied: pytz>=2017.3 in c:\\users\\user\\appdata\\local\\programs\\python\\python39\\lib\\site-packages (from pandas>=0.23->seaborn) (2021.1)\n",
      "Installing collected packages: scipy, seaborn\n",
      "Successfully installed scipy-1.7.0 seaborn-0.11.1\n",
      "Libraries imported!\n"
     ]
    }
   ],
   "source": [
    "import numpy as np # library to handle data in a vectorized manner\n",
    "\n",
    "import pandas as pd # library for data analsysis\n",
    "pd.set_option('display.max_columns', None)\n",
    "pd.set_option('display.max_rows', None)\n",
    "\n",
    "import requests # library to handle requests\n",
    "\n",
    "#from bs4 import BeautifulSoup\n",
    "import os\n",
    "\n",
    "import folium # map rendering library\n",
    "\n",
    "from geopy.geocoders import Nominatim # convert an address into latitude and longitude values\n",
    "import requests # library to handle requests\n",
    "\n",
    "# Matplotlib and associated plotting modules\n",
    "import matplotlib.pyplot as plt\n",
    "import matplotlib.cm as cm\n",
    "import matplotlib.colors as colors\n",
    "%matplotlib inline\n",
    "!pip install seaborn\n",
    "import seaborn as sns\n",
    "\n",
    "print('Libraries imported!')"
   ]
  },
  {
   "cell_type": "code",
   "execution_count": 8,
   "id": "2bf55969",
   "metadata": {},
   "outputs": [],
   "source": [
    "# Credentials\n",
    "CLIENT_ID = 'GIG4DDSIAILRPU1YFWDZQVIKZQJEYHSGWCBHNFRHUULZ1OIO' # your Foursquare ID\n",
    "CLIENT_SECRET = '3ZR34EEXRFVHGOOMBLHHHQ4OP312BQOINQ43YEOTAYU3RXJB' # your Foursquare Secret\n",
    "VERSION = '20180605' # Foursquare API version"
   ]
  },
  {
   "cell_type": "markdown",
   "id": "0209c949",
   "metadata": {},
   "source": [
    "# Scrap data from Wikipedia page into a DataFrame"
   ]
  },
  {
   "cell_type": "code",
   "execution_count": 10,
   "id": "8e730a90",
   "metadata": {},
   "outputs": [],
   "source": [
    "\n",
    "def get_new_york_data():\n",
    "    url='https://cocl.us/new_york_dataset'\n",
    "    resp=requests.get(url).json()\n",
    "    # all data is present in features label\n",
    "    features=resp['features']\n",
    "    # define the dataframe columns\n",
    "    column_names = ['Borough', 'Neighborhood', 'Latitude', 'Longitude'] \n",
    "    # instantiate the dataframe\n",
    "    new_york_data = pd.DataFrame(columns=column_names)\n",
    "    for data in features:\n",
    "        borough = data['properties']['borough'] \n",
    "        neighborhood_name = data['properties']['name']\n",
    "        neighborhood_latlon = data['geometry']['coordinates']\n",
    "        neighborhood_lat = neighborhood_latlon[1]\n",
    "        neighborhood_lon = neighborhood_latlon[0]\n",
    "        new_york_data = new_york_data.append({'Borough': borough,\n",
    "                                          'Neighborhood': neighborhood_name,\n",
    "                                          'Latitude': neighborhood_lat,\n",
    "                                          'Longitude': neighborhood_lon}, ignore_index=True)\n",
    "    return new_york_data"
   ]
  },
  {
   "cell_type": "code",
   "execution_count": 11,
   "id": "58a43ae6",
   "metadata": {},
   "outputs": [
    {
     "data": {
      "text/html": [
       "<div>\n",
       "<style scoped>\n",
       "    .dataframe tbody tr th:only-of-type {\n",
       "        vertical-align: middle;\n",
       "    }\n",
       "\n",
       "    .dataframe tbody tr th {\n",
       "        vertical-align: top;\n",
       "    }\n",
       "\n",
       "    .dataframe thead th {\n",
       "        text-align: right;\n",
       "    }\n",
       "</style>\n",
       "<table border=\"1\" class=\"dataframe\">\n",
       "  <thead>\n",
       "    <tr style=\"text-align: right;\">\n",
       "      <th></th>\n",
       "      <th>Borough</th>\n",
       "      <th>Neighborhood</th>\n",
       "      <th>Latitude</th>\n",
       "      <th>Longitude</th>\n",
       "    </tr>\n",
       "  </thead>\n",
       "  <tbody>\n",
       "    <tr>\n",
       "      <th>0</th>\n",
       "      <td>Bronx</td>\n",
       "      <td>Wakefield</td>\n",
       "      <td>40.894705</td>\n",
       "      <td>-73.847201</td>\n",
       "    </tr>\n",
       "    <tr>\n",
       "      <th>1</th>\n",
       "      <td>Bronx</td>\n",
       "      <td>Co-op City</td>\n",
       "      <td>40.874294</td>\n",
       "      <td>-73.829939</td>\n",
       "    </tr>\n",
       "    <tr>\n",
       "      <th>2</th>\n",
       "      <td>Bronx</td>\n",
       "      <td>Eastchester</td>\n",
       "      <td>40.887556</td>\n",
       "      <td>-73.827806</td>\n",
       "    </tr>\n",
       "    <tr>\n",
       "      <th>3</th>\n",
       "      <td>Bronx</td>\n",
       "      <td>Fieldston</td>\n",
       "      <td>40.895437</td>\n",
       "      <td>-73.905643</td>\n",
       "    </tr>\n",
       "    <tr>\n",
       "      <th>4</th>\n",
       "      <td>Bronx</td>\n",
       "      <td>Riverdale</td>\n",
       "      <td>40.890834</td>\n",
       "      <td>-73.912585</td>\n",
       "    </tr>\n",
       "  </tbody>\n",
       "</table>\n",
       "</div>"
      ],
      "text/plain": [
       "  Borough Neighborhood   Latitude  Longitude\n",
       "0   Bronx    Wakefield  40.894705 -73.847201\n",
       "1   Bronx   Co-op City  40.874294 -73.829939\n",
       "2   Bronx  Eastchester  40.887556 -73.827806\n",
       "3   Bronx    Fieldston  40.895437 -73.905643\n",
       "4   Bronx    Riverdale  40.890834 -73.912585"
      ]
     },
     "execution_count": 11,
     "metadata": {},
     "output_type": "execute_result"
    }
   ],
   "source": [
    "# First rows of dataframe\n",
    "data = get_new_york_data()\n",
    "data.head()"
   ]
  },
  {
   "cell_type": "code",
   "execution_count": 12,
   "id": "2a9ade08",
   "metadata": {},
   "outputs": [
    {
     "data": {
      "text/plain": [
       "(306, 4)"
      ]
     },
     "execution_count": 12,
     "metadata": {},
     "output_type": "execute_result"
    }
   ],
   "source": [
    "# shape of dataframe\n",
    "data.shape"
   ]
  },
  {
   "cell_type": "markdown",
   "id": "5710d088",
   "metadata": {},
   "source": [
    "# Data Analysis"
   ]
  },
  {
   "cell_type": "code",
   "execution_count": 17,
   "id": "743b2ad5",
   "metadata": {},
   "outputs": [
    {
     "data": {
      "image/png": "[encoded data removed]",
      "text/plain": [
       "<Figure size 576x288 with 1 Axes>"
      ]
     },
     "metadata": {
      "needs_background": "light"
     },
     "output_type": "display_data"
    }
   ],
   "source": [
    "clr = \"green\"\n",
    "data.groupby('Borough')['Neighborhood'].count().plot.bar(figsize=(8,4), color=clr)\n",
    "plt.title('Neighborhoods per Borough: NYC', fontsize = 20)\n",
    "plt.xlabel('Borough', fontsize = 15)\n",
    "plt.ylabel('No. Neighborhoods',fontsize = 15)\n",
    "plt.xticks(rotation = 'horizontal')\n",
    "plt.legend()\n",
    "plt.show()"
   ]
  },
  {
   "cell_type": "markdown",
   "id": "de19ba7c",
   "metadata": {},
   "source": [
    "# Let's analyze further and see how many American restaurants there are in each neighborhood and borough. After it, we'll graph the results."
   ]
  },
  {
   "cell_type": "code",
   "execution_count": 21,
   "id": "41329553",
   "metadata": {},
   "outputs": [],
   "source": [
    "# defining get venues function\n",
    "def get_venues(lat,lng):\n",
    "    #set variables\n",
    "    radius=400\n",
    "    LIMIT=100\n",
    "    #url to fetch data from foursquare api\n",
    "    url = 'https://api.foursquare.com/v2/venues/explore?&client_id={}&client_secret={}&v={}&ll={},{}&radius={}&limit={}'.format(\n",
    "            CLIENT_ID, \n",
    "            CLIENT_SECRET, \n",
    "            VERSION, \n",
    "            lat, \n",
    "            lng, \n",
    "            radius, \n",
    "            LIMIT)\n",
    "    # get all the data\n",
    "    results = requests.get(url).json()\n",
    "    venue_data=results['response']['groups'][0]['items']\n",
    "    venue_details=[]\n",
    "    for row in venue_data:\n",
    "        try:\n",
    "            venue_id=row['venue']['id']\n",
    "            venue_name=row['venue']['name']\n",
    "            venue_category=row['venue']['categories'][0]['name']\n",
    "            venue_details.append([venue_id,venue_name,venue_category])\n",
    "        except KeyError:\n",
    "            pass\n",
    "    column_names=['ID','Name','Category']\n",
    "    df = pd.DataFrame(venue_details,columns=column_names)\n",
    "    return df"
   ]
  },
  {
   "cell_type": "code",
   "execution_count": 22,
   "id": "cdf28e70",
   "metadata": {},
   "outputs": [
    {
     "name": "stdout",
     "output_type": "stream",
     "text": [
      "( 1 / 306 ) American Restaurants in Wakefield, Bronx:0\n",
      "['Bronx', 'Wakefield', 40.89470517661, -73.84720052054902]\n",
      "( 2 / 306 ) American Restaurants in Co-op City, Bronx:0\n",
      "['Bronx', 'Co-op City', 40.87429419303012, -73.82993910812398]\n",
      "( 3 / 306 ) American Restaurants in Eastchester, Bronx:0\n",
      "['Bronx', 'Eastchester', 40.887555677350775, -73.82780644716412]\n",
      "( 4 / 306 ) American Restaurants in Fieldston, Bronx:0\n",
      "['Bronx', 'Fieldston', 40.89543742690383, -73.90564259591682]\n",
      "( 5 / 306 ) American Restaurants in Riverdale, Bronx:0\n",
      "['Bronx', 'Riverdale', 40.890834493891305, -73.9125854610857]\n",
      "( 6 / 306 ) American Restaurants in Kingsbridge, Bronx:0\n",
      "['Bronx', 'Kingsbridge', 40.88168737120521, -73.90281798724604]\n",
      "( 7 / 306 ) American Restaurants in Marble Hill, Manhattan:0\n",
      "['Manhattan', 'Marble Hill', 40.87655077879964, -73.91065965862981]\n",
      "( 8 / 306 ) American Restaurants in Woodlawn, Bronx:1\n",
      "['Bronx', 'Woodlawn', 40.89827261213805, -73.86731496814176]\n",
      "( 9 / 306 ) American Restaurants in Norwood, Bronx:0\n",
      "['Bronx', 'Norwood', 40.87722415599446, -73.8793907395681]\n",
      "( 10 / 306 ) American Restaurants in Williamsbridge, Bronx:0\n",
      "['Bronx', 'Williamsbridge', 40.88103887819211, -73.85744642974207]\n",
      "( 11 / 306 ) American Restaurants in Baychester, Bronx:0\n",
      "['Bronx', 'Baychester', 40.866858107252696, -73.83579759808117]\n",
      "( 12 / 306 ) American Restaurants in Pelham Parkway, Bronx:0\n",
      "['Bronx', 'Pelham Parkway', 40.85741349808865, -73.85475564017999]\n",
      "( 13 / 306 ) American Restaurants in City Island, Bronx:1\n",
      "['Bronx', 'City Island', 40.84724670491813, -73.78648845267413]\n",
      "( 14 / 306 ) American Restaurants in Bedford Park, Bronx:0\n",
      "['Bronx', 'Bedford Park', 40.870185164975325, -73.8855121841913]\n",
      "( 15 / 306 ) American Restaurants in University Heights, Bronx:0\n",
      "['Bronx', 'University Heights', 40.85572707719664, -73.9104159619131]\n",
      "( 16 / 306 ) American Restaurants in Morris Heights, Bronx:0\n",
      "['Bronx', 'Morris Heights', 40.84789792606271, -73.91967159119565]\n",
      "( 17 / 306 ) American Restaurants in Fordham, Bronx:1\n",
      "['Bronx', 'Fordham', 40.86099679638654, -73.89642655981623]\n",
      "( 18 / 306 ) American Restaurants in East Tremont, Bronx:0\n",
      "['Bronx', 'East Tremont', 40.84269615786053, -73.88735617532338]\n",
      "( 19 / 306 ) American Restaurants in West Farms, Bronx:0\n",
      "['Bronx', 'West Farms', 40.83947505672653, -73.87774474910545]\n",
      "( 20 / 306 ) American Restaurants in High  Bridge, Bronx:0\n",
      "['Bronx', 'High  Bridge', 40.836623010706056, -73.9261020935813]\n",
      "( 21 / 306 ) American Restaurants in Melrose, Bronx:0\n",
      "['Bronx', 'Melrose', 40.819754370594936, -73.90942160757436]\n",
      "( 22 / 306 ) American Restaurants in Mott Haven, Bronx:0\n",
      "['Bronx', 'Mott Haven', 40.80623874935177, -73.91609987487575]\n",
      "( 23 / 306 ) American Restaurants in Port Morris, Bronx:0\n",
      "['Bronx', 'Port Morris', 40.801663627756206, -73.91322139386135]\n",
      "( 24 / 306 ) American Restaurants in Longwood, Bronx:0\n",
      "['Bronx', 'Longwood', 40.81509904545822, -73.8957882009446]\n",
      "( 25 / 306 ) American Restaurants in Hunts Point, Bronx:0\n",
      "['Bronx', 'Hunts Point', 40.80972987938709, -73.88331505955291]\n",
      "( 26 / 306 ) American Restaurants in Morrisania, Bronx:0\n",
      "['Bronx', 'Morrisania', 40.82359198585534, -73.90150648943059]\n",
      "( 27 / 306 ) American Restaurants in Soundview, Bronx:0\n",
      "['Bronx', 'Soundview', 40.821012197914015, -73.86574609554924]\n",
      "( 28 / 306 ) American Restaurants in Clason Point, Bronx:0\n",
      "['Bronx', 'Clason Point', 40.80655112003589, -73.85414416189266]\n",
      "( 29 / 306 ) American Restaurants in Throgs Neck, Bronx:0\n",
      "['Bronx', 'Throgs Neck', 40.81510925804005, -73.81635002158441]\n",
      "( 30 / 306 ) American Restaurants in Country Club, Bronx:0\n",
      "['Bronx', 'Country Club', 40.844245936947374, -73.8240992675385]\n",
      "( 31 / 306 ) American Restaurants in Parkchester, Bronx:1\n",
      "['Bronx', 'Parkchester', 40.837937822267286, -73.85600310535783]\n",
      "( 32 / 306 ) American Restaurants in Westchester Square, Bronx:0\n",
      "['Bronx', 'Westchester Square', 40.8406194964327, -73.84219407604444]\n",
      "( 33 / 306 ) American Restaurants in Van Nest, Bronx:0\n",
      "['Bronx', 'Van Nest', 40.84360847124718, -73.8662991807561]\n",
      "( 34 / 306 ) American Restaurants in Morris Park, Bronx:0\n",
      "['Bronx', 'Morris Park', 40.847549063536334, -73.85040178030421]\n",
      "( 35 / 306 ) American Restaurants in Belmont, Bronx:1\n",
      "['Bronx', 'Belmont', 40.85727710073895, -73.88845196134804]\n",
      "( 36 / 306 ) American Restaurants in Spuyten Duyvil, Bronx:0\n",
      "['Bronx', 'Spuyten Duyvil', 40.88139497727086, -73.91719048210393]\n",
      "( 37 / 306 ) American Restaurants in North Riverdale, Bronx:1\n",
      "['Bronx', 'North Riverdale', 40.90854282950666, -73.90453054908927]\n",
      "( 38 / 306 ) American Restaurants in Pelham Bay, Bronx:0\n",
      "['Bronx', 'Pelham Bay', 40.85064140940335, -73.8320737824047]\n",
      "( 39 / 306 ) American Restaurants in Schuylerville, Bronx:0\n",
      "['Bronx', 'Schuylerville', 40.82657951686922, -73.82620275994073]\n",
      "( 40 / 306 ) American Restaurants in Edgewater Park, Bronx:0\n",
      "['Bronx', 'Edgewater Park', 40.821986118163494, -73.81388514428619]\n",
      "( 41 / 306 ) American Restaurants in Castle Hill, Bronx:0\n",
      "['Bronx', 'Castle Hill', 40.819014376988314, -73.84802729582735]\n",
      "( 42 / 306 ) American Restaurants in Olinville, Bronx:0\n",
      "['Bronx', 'Olinville', 40.87137078192371, -73.86332361652777]\n",
      "( 43 / 306 ) American Restaurants in Pelham Gardens, Bronx:0\n",
      "['Bronx', 'Pelham Gardens', 40.86296562477998, -73.84161194831223]\n",
      "( 44 / 306 ) American Restaurants in Concourse, Bronx:0\n",
      "['Bronx', 'Concourse', 40.83428380733851, -73.91558941773444]\n",
      "( 45 / 306 ) American Restaurants in Unionport, Bronx:0\n",
      "['Bronx', 'Unionport', 40.82977429787161, -73.85053524451935]\n",
      "( 46 / 306 ) American Restaurants in Edenwald, Bronx:0\n",
      "['Bronx', 'Edenwald', 40.88456130303732, -73.84808271877168]\n",
      "( 47 / 306 ) American Restaurants in Bay Ridge, Brooklyn:0\n",
      "['Brooklyn', 'Bay Ridge', 40.625801065010656, -74.03062069353813]\n",
      "( 48 / 306 ) American Restaurants in Bensonhurst, Brooklyn:0\n",
      "['Brooklyn', 'Bensonhurst', 40.61100890202044, -73.99517998380729]\n",
      "( 49 / 306 ) American Restaurants in Sunset Park, Brooklyn:0\n",
      "['Brooklyn', 'Sunset Park', 40.64510294925429, -74.01031618527784]\n",
      "( 50 / 306 ) American Restaurants in Greenpoint, Brooklyn:0\n",
      "['Brooklyn', 'Greenpoint', 40.7302009848647, -73.95424093127393]\n",
      "( 51 / 306 ) American Restaurants in Gravesend, Brooklyn:0\n",
      "['Brooklyn', 'Gravesend', 40.59526001306593, -73.97347087708445]\n",
      "( 52 / 306 ) American Restaurants in Brighton Beach, Brooklyn:0\n",
      "['Brooklyn', 'Brighton Beach', 40.57682506566604, -73.96509448785336]\n",
      "( 53 / 306 ) American Restaurants in Sheepshead Bay, Brooklyn:1\n",
      "['Brooklyn', 'Sheepshead Bay', 40.58689012678384, -73.94318640482979]\n",
      "( 54 / 306 ) American Restaurants in Manhattan Terrace, Brooklyn:0\n",
      "['Brooklyn', 'Manhattan Terrace', 40.61443251335098, -73.95743840559939]\n",
      "( 55 / 306 ) American Restaurants in Flatbush, Brooklyn:0\n",
      "['Brooklyn', 'Flatbush', 40.63632589026677, -73.95840106533903]\n",
      "( 56 / 306 ) American Restaurants in Crown Heights, Brooklyn:0\n",
      "['Brooklyn', 'Crown Heights', 40.67082917695294, -73.94329119073582]\n",
      "( 57 / 306 ) American Restaurants in East Flatbush, Brooklyn:0\n",
      "['Brooklyn', 'East Flatbush', 40.64171776668961, -73.93610256185836]\n",
      "( 58 / 306 ) American Restaurants in Kensington, Brooklyn:0\n",
      "['Brooklyn', 'Kensington', 40.642381958003526, -73.98042110559474]\n",
      "( 59 / 306 ) American Restaurants in Windsor Terrace, Brooklyn:1\n",
      "['Brooklyn', 'Windsor Terrace', 40.65694583575104, -73.98007340430172]\n",
      "( 60 / 306 ) American Restaurants in Prospect Heights, Brooklyn:1\n",
      "['Brooklyn', 'Prospect Heights', 40.676822262254724, -73.9648592426269]\n",
      "( 61 / 306 ) American Restaurants in Brownsville, Brooklyn:0\n",
      "['Brooklyn', 'Brownsville', 40.66394994339755, -73.91023536176607]\n",
      "( 62 / 306 ) American Restaurants in Williamsburg, Brooklyn:0\n",
      "['Brooklyn', 'Williamsburg', 40.70714439344251, -73.95811529220927]\n",
      "( 63 / 306 ) American Restaurants in Bushwick, Brooklyn:0\n",
      "['Brooklyn', 'Bushwick', 40.69811611017901, -73.92525797487045]\n",
      "( 64 / 306 ) American Restaurants in Bedford Stuyvesant, Brooklyn:0\n",
      "['Brooklyn', 'Bedford Stuyvesant', 40.687231607720456, -73.94178488690297]\n",
      "( 65 / 306 ) American Restaurants in Brooklyn Heights, Brooklyn:1\n",
      "['Brooklyn', 'Brooklyn Heights', 40.695863722724084, -73.99378225496424]\n",
      "( 66 / 306 ) American Restaurants in Cobble Hill, Brooklyn:1\n",
      "['Brooklyn', 'Cobble Hill', 40.687919722485574, -73.99856139218463]\n",
      "( 67 / 306 ) American Restaurants in Carroll Gardens, Brooklyn:1\n",
      "['Brooklyn', 'Carroll Gardens', 40.680540231076485, -73.99465372828006]\n",
      "( 68 / 306 ) American Restaurants in Red Hook, Brooklyn:0\n",
      "['Brooklyn', 'Red Hook', 40.676253230250886, -74.0127589747356]\n",
      "( 69 / 306 ) American Restaurants in Gowanus, Brooklyn:0\n",
      "['Brooklyn', 'Gowanus', 40.673931143187154, -73.99444087145339]\n",
      "( 70 / 306 ) American Restaurants in Fort Greene, Brooklyn:1\n",
      "['Brooklyn', 'Fort Greene', 40.68852726018977, -73.97290574369092]\n",
      "( 71 / 306 ) American Restaurants in Park Slope, Brooklyn:0\n",
      "['Brooklyn', 'Park Slope', 40.67232052268197, -73.97705030183924]\n",
      "( 72 / 306 ) American Restaurants in Cypress Hills, Brooklyn:0\n",
      "['Brooklyn', 'Cypress Hills', 40.68239101144211, -73.87661596457296]\n",
      "( 73 / 306 ) American Restaurants in East New York, Brooklyn:0\n",
      "['Brooklyn', 'East New York', 40.669925700847045, -73.88069863917366]\n",
      "( 74 / 306 ) American Restaurants in Starrett City, Brooklyn:1\n",
      "['Brooklyn', 'Starrett City', 40.64758905230874, -73.87936970045875]\n",
      "( 75 / 306 ) American Restaurants in Canarsie, Brooklyn:0\n",
      "['Brooklyn', 'Canarsie', 40.63556432797428, -73.90209269778966]\n",
      "( 76 / 306 ) American Restaurants in Flatlands, Brooklyn:0\n",
      "['Brooklyn', 'Flatlands', 40.630446043757466, -73.92911302644674]\n",
      "( 77 / 306 ) American Restaurants in Mill Island, Brooklyn:0\n",
      "['Brooklyn', 'Mill Island', 40.606336421685626, -73.90818571777423]\n",
      "( 78 / 306 ) American Restaurants in Manhattan Beach, Brooklyn:0\n",
      "['Brooklyn', 'Manhattan Beach', 40.57791350308657, -73.94353722891886]\n",
      "( 79 / 306 ) American Restaurants in Coney Island, Brooklyn:0\n",
      "['Brooklyn', 'Coney Island', 40.57429256471601, -73.98868295821637]\n",
      "( 80 / 306 ) American Restaurants in Bath Beach, Brooklyn:0\n",
      "['Brooklyn', 'Bath Beach', 40.59951870282238, -73.99875221443519]\n",
      "( 81 / 306 ) American Restaurants in Borough Park, Brooklyn:0\n",
      "['Brooklyn', 'Borough Park', 40.633130512758015, -73.99049823044811]\n",
      "( 82 / 306 ) American Restaurants in Dyker Heights, Brooklyn:0\n",
      "['Brooklyn', 'Dyker Heights', 40.619219457722636, -74.01931375636022]\n",
      "( 83 / 306 ) American Restaurants in Gerritsen Beach, Brooklyn:0\n",
      "['Brooklyn', 'Gerritsen Beach', 40.590848433902046, -73.93010170691196]\n",
      "( 84 / 306 ) American Restaurants in Marine Park, Brooklyn:0\n",
      "['Brooklyn', 'Marine Park', 40.609747779894604, -73.93134404108497]\n",
      "( 85 / 306 ) American Restaurants in Clinton Hill, Brooklyn:0\n",
      "['Brooklyn', 'Clinton Hill', 40.693229421881504, -73.96784306216367]\n",
      "( 86 / 306 ) American Restaurants in Sea Gate, Brooklyn:0\n",
      "['Brooklyn', 'Sea Gate', 40.57637537890224, -74.0078731120024]\n",
      "( 87 / 306 ) American Restaurants in Downtown, Brooklyn:1\n",
      "['Brooklyn', 'Downtown', 40.69084402109802, -73.98346337431099]\n",
      "( 88 / 306 ) American Restaurants in Boerum Hill, Brooklyn:1\n",
      "['Brooklyn', 'Boerum Hill', 40.685682912091444, -73.98374824115798]\n",
      "( 89 / 306 ) American Restaurants in Prospect Lefferts Gardens, Brooklyn:0\n",
      "['Brooklyn', 'Prospect Lefferts Gardens', 40.658420017469815, -73.95489867077713]\n",
      "( 90 / 306 ) American Restaurants in Ocean Hill, Brooklyn:0\n",
      "['Brooklyn', 'Ocean Hill', 40.678402554795355, -73.91306831787395]\n",
      "( 91 / 306 ) American Restaurants in City Line, Brooklyn:0\n",
      "['Brooklyn', 'City Line', 40.67856995727479, -73.86797598081334]\n",
      "( 92 / 306 ) American Restaurants in Bergen Beach, Brooklyn:0\n",
      "['Brooklyn', 'Bergen Beach', 40.61514955045308, -73.89855633630317]\n",
      "( 93 / 306 ) American Restaurants in Midwood, Brooklyn:0\n",
      "['Brooklyn', 'Midwood', 40.62559589869843, -73.95759523489838]\n",
      "( 94 / 306 ) American Restaurants in Prospect Park South, Brooklyn:0\n",
      "['Brooklyn', 'Prospect Park South', 40.647008603185185, -73.96261316716048]\n",
      "( 95 / 306 ) American Restaurants in Georgetown, Brooklyn:0\n",
      "['Brooklyn', 'Georgetown', 40.62384524478419, -73.91607483951324]\n",
      "( 96 / 306 ) American Restaurants in East Williamsburg, Brooklyn:0\n",
      "['Brooklyn', 'East Williamsburg', 40.70849241041548, -73.93885815269195]\n",
      "( 97 / 306 ) American Restaurants in North Side, Brooklyn:4\n",
      "['Brooklyn', 'North Side', 40.714822906532014, -73.95880857587582]\n",
      "( 98 / 306 ) American Restaurants in South Side, Brooklyn:2\n",
      "['Brooklyn', 'South Side', 40.71086147265064, -73.95800095153331]\n",
      "( 99 / 306 ) American Restaurants in Ocean Parkway, Brooklyn:0\n",
      "['Brooklyn', 'Ocean Parkway', 40.61305976667942, -73.96836678035541]\n",
      "( 100 / 306 ) American Restaurants in Fort Hamilton, Brooklyn:0\n",
      "['Brooklyn', 'Fort Hamilton', 40.61476812694226, -74.03197914537984]\n",
      "( 101 / 306 ) American Restaurants in Chinatown, Manhattan:4\n",
      "['Manhattan', 'Chinatown', 40.71561842231432, -73.99427936255978]\n",
      "( 102 / 306 ) American Restaurants in Washington Heights, Manhattan:1\n",
      "['Manhattan', 'Washington Heights', 40.85190252555305, -73.93690027985234]\n",
      "( 103 / 306 ) American Restaurants in Inwood, Manhattan:1\n",
      "['Manhattan', 'Inwood', 40.86768396449915, -73.92121042203897]\n",
      "( 104 / 306 ) American Restaurants in Hamilton Heights, Manhattan:0\n",
      "['Manhattan', 'Hamilton Heights', 40.823604284811935, -73.94968791883366]\n",
      "( 105 / 306 ) American Restaurants in Manhattanville, Manhattan:1\n",
      "['Manhattan', 'Manhattanville', 40.8169344294978, -73.9573853935188]\n",
      "( 106 / 306 ) American Restaurants in Central Harlem, Manhattan:1\n",
      "['Manhattan', 'Central Harlem', 40.81597606742414, -73.94321112603905]\n",
      "( 107 / 306 ) American Restaurants in East Harlem, Manhattan:0\n",
      "['Manhattan', 'East Harlem', 40.79224946663033, -73.94418223148524]\n",
      "( 108 / 306 ) American Restaurants in Upper East Side, Manhattan:4\n",
      "['Manhattan', 'Upper East Side', 40.775638573301805, -73.96050763135]\n",
      "( 109 / 306 ) American Restaurants in Yorkville, Manhattan:0\n",
      "['Manhattan', 'Yorkville', 40.775929849884875, -73.94711784471826]\n",
      "( 110 / 306 ) American Restaurants in Lenox Hill, Manhattan:0\n",
      "['Manhattan', 'Lenox Hill', 40.76811265828733, -73.9588596881376]\n",
      "( 111 / 306 ) American Restaurants in Roosevelt Island, Manhattan:0\n",
      "['Manhattan', 'Roosevelt Island', 40.76215960576283, -73.94916769227953]\n",
      "( 112 / 306 ) American Restaurants in Upper West Side, Manhattan:2\n",
      "['Manhattan', 'Upper West Side', 40.787657998534854, -73.97705923630603]\n",
      "( 113 / 306 ) American Restaurants in Lincoln Square, Manhattan:3\n",
      "['Manhattan', 'Lincoln Square', 40.77352888942166, -73.98533777001262]\n",
      "( 114 / 306 ) American Restaurants in Clinton, Manhattan:5\n",
      "['Manhattan', 'Clinton', 40.75910089146212, -73.99611936309479]\n",
      "( 115 / 306 ) American Restaurants in Midtown, Manhattan:1\n",
      "['Manhattan', 'Midtown', 40.75469110270623, -73.98166882730304]\n",
      "( 116 / 306 ) American Restaurants in Murray Hill, Manhattan:2\n",
      "['Manhattan', 'Murray Hill', 40.748303077252174, -73.97833207924127]\n",
      "( 117 / 306 ) American Restaurants in Chelsea, Manhattan:3\n",
      "['Manhattan', 'Chelsea', 40.744034706747975, -74.00311633472813]\n",
      "( 118 / 306 ) American Restaurants in Greenwich Village, Manhattan:2\n",
      "['Manhattan', 'Greenwich Village', 40.72693288536128, -73.99991402945902]\n",
      "( 119 / 306 ) American Restaurants in East Village, Manhattan:1\n",
      "['Manhattan', 'East Village', 40.727846777270244, -73.98222616506416]\n",
      "( 120 / 306 ) American Restaurants in Lower East Side, Manhattan:0\n",
      "['Manhattan', 'Lower East Side', 40.71780674892765, -73.98089031999291]\n",
      "( 121 / 306 ) American Restaurants in Tribeca, Manhattan:4\n",
      "['Manhattan', 'Tribeca', 40.721521967443216, -74.01068328559087]\n",
      "( 122 / 306 ) American Restaurants in Little Italy, Manhattan:0\n",
      "['Manhattan', 'Little Italy', 40.71932379395907, -73.99730467208073]\n",
      "( 123 / 306 ) American Restaurants in Soho, Manhattan:0\n",
      "['Manhattan', 'Soho', 40.72218384131794, -74.00065666959759]\n",
      "( 124 / 306 ) American Restaurants in West Village, Manhattan:2\n",
      "['Manhattan', 'West Village', 40.73443393572434, -74.00617998126812]\n",
      "( 125 / 306 ) American Restaurants in Manhattan Valley, Manhattan:0\n",
      "['Manhattan', 'Manhattan Valley', 40.797307041702865, -73.96428617740655]\n",
      "( 126 / 306 ) American Restaurants in Morningside Heights, Manhattan:3\n",
      "['Manhattan', 'Morningside Heights', 40.807999738165826, -73.96389627905332]\n",
      "( 127 / 306 ) American Restaurants in Gramercy, Manhattan:1\n",
      "['Manhattan', 'Gramercy', 40.737209832715, -73.98137594833541]\n",
      "( 128 / 306 ) American Restaurants in Battery Park City, Manhattan:1\n",
      "['Manhattan', 'Battery Park City', 40.71193198394565, -74.01686930508617]\n",
      "( 129 / 306 ) American Restaurants in Financial District, Manhattan:4\n",
      "['Manhattan', 'Financial District', 40.70710710727048, -74.0106654452127]\n",
      "( 130 / 306 ) American Restaurants in Astoria, Queens:0\n",
      "['Queens', 'Astoria', 40.76850859335492, -73.91565374304234]\n",
      "( 131 / 306 ) American Restaurants in Woodside, Queens:3\n",
      "['Queens', 'Woodside', 40.74634908860222, -73.90184166838284]\n",
      "( 132 / 306 ) American Restaurants in Jackson Heights, Queens:0\n",
      "['Queens', 'Jackson Heights', 40.75198138007367, -73.88282109164365]\n",
      "( 133 / 306 ) American Restaurants in Elmhurst, Queens:0\n",
      "['Queens', 'Elmhurst', 40.744048505122024, -73.88165622288388]\n",
      "( 134 / 306 ) American Restaurants in Howard Beach, Queens:0\n",
      "['Queens', 'Howard Beach', 40.65422527738487, -73.8381376460028]\n",
      "( 135 / 306 ) American Restaurants in Corona, Queens:0\n",
      "['Queens', 'Corona', 40.74238175015667, -73.85682497345258]\n",
      "( 136 / 306 ) American Restaurants in Forest Hills, Queens:0\n",
      "['Queens', 'Forest Hills', 40.72526378216503, -73.84447500788983]\n",
      "( 137 / 306 ) American Restaurants in Kew Gardens, Queens:0\n",
      "['Queens', 'Kew Gardens', 40.7051790354148, -73.82981905825703]\n",
      "( 138 / 306 ) American Restaurants in Richmond Hill, Queens:0\n",
      "['Queens', 'Richmond Hill', 40.69794731471763, -73.83183321446887]\n",
      "( 139 / 306 ) American Restaurants in Flushing, Queens:0\n",
      "['Queens', 'Flushing', 40.76445419697846, -73.83177300329582]\n",
      "( 140 / 306 ) American Restaurants in Long Island City, Queens:1\n",
      "['Queens', 'Long Island City', 40.75021734610528, -73.93920223915505]\n",
      "( 141 / 306 ) American Restaurants in Sunnyside, Queens:0\n",
      "['Queens', 'Sunnyside', 40.74017628351924, -73.92691617561577]\n",
      "( 142 / 306 ) American Restaurants in East Elmhurst, Queens:0\n",
      "['Queens', 'East Elmhurst', 40.76407323883091, -73.86704147658772]\n",
      "( 143 / 306 ) American Restaurants in Maspeth, Queens:0\n",
      "['Queens', 'Maspeth', 40.725427374093606, -73.89621713626859]\n",
      "( 144 / 306 ) American Restaurants in Ridgewood, Queens:0\n",
      "['Queens', 'Ridgewood', 40.70832315613858, -73.90143517559589]\n",
      "( 145 / 306 ) American Restaurants in Glendale, Queens:0\n",
      "['Queens', 'Glendale', 40.70276242967838, -73.87074167435605]\n",
      "( 146 / 306 ) American Restaurants in Rego Park, Queens:1\n",
      "['Queens', 'Rego Park', 40.72897409480735, -73.8578268690537]\n",
      "( 147 / 306 ) American Restaurants in Woodhaven, Queens:0\n",
      "['Queens', 'Woodhaven', 40.68988687915789, -73.8581104655432]\n",
      "( 148 / 306 ) American Restaurants in Ozone Park, Queens:0\n",
      "['Queens', 'Ozone Park', 40.680708468265415, -73.84320266173447]\n",
      "( 149 / 306 ) American Restaurants in South Ozone Park, Queens:0\n",
      "['Queens', 'South Ozone Park', 40.66854957767195, -73.80986478649041]\n",
      "( 150 / 306 ) American Restaurants in College Point, Queens:0\n",
      "['Queens', 'College Point', 40.784902749260205, -73.84304528896125]\n",
      "( 151 / 306 ) American Restaurants in Whitestone, Queens:0\n",
      "['Queens', 'Whitestone', 40.78129076602694, -73.81420216610863]\n",
      "( 152 / 306 ) American Restaurants in Bayside, Queens:2\n",
      "['Queens', 'Bayside', 40.76604063281064, -73.7742736306867]\n",
      "( 153 / 306 ) American Restaurants in Auburndale, Queens:0\n",
      "['Queens', 'Auburndale', 40.76172954903262, -73.79176243728061]\n",
      "( 154 / 306 ) American Restaurants in Little Neck, Queens:0\n",
      "['Queens', 'Little Neck', 40.7708261928267, -73.7388977558074]\n",
      "( 155 / 306 ) American Restaurants in Douglaston, Queens:0\n",
      "['Queens', 'Douglaston', 40.76684609790763, -73.7424982072733]\n",
      "( 156 / 306 ) American Restaurants in Glen Oaks, Queens:0\n",
      "['Queens', 'Glen Oaks', 40.74944079974332, -73.71548118999145]\n",
      "( 157 / 306 ) American Restaurants in Bellerose, Queens:1\n",
      "['Queens', 'Bellerose', 40.72857318176675, -73.72012814826903]\n",
      "( 158 / 306 ) American Restaurants in Kew Gardens Hills, Queens:0\n",
      "['Queens', 'Kew Gardens Hills', 40.722578244228046, -73.82087764933566]\n",
      "( 159 / 306 ) American Restaurants in Fresh Meadows, Queens:0\n",
      "['Queens', 'Fresh Meadows', 40.7343944653313, -73.78271337003264]\n",
      "( 160 / 306 ) American Restaurants in Briarwood, Queens:0\n",
      "['Queens', 'Briarwood', 40.71093547252271, -73.81174822458634]\n",
      "( 161 / 306 ) American Restaurants in Jamaica Center, Queens:0\n",
      "['Queens', 'Jamaica Center', 40.70465736068717, -73.79690165888289]\n",
      "( 162 / 306 ) American Restaurants in Oakland Gardens, Queens:0\n",
      "['Queens', 'Oakland Gardens', 40.74561857141855, -73.75494976234332]\n",
      "( 163 / 306 ) American Restaurants in Queens Village, Queens:0\n",
      "['Queens', 'Queens Village', 40.718893092167356, -73.73871484578424]\n",
      "( 164 / 306 ) American Restaurants in Hollis, Queens:0\n",
      "['Queens', 'Hollis', 40.71124344191904, -73.75925009335594]\n",
      "( 165 / 306 ) American Restaurants in South Jamaica, Queens:0\n",
      "['Queens', 'South Jamaica', 40.696911253789885, -73.7904261313554]\n",
      "( 166 / 306 ) American Restaurants in St. Albans, Queens:0\n",
      "['Queens', 'St. Albans', 40.69444538522359, -73.75867603727717]\n",
      "( 167 / 306 ) American Restaurants in Rochdale, Queens:0\n",
      "['Queens', 'Rochdale', 40.67521139591733, -73.77258787620906]\n",
      "( 168 / 306 ) American Restaurants in Springfield Gardens, Queens:0\n",
      "['Queens', 'Springfield Gardens', 40.666230490368584, -73.76042092682287]\n",
      "( 169 / 306 ) American Restaurants in Cambria Heights, Queens:0\n",
      "['Queens', 'Cambria Heights', 40.692774639160845, -73.73526873708026]\n",
      "( 170 / 306 ) American Restaurants in Rosedale, Queens:0\n",
      "['Queens', 'Rosedale', 40.659816433428084, -73.73526079428278]\n",
      "( 171 / 306 ) American Restaurants in Far Rockaway, Queens:0\n",
      "['Queens', 'Far Rockaway', 40.603134432500894, -73.75497968043872]\n",
      "( 172 / 306 ) American Restaurants in Broad Channel, Queens:0\n",
      "['Queens', 'Broad Channel', 40.60302658351238, -73.8200548911032]\n",
      "( 173 / 306 ) American Restaurants in Breezy Point, Queens:0\n",
      "['Queens', 'Breezy Point', 40.55740128845452, -73.92551196994168]\n",
      "( 174 / 306 ) American Restaurants in Steinway, Queens:0\n",
      "['Queens', 'Steinway', 40.775923015642896, -73.90228960391673]\n",
      "( 175 / 306 ) American Restaurants in Beechhurst, Queens:0\n",
      "['Queens', 'Beechhurst', 40.79278140360048, -73.80436451720988]\n",
      "( 176 / 306 ) American Restaurants in Bay Terrace, Queens:1\n",
      "['Queens', 'Bay Terrace', 40.782842806245554, -73.7768022262158]\n",
      "( 177 / 306 ) American Restaurants in Edgemere, Queens:0\n",
      "['Queens', 'Edgemere', 40.595641807368494, -73.77613282391705]\n",
      "( 178 / 306 ) American Restaurants in Arverne, Queens:0\n",
      "['Queens', 'Arverne', 40.58914394372971, -73.79199233136943]\n",
      "( 179 / 306 ) American Restaurants in Rockaway Beach, Queens:0\n",
      "['Queens', 'Rockaway Beach', 40.582801696845586, -73.82236121088751]\n",
      "( 180 / 306 ) American Restaurants in Neponsit, Queens:0\n",
      "['Queens', 'Neponsit', 40.572036730217015, -73.85754672410827]\n",
      "( 181 / 306 ) American Restaurants in Murray Hill, Queens:0\n",
      "['Queens', 'Murray Hill', 40.764126122614066, -73.81276269135866]\n",
      "( 182 / 306 ) American Restaurants in Floral Park, Queens:0\n",
      "['Queens', 'Floral Park', 40.741378421945434, -73.70884705889246]\n",
      "( 183 / 306 ) American Restaurants in Holliswood, Queens:0\n",
      "['Queens', 'Holliswood', 40.7209572076444, -73.76714166714729]\n",
      "( 184 / 306 ) American Restaurants in Jamaica Estates, Queens:0\n",
      "['Queens', 'Jamaica Estates', 40.71680483014613, -73.7872269693666]\n",
      "( 185 / 306 ) American Restaurants in Queensboro Hill, Queens:0\n",
      "['Queens', 'Queensboro Hill', 40.7445723092867, -73.82580915110559]\n",
      "( 186 / 306 ) American Restaurants in Hillcrest, Queens:0\n",
      "['Queens', 'Hillcrest', 40.723824901829204, -73.79760300912672]\n",
      "( 187 / 306 ) American Restaurants in Ravenswood, Queens:0\n",
      "['Queens', 'Ravenswood', 40.761704526054146, -73.93157506072878]\n",
      "( 188 / 306 ) American Restaurants in Lindenwood, Queens:0\n",
      "['Queens', 'Lindenwood', 40.66391841925139, -73.84963782402441]\n",
      "( 189 / 306 ) American Restaurants in Laurelton, Queens:0\n",
      "['Queens', 'Laurelton', 40.66788389660247, -73.74025607989822]\n",
      "( 190 / 306 ) American Restaurants in Lefrak City, Queens:0\n",
      "['Queens', 'Lefrak City', 40.736074570830795, -73.8625247141374]\n",
      "( 191 / 306 ) American Restaurants in Belle Harbor, Queens:0\n",
      "['Queens', 'Belle Harbor', 40.57615556543109, -73.8540175039252]\n",
      "( 192 / 306 ) American Restaurants in Rockaway Park, Queens:0\n",
      "['Queens', 'Rockaway Park', 40.58034295646131, -73.84153370226186]\n",
      "( 193 / 306 ) American Restaurants in Somerville, Queens:0\n",
      "['Queens', 'Somerville', 40.59771061565768, -73.79664750844047]\n",
      "( 194 / 306 ) American Restaurants in Brookville, Queens:0\n",
      "['Queens', 'Brookville', 40.66000322733613, -73.75175310731153]\n",
      "( 195 / 306 ) American Restaurants in Bellaire, Queens:0\n",
      "['Queens', 'Bellaire', 40.73301404027834, -73.73889198912481]\n",
      "( 196 / 306 ) American Restaurants in North Corona, Queens:0\n",
      "['Queens', 'North Corona', 40.7540709990489, -73.85751790676447]\n",
      "( 197 / 306 ) American Restaurants in Forest Hills Gardens, Queens:0\n",
      "['Queens', 'Forest Hills Gardens', 40.7146110815117, -73.8410221123401]\n",
      "( 198 / 306 ) American Restaurants in St. George, Staten Island:1\n",
      "['Staten Island', 'St. George', 40.6449815710044, -74.07935312512797]\n",
      "( 199 / 306 ) American Restaurants in New Brighton, Staten Island:0\n",
      "['Staten Island', 'New Brighton', 40.64061455913511, -74.08701650516625]\n",
      "( 200 / 306 ) American Restaurants in Stapleton, Staten Island:0\n",
      "['Staten Island', 'Stapleton', 40.62692762538176, -74.07790192660066]\n",
      "( 201 / 306 ) American Restaurants in Rosebank, Staten Island:0\n",
      "['Staten Island', 'Rosebank', 40.61530494652761, -74.06980526716141]\n",
      "( 202 / 306 ) American Restaurants in West Brighton, Staten Island:1\n",
      "['Staten Island', 'West Brighton', 40.63187892654607, -74.1071817826561]\n",
      "( 203 / 306 ) American Restaurants in Grymes Hill, Staten Island:0\n",
      "['Staten Island', 'Grymes Hill', 40.624184791313006, -74.08724819983729]\n",
      "( 204 / 306 ) American Restaurants in Todt Hill, Staten Island:0\n",
      "['Staten Island', 'Todt Hill', 40.59706851814673, -74.1113288180088]\n",
      "( 205 / 306 ) American Restaurants in South Beach, Staten Island:0\n",
      "['Staten Island', 'South Beach', 40.58024741350956, -74.0795529253982]\n",
      "( 206 / 306 ) American Restaurants in Port Richmond, Staten Island:0\n",
      "['Staten Island', 'Port Richmond', 40.63366930554365, -74.12943426797008]\n",
      "( 207 / 306 ) American Restaurants in Mariner's Harbor, Staten Island:0\n",
      "['Staten Island', \"Mariner's Harbor\", 40.632546390481124, -74.15008537046981]\n",
      "( 208 / 306 ) American Restaurants in Port Ivory, Staten Island:0\n",
      "['Staten Island', 'Port Ivory', 40.63968297845542, -74.17464532993542]\n",
      "( 209 / 306 ) American Restaurants in Castleton Corners, Staten Island:0\n",
      "['Staten Island', 'Castleton Corners', 40.61333593766742, -74.11918058534842]\n",
      "( 210 / 306 ) American Restaurants in New Springville, Staten Island:0\n",
      "['Staten Island', 'New Springville', 40.594252379161695, -74.16496031329827]\n",
      "( 211 / 306 ) American Restaurants in Travis, Staten Island:0\n",
      "['Staten Island', 'Travis', 40.58631375103281, -74.19073717538116]\n",
      "( 212 / 306 ) American Restaurants in New Dorp, Staten Island:0\n",
      "['Staten Island', 'New Dorp', 40.57257231820632, -74.1164794360638]\n",
      "( 213 / 306 ) American Restaurants in Oakwood, Staten Island:0\n",
      "['Staten Island', 'Oakwood', 40.5584622432888, -74.12156593771896]\n",
      "( 214 / 306 ) American Restaurants in Great Kills, Staten Island:0\n",
      "['Staten Island', 'Great Kills', 40.549480228713605, -74.14932381490992]\n",
      "( 215 / 306 ) American Restaurants in Eltingville, Staten Island:0\n",
      "['Staten Island', 'Eltingville', 40.542230747450745, -74.1643308041936]\n",
      "( 216 / 306 ) American Restaurants in Annadale, Staten Island:0\n",
      "['Staten Island', 'Annadale', 40.53811417474507, -74.17854866165878]\n",
      "( 217 / 306 ) American Restaurants in Woodrow, Staten Island:0\n",
      "['Staten Island', 'Woodrow', 40.541967622888755, -74.20524582480326]\n",
      "( 218 / 306 ) American Restaurants in Tottenville, Staten Island:0\n",
      "['Staten Island', 'Tottenville', 40.50533376115642, -74.24656934235283]\n",
      "( 219 / 306 ) American Restaurants in Tompkinsville, Staten Island:0\n",
      "['Staten Island', 'Tompkinsville', 40.637316067110326, -74.08055351790115]\n",
      "( 220 / 306 ) American Restaurants in Silver Lake, Staten Island:1\n",
      "['Staten Island', 'Silver Lake', 40.61919310792676, -74.09629029235458]\n",
      "( 221 / 306 ) American Restaurants in Sunnyside, Staten Island:1\n",
      "['Staten Island', 'Sunnyside', 40.61276015756489, -74.0971255217853]\n",
      "( 222 / 306 ) American Restaurants in Ditmas Park, Brooklyn:0\n",
      "['Brooklyn', 'Ditmas Park', 40.643675183340974, -73.96101312466779]\n",
      "( 223 / 306 ) American Restaurants in Wingate, Brooklyn:0\n",
      "['Brooklyn', 'Wingate', 40.66094656188111, -73.93718680559314]\n",
      "( 224 / 306 ) American Restaurants in Rugby, Brooklyn:0\n",
      "['Brooklyn', 'Rugby', 40.655572313280764, -73.92688212616955]\n",
      "( 225 / 306 ) American Restaurants in Park Hill, Staten Island:0\n",
      "['Staten Island', 'Park Hill', 40.60919044434558, -74.08015734936296]\n",
      "( 226 / 306 ) American Restaurants in Westerleigh, Staten Island:0\n",
      "['Staten Island', 'Westerleigh', 40.62109047275409, -74.13304143951704]\n",
      "( 227 / 306 ) American Restaurants in Graniteville, Staten Island:0\n",
      "['Staten Island', 'Graniteville', 40.620171512231884, -74.15315246387762]\n",
      "( 228 / 306 ) American Restaurants in Arlington, Staten Island:1\n",
      "['Staten Island', 'Arlington', 40.63532509911492, -74.16510420241124]\n",
      "( 229 / 306 ) American Restaurants in Arrochar, Staten Island:0\n",
      "['Staten Island', 'Arrochar', 40.596312571276734, -74.06712363225574]\n",
      "( 230 / 306 ) American Restaurants in Grasmere, Staten Island:0\n",
      "['Staten Island', 'Grasmere', 40.59826835959991, -74.0766743627905]\n",
      "( 231 / 306 ) American Restaurants in Old Town, Staten Island:1\n",
      "['Staten Island', 'Old Town', 40.59632891379513, -74.08751118005578]\n",
      "( 232 / 306 ) American Restaurants in Dongan Hills, Staten Island:0\n",
      "['Staten Island', 'Dongan Hills', 40.588672948199275, -74.09639905312521]\n",
      "( 233 / 306 ) American Restaurants in Midland Beach, Staten Island:0\n",
      "['Staten Island', 'Midland Beach', 40.57352690574283, -74.09348266303591]\n",
      "( 234 / 306 ) American Restaurants in Grant City, Staten Island:0\n",
      "['Staten Island', 'Grant City', 40.57621558711788, -74.10585598545434]\n",
      "( 235 / 306 ) American Restaurants in New Dorp Beach, Staten Island:0\n",
      "['Staten Island', 'New Dorp Beach', 40.56425549307335, -74.10432707469124]\n",
      "( 236 / 306 ) American Restaurants in Bay Terrace, Staten Island:0\n",
      "['Staten Island', 'Bay Terrace', 40.55398800858462, -74.13916622175768]\n",
      "( 237 / 306 ) American Restaurants in Huguenot, Staten Island:0\n",
      "['Staten Island', 'Huguenot', 40.531911920489605, -74.19174105747814]\n",
      "( 238 / 306 ) American Restaurants in Pleasant Plains, Staten Island:0\n",
      "['Staten Island', 'Pleasant Plains', 40.524699376118136, -74.21983106616777]\n",
      "( 239 / 306 ) American Restaurants in Butler Manor, Staten Island:0\n",
      "['Staten Island', 'Butler Manor', 40.50608165346305, -74.22950350260027]\n",
      "( 240 / 306 ) American Restaurants in Charleston, Staten Island:0\n",
      "['Staten Island', 'Charleston', 40.53053148283314, -74.23215775896526]\n",
      "( 241 / 306 ) American Restaurants in Rossville, Staten Island:1\n",
      "['Staten Island', 'Rossville', 40.54940400650072, -74.21572851113952]\n",
      "( 242 / 306 ) American Restaurants in Arden Heights, Staten Island:0\n",
      "['Staten Island', 'Arden Heights', 40.54928582278321, -74.18588674583893]\n",
      "( 243 / 306 ) American Restaurants in Greenridge, Staten Island:0\n",
      "['Staten Island', 'Greenridge', 40.555295236173194, -74.17079414786092]\n",
      "( 244 / 306 ) American Restaurants in Heartland Village, Staten Island:0\n",
      "['Staten Island', 'Heartland Village', 40.58913894875281, -74.15902208156601]\n",
      "( 245 / 306 ) American Restaurants in Chelsea, Staten Island:0\n",
      "['Staten Island', 'Chelsea', 40.59472602746295, -74.1895604551969]\n",
      "( 246 / 306 ) American Restaurants in Bloomfield, Staten Island:0\n",
      "['Staten Island', 'Bloomfield', 40.60577868452358, -74.18725638381567]\n",
      "( 247 / 306 ) American Restaurants in Bulls Head, Staten Island:1\n",
      "['Staten Island', 'Bulls Head', 40.6095918004203, -74.15940948657122]\n",
      "( 248 / 306 ) American Restaurants in Carnegie Hill, Manhattan:1\n",
      "['Manhattan', 'Carnegie Hill', 40.7826825671257, -73.95325646837112]\n",
      "( 249 / 306 ) American Restaurants in Noho, Manhattan:1\n",
      "['Manhattan', 'Noho', 40.72325901885768, -73.98843368023597]\n",
      "( 250 / 306 ) American Restaurants in Civic Center, Manhattan:2\n",
      "['Manhattan', 'Civic Center', 40.71522892046282, -74.00541529873355]\n",
      "( 251 / 306 ) American Restaurants in Midtown South, Manhattan:3\n",
      "['Manhattan', 'Midtown South', 40.7485096643122, -73.98871313285247]\n",
      "( 252 / 306 ) American Restaurants in Richmond Town, Staten Island:0\n",
      "['Staten Island', 'Richmond Town', 40.56960594275505, -74.1340572986257]\n",
      "( 253 / 306 ) American Restaurants in Shore Acres, Staten Island:0\n",
      "['Staten Island', 'Shore Acres', 40.60971934079284, -74.06667766061771]\n",
      "( 254 / 306 ) American Restaurants in Clifton, Staten Island:0\n",
      "['Staten Island', 'Clifton', 40.61917845202843, -74.072642445484]\n",
      "( 255 / 306 ) American Restaurants in Concord, Staten Island:0\n",
      "['Staten Island', 'Concord', 40.6044731896879, -74.08402364740358]\n",
      "( 256 / 306 ) American Restaurants in Emerson Hill, Staten Island:0\n",
      "['Staten Island', 'Emerson Hill', 40.606794394801, -74.09776206972522]\n",
      "( 257 / 306 ) American Restaurants in Randall Manor, Staten Island:0\n",
      "['Staten Island', 'Randall Manor', 40.63563000681151, -74.09805062373887]\n",
      "( 258 / 306 ) American Restaurants in Howland Hook, Staten Island:0\n",
      "['Staten Island', 'Howland Hook', 40.63843283794795, -74.18622331749823]\n",
      "( 259 / 306 ) American Restaurants in Elm Park, Staten Island:0\n",
      "['Staten Island', 'Elm Park', 40.630146741193826, -74.1418167896889]\n",
      "( 260 / 306 ) American Restaurants in Remsen Village, Brooklyn:0\n",
      "['Brooklyn', 'Remsen Village', 40.652117451793494, -73.91665331978048]\n",
      "( 261 / 306 ) American Restaurants in New Lots, Brooklyn:0\n",
      "['Brooklyn', 'New Lots', 40.6627442796966, -73.88511776379292]\n",
      "( 262 / 306 ) American Restaurants in Paerdegat Basin, Brooklyn:0\n",
      "['Brooklyn', 'Paerdegat Basin', 40.63131755039667, -73.90233474295836]\n",
      "( 263 / 306 ) American Restaurants in Mill Basin, Brooklyn:0\n",
      "['Brooklyn', 'Mill Basin', 40.61597423962336, -73.91515391550404]\n",
      "( 264 / 306 ) American Restaurants in Jamaica Hills, Queens:0\n",
      "['Queens', 'Jamaica Hills', 40.71145964370482, -73.79646462081593]\n",
      "( 265 / 306 ) American Restaurants in Utopia, Queens:0\n",
      "['Queens', 'Utopia', 40.73350025429757, -73.79671678028349]\n",
      "( 266 / 306 ) American Restaurants in Pomonok, Queens:0\n",
      "['Queens', 'Pomonok', 40.73493618075478, -73.80486120040537]\n",
      "( 267 / 306 ) American Restaurants in Astoria Heights, Queens:0\n",
      "['Queens', 'Astoria Heights', 40.7703173929982, -73.89467996270574]\n",
      "( 268 / 306 ) American Restaurants in Claremont Village, Bronx:0\n",
      "['Bronx', 'Claremont Village', 40.83142834161548, -73.90119903387667]\n",
      "( 269 / 306 ) American Restaurants in Concourse Village, Bronx:0\n",
      "['Bronx', 'Concourse Village', 40.824780490842905, -73.91584652759009]\n",
      "( 270 / 306 ) American Restaurants in Mount Eden, Bronx:0\n",
      "['Bronx', 'Mount Eden', 40.84382617671654, -73.91655551964419]\n",
      "( 271 / 306 ) American Restaurants in Mount Hope, Bronx:0\n",
      "['Bronx', 'Mount Hope', 40.84884160724665, -73.90829930881988]\n",
      "( 272 / 306 ) American Restaurants in Sutton Place, Manhattan:1\n",
      "['Manhattan', 'Sutton Place', 40.76028033131374, -73.96355614094303]\n",
      "( 273 / 306 ) American Restaurants in Hunters Point, Queens:3\n",
      "['Queens', 'Hunters Point', 40.743414090073536, -73.95386782130745]\n",
      "( 274 / 306 ) American Restaurants in Turtle Bay, Manhattan:1\n",
      "['Manhattan', 'Turtle Bay', 40.75204236950722, -73.96770824581834]\n",
      "( 275 / 306 ) American Restaurants in Tudor City, Manhattan:1\n",
      "['Manhattan', 'Tudor City', 40.746917410740195, -73.97121928722265]\n",
      "( 276 / 306 ) American Restaurants in Stuyvesant Town, Manhattan:0\n",
      "['Manhattan', 'Stuyvesant Town', 40.73099955477061, -73.97405170469203]\n",
      "( 277 / 306 ) American Restaurants in Flatiron, Manhattan:5\n",
      "['Manhattan', 'Flatiron', 40.739673047638426, -73.9909471052826]\n",
      "( 278 / 306 ) American Restaurants in Sunnyside Gardens, Queens:1\n",
      "['Queens', 'Sunnyside Gardens', 40.74565180608076, -73.91819286431682]\n",
      "( 279 / 306 ) American Restaurants in Blissville, Queens:0\n",
      "['Queens', 'Blissville', 40.73725071694497, -73.93244235260178]\n",
      "( 280 / 306 ) American Restaurants in Fulton Ferry, Brooklyn:2\n",
      "['Brooklyn', 'Fulton Ferry', 40.70328109093014, -73.99550751888415]\n",
      "( 281 / 306 ) American Restaurants in Vinegar Hill, Brooklyn:1\n",
      "['Brooklyn', 'Vinegar Hill', 40.70332149882874, -73.98111603592393]\n",
      "( 282 / 306 ) American Restaurants in Weeksville, Brooklyn:1\n",
      "['Brooklyn', 'Weeksville', 40.67503986503237, -73.93053108817338]\n",
      "( 283 / 306 ) American Restaurants in Broadway Junction, Brooklyn:0\n",
      "['Brooklyn', 'Broadway Junction', 40.67786104769531, -73.90331684852599]\n",
      "( 284 / 306 ) American Restaurants in Dumbo, Brooklyn:3\n",
      "['Brooklyn', 'Dumbo', 40.70317632822692, -73.9887528074504]\n",
      "( 285 / 306 ) American Restaurants in Manor Heights, Staten Island:1\n",
      "['Staten Island', 'Manor Heights', 40.60180957631444, -74.12059399718001]\n",
      "( 286 / 306 ) American Restaurants in Willowbrook, Staten Island:0\n",
      "['Staten Island', 'Willowbrook', 40.60370692627371, -74.13208447484298]\n",
      "( 287 / 306 ) American Restaurants in Sandy Ground, Staten Island:0\n",
      "['Staten Island', 'Sandy Ground', 40.541139922091766, -74.21776636068567]\n",
      "( 288 / 306 ) American Restaurants in Egbertville, Staten Island:0\n",
      "['Staten Island', 'Egbertville', 40.579118742961214, -74.12727240604946]\n",
      "( 289 / 306 ) American Restaurants in Roxbury, Queens:0\n",
      "['Queens', 'Roxbury', 40.56737588957032, -73.89213760232822]\n",
      "( 290 / 306 ) American Restaurants in Homecrest, Brooklyn:1\n",
      "['Brooklyn', 'Homecrest', 40.598525095137255, -73.95918459428702]\n",
      "( 291 / 306 ) American Restaurants in Middle Village, Queens:0\n",
      "['Queens', 'Middle Village', 40.716414511158185, -73.88114319200604]\n",
      "( 292 / 306 ) American Restaurants in Prince's Bay, Staten Island:0\n",
      "['Staten Island', \"Prince's Bay\", 40.52626406734812, -74.20152556457658]\n",
      "( 293 / 306 ) American Restaurants in Lighthouse Hill, Staten Island:0\n",
      "['Staten Island', 'Lighthouse Hill', 40.57650629379489, -74.13792663771568]\n"
     ]
    },
    {
     "ename": "KeyboardInterrupt",
     "evalue": "",
     "output_type": "error",
     "traceback": [
      "\u001b[1;31m---------------------------------------------------------------------------\u001b[0m",
      "\u001b[1;31mKeyboardInterrupt\u001b[0m                         Traceback (most recent call last)",
      "\u001b[1;32m<ipython-input-22-46632800cbfa>\u001b[0m in \u001b[0;36m<module>\u001b[1;34m\u001b[0m\n\u001b[0;32m      6\u001b[0m \u001b[1;32mfor\u001b[0m \u001b[0mrow\u001b[0m \u001b[1;32min\u001b[0m \u001b[0mdata\u001b[0m\u001b[1;33m.\u001b[0m\u001b[0mvalues\u001b[0m\u001b[1;33m.\u001b[0m\u001b[0mtolist\u001b[0m\u001b[1;33m(\u001b[0m\u001b[1;33m)\u001b[0m\u001b[1;33m:\u001b[0m\u001b[1;33m\u001b[0m\u001b[1;33m\u001b[0m\u001b[0m\n\u001b[0;32m      7\u001b[0m     \u001b[0mBorough\u001b[0m\u001b[1;33m,\u001b[0m \u001b[0mNeighborhood\u001b[0m\u001b[1;33m,\u001b[0m \u001b[0mLatitude\u001b[0m\u001b[1;33m,\u001b[0m \u001b[0mLongitude\u001b[0m\u001b[1;33m=\u001b[0m\u001b[0mrow\u001b[0m\u001b[1;33m\u001b[0m\u001b[1;33m\u001b[0m\u001b[0m\n\u001b[1;32m----> 8\u001b[1;33m     \u001b[0mvenues\u001b[0m \u001b[1;33m=\u001b[0m \u001b[0mget_venues\u001b[0m\u001b[1;33m(\u001b[0m\u001b[0mLatitude\u001b[0m\u001b[1;33m,\u001b[0m\u001b[0mLongitude\u001b[0m\u001b[1;33m)\u001b[0m\u001b[1;33m\u001b[0m\u001b[1;33m\u001b[0m\u001b[0m\n\u001b[0m\u001b[0;32m      9\u001b[0m     \u001b[0mamerican_restaurants\u001b[0m\u001b[1;33m=\u001b[0m\u001b[0mvenues\u001b[0m\u001b[1;33m[\u001b[0m\u001b[0mvenues\u001b[0m\u001b[1;33m[\u001b[0m\u001b[1;34m'Category'\u001b[0m\u001b[1;33m]\u001b[0m\u001b[1;33m==\u001b[0m\u001b[1;34m'American Restaurant'\u001b[0m\u001b[1;33m]\u001b[0m\u001b[1;33m\u001b[0m\u001b[1;33m\u001b[0m\u001b[0m\n\u001b[0;32m     10\u001b[0m     \u001b[0mprint\u001b[0m\u001b[1;33m(\u001b[0m\u001b[1;34m'('\u001b[0m\u001b[1;33m,\u001b[0m\u001b[0mcount\u001b[0m\u001b[1;33m,\u001b[0m\u001b[1;34m'/'\u001b[0m\u001b[1;33m,\u001b[0m\u001b[0mlen\u001b[0m\u001b[1;33m(\u001b[0m\u001b[0mdata\u001b[0m\u001b[1;33m)\u001b[0m\u001b[1;33m,\u001b[0m\u001b[1;34m')'\u001b[0m\u001b[1;33m,\u001b[0m\u001b[1;34m'American Restaurants in '\u001b[0m\u001b[1;33m+\u001b[0m\u001b[0mNeighborhood\u001b[0m\u001b[1;33m+\u001b[0m\u001b[1;34m', '\u001b[0m\u001b[1;33m+\u001b[0m\u001b[0mBorough\u001b[0m\u001b[1;33m+\u001b[0m\u001b[1;34m':'\u001b[0m\u001b[1;33m+\u001b[0m\u001b[0mstr\u001b[0m\u001b[1;33m(\u001b[0m\u001b[0mlen\u001b[0m\u001b[1;33m(\u001b[0m\u001b[0mamerican_restaurants\u001b[0m\u001b[1;33m)\u001b[0m\u001b[1;33m)\u001b[0m\u001b[1;33m)\u001b[0m\u001b[1;33m\u001b[0m\u001b[1;33m\u001b[0m\u001b[0m\n",
      "\u001b[1;32m<ipython-input-21-39732b75effc>\u001b[0m in \u001b[0;36mget_venues\u001b[1;34m(lat, lng)\u001b[0m\n\u001b[0;32m     14\u001b[0m             LIMIT)\n\u001b[0;32m     15\u001b[0m     \u001b[1;31m# get all the data\u001b[0m\u001b[1;33m\u001b[0m\u001b[1;33m\u001b[0m\u001b[1;33m\u001b[0m\u001b[0m\n\u001b[1;32m---> 16\u001b[1;33m     \u001b[0mresults\u001b[0m \u001b[1;33m=\u001b[0m \u001b[0mrequests\u001b[0m\u001b[1;33m.\u001b[0m\u001b[0mget\u001b[0m\u001b[1;33m(\u001b[0m\u001b[0murl\u001b[0m\u001b[1;33m)\u001b[0m\u001b[1;33m.\u001b[0m\u001b[0mjson\u001b[0m\u001b[1;33m(\u001b[0m\u001b[1;33m)\u001b[0m\u001b[1;33m\u001b[0m\u001b[1;33m\u001b[0m\u001b[0m\n\u001b[0m\u001b[0;32m     17\u001b[0m     \u001b[0mvenue_data\u001b[0m\u001b[1;33m=\u001b[0m\u001b[0mresults\u001b[0m\u001b[1;33m[\u001b[0m\u001b[1;34m'response'\u001b[0m\u001b[1;33m]\u001b[0m\u001b[1;33m[\u001b[0m\u001b[1;34m'groups'\u001b[0m\u001b[1;33m]\u001b[0m\u001b[1;33m[\u001b[0m\u001b[1;36m0\u001b[0m\u001b[1;33m]\u001b[0m\u001b[1;33m[\u001b[0m\u001b[1;34m'items'\u001b[0m\u001b[1;33m]\u001b[0m\u001b[1;33m\u001b[0m\u001b[1;33m\u001b[0m\u001b[0m\n\u001b[0;32m     18\u001b[0m     \u001b[0mvenue_details\u001b[0m\u001b[1;33m=\u001b[0m\u001b[1;33m[\u001b[0m\u001b[1;33m]\u001b[0m\u001b[1;33m\u001b[0m\u001b[1;33m\u001b[0m\u001b[0m\n",
      "\u001b[1;32mc:\\users\\user\\appdata\\local\\programs\\python\\python39\\lib\\site-packages\\requests\\api.py\u001b[0m in \u001b[0;36mget\u001b[1;34m(url, params, **kwargs)\u001b[0m\n\u001b[0;32m     74\u001b[0m \u001b[1;33m\u001b[0m\u001b[0m\n\u001b[0;32m     75\u001b[0m     \u001b[0mkwargs\u001b[0m\u001b[1;33m.\u001b[0m\u001b[0msetdefault\u001b[0m\u001b[1;33m(\u001b[0m\u001b[1;34m'allow_redirects'\u001b[0m\u001b[1;33m,\u001b[0m \u001b[1;32mTrue\u001b[0m\u001b[1;33m)\u001b[0m\u001b[1;33m\u001b[0m\u001b[1;33m\u001b[0m\u001b[0m\n\u001b[1;32m---> 76\u001b[1;33m     \u001b[1;32mreturn\u001b[0m \u001b[0mrequest\u001b[0m\u001b[1;33m(\u001b[0m\u001b[1;34m'get'\u001b[0m\u001b[1;33m,\u001b[0m \u001b[0murl\u001b[0m\u001b[1;33m,\u001b[0m \u001b[0mparams\u001b[0m\u001b[1;33m=\u001b[0m\u001b[0mparams\u001b[0m\u001b[1;33m,\u001b[0m \u001b[1;33m**\u001b[0m\u001b[0mkwargs\u001b[0m\u001b[1;33m)\u001b[0m\u001b[1;33m\u001b[0m\u001b[1;33m\u001b[0m\u001b[0m\n\u001b[0m\u001b[0;32m     77\u001b[0m \u001b[1;33m\u001b[0m\u001b[0m\n\u001b[0;32m     78\u001b[0m \u001b[1;33m\u001b[0m\u001b[0m\n",
      "\u001b[1;32mc:\\users\\user\\appdata\\local\\programs\\python\\python39\\lib\\site-packages\\requests\\api.py\u001b[0m in \u001b[0;36mrequest\u001b[1;34m(method, url, **kwargs)\u001b[0m\n\u001b[0;32m     59\u001b[0m     \u001b[1;31m# cases, and look like a memory leak in others.\u001b[0m\u001b[1;33m\u001b[0m\u001b[1;33m\u001b[0m\u001b[1;33m\u001b[0m\u001b[0m\n\u001b[0;32m     60\u001b[0m     \u001b[1;32mwith\u001b[0m \u001b[0msessions\u001b[0m\u001b[1;33m.\u001b[0m\u001b[0mSession\u001b[0m\u001b[1;33m(\u001b[0m\u001b[1;33m)\u001b[0m \u001b[1;32mas\u001b[0m \u001b[0msession\u001b[0m\u001b[1;33m:\u001b[0m\u001b[1;33m\u001b[0m\u001b[1;33m\u001b[0m\u001b[0m\n\u001b[1;32m---> 61\u001b[1;33m         \u001b[1;32mreturn\u001b[0m \u001b[0msession\u001b[0m\u001b[1;33m.\u001b[0m\u001b[0mrequest\u001b[0m\u001b[1;33m(\u001b[0m\u001b[0mmethod\u001b[0m\u001b[1;33m=\u001b[0m\u001b[0mmethod\u001b[0m\u001b[1;33m,\u001b[0m \u001b[0murl\u001b[0m\u001b[1;33m=\u001b[0m\u001b[0murl\u001b[0m\u001b[1;33m,\u001b[0m \u001b[1;33m**\u001b[0m\u001b[0mkwargs\u001b[0m\u001b[1;33m)\u001b[0m\u001b[1;33m\u001b[0m\u001b[1;33m\u001b[0m\u001b[0m\n\u001b[0m\u001b[0;32m     62\u001b[0m \u001b[1;33m\u001b[0m\u001b[0m\n\u001b[0;32m     63\u001b[0m \u001b[1;33m\u001b[0m\u001b[0m\n",
      "\u001b[1;32mc:\\users\\user\\appdata\\local\\programs\\python\\python39\\lib\\site-packages\\requests\\sessions.py\u001b[0m in \u001b[0;36mrequest\u001b[1;34m(self, method, url, params, data, headers, cookies, files, auth, timeout, allow_redirects, proxies, hooks, stream, verify, cert, json)\u001b[0m\n\u001b[0;32m    540\u001b[0m         }\n\u001b[0;32m    541\u001b[0m         \u001b[0msend_kwargs\u001b[0m\u001b[1;33m.\u001b[0m\u001b[0mupdate\u001b[0m\u001b[1;33m(\u001b[0m\u001b[0msettings\u001b[0m\u001b[1;33m)\u001b[0m\u001b[1;33m\u001b[0m\u001b[1;33m\u001b[0m\u001b[0m\n\u001b[1;32m--> 542\u001b[1;33m         \u001b[0mresp\u001b[0m \u001b[1;33m=\u001b[0m \u001b[0mself\u001b[0m\u001b[1;33m.\u001b[0m\u001b[0msend\u001b[0m\u001b[1;33m(\u001b[0m\u001b[0mprep\u001b[0m\u001b[1;33m,\u001b[0m \u001b[1;33m**\u001b[0m\u001b[0msend_kwargs\u001b[0m\u001b[1;33m)\u001b[0m\u001b[1;33m\u001b[0m\u001b[1;33m\u001b[0m\u001b[0m\n\u001b[0m\u001b[0;32m    543\u001b[0m \u001b[1;33m\u001b[0m\u001b[0m\n\u001b[0;32m    544\u001b[0m         \u001b[1;32mreturn\u001b[0m \u001b[0mresp\u001b[0m\u001b[1;33m\u001b[0m\u001b[1;33m\u001b[0m\u001b[0m\n",
      "\u001b[1;32mc:\\users\\user\\appdata\\local\\programs\\python\\python39\\lib\\site-packages\\requests\\sessions.py\u001b[0m in \u001b[0;36msend\u001b[1;34m(self, request, **kwargs)\u001b[0m\n\u001b[0;32m    653\u001b[0m \u001b[1;33m\u001b[0m\u001b[0m\n\u001b[0;32m    654\u001b[0m         \u001b[1;31m# Send the request\u001b[0m\u001b[1;33m\u001b[0m\u001b[1;33m\u001b[0m\u001b[1;33m\u001b[0m\u001b[0m\n\u001b[1;32m--> 655\u001b[1;33m         \u001b[0mr\u001b[0m \u001b[1;33m=\u001b[0m \u001b[0madapter\u001b[0m\u001b[1;33m.\u001b[0m\u001b[0msend\u001b[0m\u001b[1;33m(\u001b[0m\u001b[0mrequest\u001b[0m\u001b[1;33m,\u001b[0m \u001b[1;33m**\u001b[0m\u001b[0mkwargs\u001b[0m\u001b[1;33m)\u001b[0m\u001b[1;33m\u001b[0m\u001b[1;33m\u001b[0m\u001b[0m\n\u001b[0m\u001b[0;32m    656\u001b[0m \u001b[1;33m\u001b[0m\u001b[0m\n\u001b[0;32m    657\u001b[0m         \u001b[1;31m# Total elapsed time of the request (approximately)\u001b[0m\u001b[1;33m\u001b[0m\u001b[1;33m\u001b[0m\u001b[1;33m\u001b[0m\u001b[0m\n",
      "\u001b[1;32mc:\\users\\user\\appdata\\local\\programs\\python\\python39\\lib\\site-packages\\requests\\adapters.py\u001b[0m in \u001b[0;36msend\u001b[1;34m(self, request, stream, timeout, verify, cert, proxies)\u001b[0m\n\u001b[0;32m    437\u001b[0m         \u001b[1;32mtry\u001b[0m\u001b[1;33m:\u001b[0m\u001b[1;33m\u001b[0m\u001b[1;33m\u001b[0m\u001b[0m\n\u001b[0;32m    438\u001b[0m             \u001b[1;32mif\u001b[0m \u001b[1;32mnot\u001b[0m \u001b[0mchunked\u001b[0m\u001b[1;33m:\u001b[0m\u001b[1;33m\u001b[0m\u001b[1;33m\u001b[0m\u001b[0m\n\u001b[1;32m--> 439\u001b[1;33m                 resp = conn.urlopen(\n\u001b[0m\u001b[0;32m    440\u001b[0m                     \u001b[0mmethod\u001b[0m\u001b[1;33m=\u001b[0m\u001b[0mrequest\u001b[0m\u001b[1;33m.\u001b[0m\u001b[0mmethod\u001b[0m\u001b[1;33m,\u001b[0m\u001b[1;33m\u001b[0m\u001b[1;33m\u001b[0m\u001b[0m\n\u001b[0;32m    441\u001b[0m                     \u001b[0murl\u001b[0m\u001b[1;33m=\u001b[0m\u001b[0murl\u001b[0m\u001b[1;33m,\u001b[0m\u001b[1;33m\u001b[0m\u001b[1;33m\u001b[0m\u001b[0m\n",
      "\u001b[1;32mc:\\users\\user\\appdata\\local\\programs\\python\\python39\\lib\\site-packages\\urllib3\\connectionpool.py\u001b[0m in \u001b[0;36murlopen\u001b[1;34m(self, method, url, body, headers, retries, redirect, assert_same_host, timeout, pool_timeout, release_conn, chunked, body_pos, **response_kw)\u001b[0m\n\u001b[0;32m    697\u001b[0m \u001b[1;33m\u001b[0m\u001b[0m\n\u001b[0;32m    698\u001b[0m             \u001b[1;31m# Make the request on the httplib connection object.\u001b[0m\u001b[1;33m\u001b[0m\u001b[1;33m\u001b[0m\u001b[1;33m\u001b[0m\u001b[0m\n\u001b[1;32m--> 699\u001b[1;33m             httplib_response = self._make_request(\n\u001b[0m\u001b[0;32m    700\u001b[0m                 \u001b[0mconn\u001b[0m\u001b[1;33m,\u001b[0m\u001b[1;33m\u001b[0m\u001b[1;33m\u001b[0m\u001b[0m\n\u001b[0;32m    701\u001b[0m                 \u001b[0mmethod\u001b[0m\u001b[1;33m,\u001b[0m\u001b[1;33m\u001b[0m\u001b[1;33m\u001b[0m\u001b[0m\n",
      "\u001b[1;32mc:\\users\\user\\appdata\\local\\programs\\python\\python39\\lib\\site-packages\\urllib3\\connectionpool.py\u001b[0m in \u001b[0;36m_make_request\u001b[1;34m(self, conn, method, url, timeout, chunked, **httplib_request_kw)\u001b[0m\n\u001b[0;32m    443\u001b[0m                     \u001b[1;31m# Python 3 (including for exceptions like SystemExit).\u001b[0m\u001b[1;33m\u001b[0m\u001b[1;33m\u001b[0m\u001b[1;33m\u001b[0m\u001b[0m\n\u001b[0;32m    444\u001b[0m                     \u001b[1;31m# Otherwise it looks like a bug in the code.\u001b[0m\u001b[1;33m\u001b[0m\u001b[1;33m\u001b[0m\u001b[1;33m\u001b[0m\u001b[0m\n\u001b[1;32m--> 445\u001b[1;33m                     \u001b[0msix\u001b[0m\u001b[1;33m.\u001b[0m\u001b[0mraise_from\u001b[0m\u001b[1;33m(\u001b[0m\u001b[0me\u001b[0m\u001b[1;33m,\u001b[0m \u001b[1;32mNone\u001b[0m\u001b[1;33m)\u001b[0m\u001b[1;33m\u001b[0m\u001b[1;33m\u001b[0m\u001b[0m\n\u001b[0m\u001b[0;32m    446\u001b[0m         \u001b[1;32mexcept\u001b[0m \u001b[1;33m(\u001b[0m\u001b[0mSocketTimeout\u001b[0m\u001b[1;33m,\u001b[0m \u001b[0mBaseSSLError\u001b[0m\u001b[1;33m,\u001b[0m \u001b[0mSocketError\u001b[0m\u001b[1;33m)\u001b[0m \u001b[1;32mas\u001b[0m \u001b[0me\u001b[0m\u001b[1;33m:\u001b[0m\u001b[1;33m\u001b[0m\u001b[1;33m\u001b[0m\u001b[0m\n\u001b[0;32m    447\u001b[0m             \u001b[0mself\u001b[0m\u001b[1;33m.\u001b[0m\u001b[0m_raise_timeout\u001b[0m\u001b[1;33m(\u001b[0m\u001b[0merr\u001b[0m\u001b[1;33m=\u001b[0m\u001b[0me\u001b[0m\u001b[1;33m,\u001b[0m \u001b[0murl\u001b[0m\u001b[1;33m=\u001b[0m\u001b[0murl\u001b[0m\u001b[1;33m,\u001b[0m \u001b[0mtimeout_value\u001b[0m\u001b[1;33m=\u001b[0m\u001b[0mread_timeout\u001b[0m\u001b[1;33m)\u001b[0m\u001b[1;33m\u001b[0m\u001b[1;33m\u001b[0m\u001b[0m\n",
      "\u001b[1;32mc:\\users\\user\\appdata\\local\\programs\\python\\python39\\lib\\site-packages\\urllib3\\packages\\six.py\u001b[0m in \u001b[0;36mraise_from\u001b[1;34m(value, from_value)\u001b[0m\n",
      "\u001b[1;32mc:\\users\\user\\appdata\\local\\programs\\python\\python39\\lib\\site-packages\\urllib3\\connectionpool.py\u001b[0m in \u001b[0;36m_make_request\u001b[1;34m(self, conn, method, url, timeout, chunked, **httplib_request_kw)\u001b[0m\n\u001b[0;32m    438\u001b[0m                 \u001b[1;31m# Python 3\u001b[0m\u001b[1;33m\u001b[0m\u001b[1;33m\u001b[0m\u001b[1;33m\u001b[0m\u001b[0m\n\u001b[0;32m    439\u001b[0m                 \u001b[1;32mtry\u001b[0m\u001b[1;33m:\u001b[0m\u001b[1;33m\u001b[0m\u001b[1;33m\u001b[0m\u001b[0m\n\u001b[1;32m--> 440\u001b[1;33m                     \u001b[0mhttplib_response\u001b[0m \u001b[1;33m=\u001b[0m \u001b[0mconn\u001b[0m\u001b[1;33m.\u001b[0m\u001b[0mgetresponse\u001b[0m\u001b[1;33m(\u001b[0m\u001b[1;33m)\u001b[0m\u001b[1;33m\u001b[0m\u001b[1;33m\u001b[0m\u001b[0m\n\u001b[0m\u001b[0;32m    441\u001b[0m                 \u001b[1;32mexcept\u001b[0m \u001b[0mBaseException\u001b[0m \u001b[1;32mas\u001b[0m \u001b[0me\u001b[0m\u001b[1;33m:\u001b[0m\u001b[1;33m\u001b[0m\u001b[1;33m\u001b[0m\u001b[0m\n\u001b[0;32m    442\u001b[0m                     \u001b[1;31m# Remove the TypeError from the exception chain in\u001b[0m\u001b[1;33m\u001b[0m\u001b[1;33m\u001b[0m\u001b[1;33m\u001b[0m\u001b[0m\n",
      "\u001b[1;32mc:\\users\\user\\appdata\\local\\programs\\python\\python39\\lib\\http\\client.py\u001b[0m in \u001b[0;36mgetresponse\u001b[1;34m(self)\u001b[0m\n\u001b[0;32m   1343\u001b[0m         \u001b[1;32mtry\u001b[0m\u001b[1;33m:\u001b[0m\u001b[1;33m\u001b[0m\u001b[1;33m\u001b[0m\u001b[0m\n\u001b[0;32m   1344\u001b[0m             \u001b[1;32mtry\u001b[0m\u001b[1;33m:\u001b[0m\u001b[1;33m\u001b[0m\u001b[1;33m\u001b[0m\u001b[0m\n\u001b[1;32m-> 1345\u001b[1;33m                 \u001b[0mresponse\u001b[0m\u001b[1;33m.\u001b[0m\u001b[0mbegin\u001b[0m\u001b[1;33m(\u001b[0m\u001b[1;33m)\u001b[0m\u001b[1;33m\u001b[0m\u001b[1;33m\u001b[0m\u001b[0m\n\u001b[0m\u001b[0;32m   1346\u001b[0m             \u001b[1;32mexcept\u001b[0m \u001b[0mConnectionError\u001b[0m\u001b[1;33m:\u001b[0m\u001b[1;33m\u001b[0m\u001b[1;33m\u001b[0m\u001b[0m\n\u001b[0;32m   1347\u001b[0m                 \u001b[0mself\u001b[0m\u001b[1;33m.\u001b[0m\u001b[0mclose\u001b[0m\u001b[1;33m(\u001b[0m\u001b[1;33m)\u001b[0m\u001b[1;33m\u001b[0m\u001b[1;33m\u001b[0m\u001b[0m\n",
      "\u001b[1;32mc:\\users\\user\\appdata\\local\\programs\\python\\python39\\lib\\http\\client.py\u001b[0m in \u001b[0;36mbegin\u001b[1;34m(self)\u001b[0m\n\u001b[0;32m    305\u001b[0m         \u001b[1;31m# read until we get a non-100 response\u001b[0m\u001b[1;33m\u001b[0m\u001b[1;33m\u001b[0m\u001b[1;33m\u001b[0m\u001b[0m\n\u001b[0;32m    306\u001b[0m         \u001b[1;32mwhile\u001b[0m \u001b[1;32mTrue\u001b[0m\u001b[1;33m:\u001b[0m\u001b[1;33m\u001b[0m\u001b[1;33m\u001b[0m\u001b[0m\n\u001b[1;32m--> 307\u001b[1;33m             \u001b[0mversion\u001b[0m\u001b[1;33m,\u001b[0m \u001b[0mstatus\u001b[0m\u001b[1;33m,\u001b[0m \u001b[0mreason\u001b[0m \u001b[1;33m=\u001b[0m \u001b[0mself\u001b[0m\u001b[1;33m.\u001b[0m\u001b[0m_read_status\u001b[0m\u001b[1;33m(\u001b[0m\u001b[1;33m)\u001b[0m\u001b[1;33m\u001b[0m\u001b[1;33m\u001b[0m\u001b[0m\n\u001b[0m\u001b[0;32m    308\u001b[0m             \u001b[1;32mif\u001b[0m \u001b[0mstatus\u001b[0m \u001b[1;33m!=\u001b[0m \u001b[0mCONTINUE\u001b[0m\u001b[1;33m:\u001b[0m\u001b[1;33m\u001b[0m\u001b[1;33m\u001b[0m\u001b[0m\n\u001b[0;32m    309\u001b[0m                 \u001b[1;32mbreak\u001b[0m\u001b[1;33m\u001b[0m\u001b[1;33m\u001b[0m\u001b[0m\n",
      "\u001b[1;32mc:\\users\\user\\appdata\\local\\programs\\python\\python39\\lib\\http\\client.py\u001b[0m in \u001b[0;36m_read_status\u001b[1;34m(self)\u001b[0m\n\u001b[0;32m    266\u001b[0m \u001b[1;33m\u001b[0m\u001b[0m\n\u001b[0;32m    267\u001b[0m     \u001b[1;32mdef\u001b[0m \u001b[0m_read_status\u001b[0m\u001b[1;33m(\u001b[0m\u001b[0mself\u001b[0m\u001b[1;33m)\u001b[0m\u001b[1;33m:\u001b[0m\u001b[1;33m\u001b[0m\u001b[1;33m\u001b[0m\u001b[0m\n\u001b[1;32m--> 268\u001b[1;33m         \u001b[0mline\u001b[0m \u001b[1;33m=\u001b[0m \u001b[0mstr\u001b[0m\u001b[1;33m(\u001b[0m\u001b[0mself\u001b[0m\u001b[1;33m.\u001b[0m\u001b[0mfp\u001b[0m\u001b[1;33m.\u001b[0m\u001b[0mreadline\u001b[0m\u001b[1;33m(\u001b[0m\u001b[0m_MAXLINE\u001b[0m \u001b[1;33m+\u001b[0m \u001b[1;36m1\u001b[0m\u001b[1;33m)\u001b[0m\u001b[1;33m,\u001b[0m \u001b[1;34m\"iso-8859-1\"\u001b[0m\u001b[1;33m)\u001b[0m\u001b[1;33m\u001b[0m\u001b[1;33m\u001b[0m\u001b[0m\n\u001b[0m\u001b[0;32m    269\u001b[0m         \u001b[1;32mif\u001b[0m \u001b[0mlen\u001b[0m\u001b[1;33m(\u001b[0m\u001b[0mline\u001b[0m\u001b[1;33m)\u001b[0m \u001b[1;33m>\u001b[0m \u001b[0m_MAXLINE\u001b[0m\u001b[1;33m:\u001b[0m\u001b[1;33m\u001b[0m\u001b[1;33m\u001b[0m\u001b[0m\n\u001b[0;32m    270\u001b[0m             \u001b[1;32mraise\u001b[0m \u001b[0mLineTooLong\u001b[0m\u001b[1;33m(\u001b[0m\u001b[1;34m\"status line\"\u001b[0m\u001b[1;33m)\u001b[0m\u001b[1;33m\u001b[0m\u001b[1;33m\u001b[0m\u001b[0m\n",
      "\u001b[1;32mc:\\users\\user\\appdata\\local\\programs\\python\\python39\\lib\\socket.py\u001b[0m in \u001b[0;36mreadinto\u001b[1;34m(self, b)\u001b[0m\n\u001b[0;32m    702\u001b[0m         \u001b[1;32mwhile\u001b[0m \u001b[1;32mTrue\u001b[0m\u001b[1;33m:\u001b[0m\u001b[1;33m\u001b[0m\u001b[1;33m\u001b[0m\u001b[0m\n\u001b[0;32m    703\u001b[0m             \u001b[1;32mtry\u001b[0m\u001b[1;33m:\u001b[0m\u001b[1;33m\u001b[0m\u001b[1;33m\u001b[0m\u001b[0m\n\u001b[1;32m--> 704\u001b[1;33m                 \u001b[1;32mreturn\u001b[0m \u001b[0mself\u001b[0m\u001b[1;33m.\u001b[0m\u001b[0m_sock\u001b[0m\u001b[1;33m.\u001b[0m\u001b[0mrecv_into\u001b[0m\u001b[1;33m(\u001b[0m\u001b[0mb\u001b[0m\u001b[1;33m)\u001b[0m\u001b[1;33m\u001b[0m\u001b[1;33m\u001b[0m\u001b[0m\n\u001b[0m\u001b[0;32m    705\u001b[0m             \u001b[1;32mexcept\u001b[0m \u001b[0mtimeout\u001b[0m\u001b[1;33m:\u001b[0m\u001b[1;33m\u001b[0m\u001b[1;33m\u001b[0m\u001b[0m\n\u001b[0;32m    706\u001b[0m                 \u001b[0mself\u001b[0m\u001b[1;33m.\u001b[0m\u001b[0m_timeout_occurred\u001b[0m \u001b[1;33m=\u001b[0m \u001b[1;32mTrue\u001b[0m\u001b[1;33m\u001b[0m\u001b[1;33m\u001b[0m\u001b[0m\n",
      "\u001b[1;32mc:\\users\\user\\appdata\\local\\programs\\python\\python39\\lib\\ssl.py\u001b[0m in \u001b[0;36mrecv_into\u001b[1;34m(self, buffer, nbytes, flags)\u001b[0m\n\u001b[0;32m   1239\u001b[0m                   \u001b[1;34m\"non-zero flags not allowed in calls to recv_into() on %s\"\u001b[0m \u001b[1;33m%\u001b[0m\u001b[1;33m\u001b[0m\u001b[1;33m\u001b[0m\u001b[0m\n\u001b[0;32m   1240\u001b[0m                   self.__class__)\n\u001b[1;32m-> 1241\u001b[1;33m             \u001b[1;32mreturn\u001b[0m \u001b[0mself\u001b[0m\u001b[1;33m.\u001b[0m\u001b[0mread\u001b[0m\u001b[1;33m(\u001b[0m\u001b[0mnbytes\u001b[0m\u001b[1;33m,\u001b[0m \u001b[0mbuffer\u001b[0m\u001b[1;33m)\u001b[0m\u001b[1;33m\u001b[0m\u001b[1;33m\u001b[0m\u001b[0m\n\u001b[0m\u001b[0;32m   1242\u001b[0m         \u001b[1;32melse\u001b[0m\u001b[1;33m:\u001b[0m\u001b[1;33m\u001b[0m\u001b[1;33m\u001b[0m\u001b[0m\n\u001b[0;32m   1243\u001b[0m             \u001b[1;32mreturn\u001b[0m \u001b[0msuper\u001b[0m\u001b[1;33m(\u001b[0m\u001b[1;33m)\u001b[0m\u001b[1;33m.\u001b[0m\u001b[0mrecv_into\u001b[0m\u001b[1;33m(\u001b[0m\u001b[0mbuffer\u001b[0m\u001b[1;33m,\u001b[0m \u001b[0mnbytes\u001b[0m\u001b[1;33m,\u001b[0m \u001b[0mflags\u001b[0m\u001b[1;33m)\u001b[0m\u001b[1;33m\u001b[0m\u001b[1;33m\u001b[0m\u001b[0m\n",
      "\u001b[1;32mc:\\users\\user\\appdata\\local\\programs\\python\\python39\\lib\\ssl.py\u001b[0m in \u001b[0;36mread\u001b[1;34m(self, len, buffer)\u001b[0m\n\u001b[0;32m   1097\u001b[0m         \u001b[1;32mtry\u001b[0m\u001b[1;33m:\u001b[0m\u001b[1;33m\u001b[0m\u001b[1;33m\u001b[0m\u001b[0m\n\u001b[0;32m   1098\u001b[0m             \u001b[1;32mif\u001b[0m \u001b[0mbuffer\u001b[0m \u001b[1;32mis\u001b[0m \u001b[1;32mnot\u001b[0m \u001b[1;32mNone\u001b[0m\u001b[1;33m:\u001b[0m\u001b[1;33m\u001b[0m\u001b[1;33m\u001b[0m\u001b[0m\n\u001b[1;32m-> 1099\u001b[1;33m                 \u001b[1;32mreturn\u001b[0m \u001b[0mself\u001b[0m\u001b[1;33m.\u001b[0m\u001b[0m_sslobj\u001b[0m\u001b[1;33m.\u001b[0m\u001b[0mread\u001b[0m\u001b[1;33m(\u001b[0m\u001b[0mlen\u001b[0m\u001b[1;33m,\u001b[0m \u001b[0mbuffer\u001b[0m\u001b[1;33m)\u001b[0m\u001b[1;33m\u001b[0m\u001b[1;33m\u001b[0m\u001b[0m\n\u001b[0m\u001b[0;32m   1100\u001b[0m             \u001b[1;32melse\u001b[0m\u001b[1;33m:\u001b[0m\u001b[1;33m\u001b[0m\u001b[1;33m\u001b[0m\u001b[0m\n\u001b[0;32m   1101\u001b[0m                 \u001b[1;32mreturn\u001b[0m \u001b[0mself\u001b[0m\u001b[1;33m.\u001b[0m\u001b[0m_sslobj\u001b[0m\u001b[1;33m.\u001b[0m\u001b[0mread\u001b[0m\u001b[1;33m(\u001b[0m\u001b[0mlen\u001b[0m\u001b[1;33m)\u001b[0m\u001b[1;33m\u001b[0m\u001b[1;33m\u001b[0m\u001b[0m\n",
      "\u001b[1;31mKeyboardInterrupt\u001b[0m: "
     ]
    }
   ],
   "source": [
    "# queens has most neighborhoods\n",
    "# prepare neighborhood list that contains american restaurants\n",
    "column_names=['Borough', 'Neighborhood', 'ID','Name']\n",
    "american_rest_ny=pd.DataFrame(columns=column_names)\n",
    "count=1\n",
    "for row in data.values.tolist():\n",
    "    Borough, Neighborhood, Latitude, Longitude=row\n",
    "    venues = get_venues(Latitude,Longitude)\n",
    "    american_restaurants=venues[venues['Category']=='American Restaurant']   \n",
    "    print('(',count,'/',len(data),')','American Restaurants in '+Neighborhood+', '+Borough+':'+str(len(american_restaurants)))\n",
    "    print(row)\n",
    "    for resturant_detail in american_restaurants.values.tolist():\n",
    "        id, name , category=resturant_detail\n",
    "        american_rest_ny = american_rest_ny.append({'Borough': Borough,\n",
    "                                                'Neighborhood': Neighborhood, \n",
    "                                                'ID': id,\n",
    "                                                'Name' : name\n",
    "                                               }, ignore_index=True)\n",
    "    count+=1"
   ]
  },
  {
   "cell_type": "code",
   "execution_count": 23,
   "id": "b977f56d",
   "metadata": {},
   "outputs": [],
   "source": [
    "#american_rest_ny.to_csv('american_rest_ny_tocsv1.csv') # Save the information so far to a .csv file due to limited calls on FourSquare\n",
    "american_rest_ny.to_csv('american_rest_ny_tocsv1.csv')\n"
   ]
  },
  {
   "cell_type": "code",
   "execution_count": 24,
   "id": "ab631513",
   "metadata": {},
   "outputs": [
    {
     "data": {
      "text/html": [
       "<div>\n",
       "<style scoped>\n",
       "    .dataframe tbody tr th:only-of-type {\n",
       "        vertical-align: middle;\n",
       "    }\n",
       "\n",
       "    .dataframe tbody tr th {\n",
       "        vertical-align: top;\n",
       "    }\n",
       "\n",
       "    .dataframe thead th {\n",
       "        text-align: right;\n",
       "    }\n",
       "</style>\n",
       "<table border=\"1\" class=\"dataframe\">\n",
       "  <thead>\n",
       "    <tr style=\"text-align: right;\">\n",
       "      <th></th>\n",
       "      <th>Borough</th>\n",
       "      <th>Neighborhood</th>\n",
       "      <th>ID</th>\n",
       "      <th>Name</th>\n",
       "    </tr>\n",
       "  </thead>\n",
       "  <tbody>\n",
       "    <tr>\n",
       "      <th>108</th>\n",
       "      <td>Brooklyn</td>\n",
       "      <td>Dumbo</td>\n",
       "      <td>583c7fa58cfe547612b47b93</td>\n",
       "      <td>Westville DUMBO</td>\n",
       "    </tr>\n",
       "    <tr>\n",
       "      <th>109</th>\n",
       "      <td>Brooklyn</td>\n",
       "      <td>Dumbo</td>\n",
       "      <td>51dd7c69498ee00b70fa54b8</td>\n",
       "      <td>Atrium DUMBO</td>\n",
       "    </tr>\n",
       "    <tr>\n",
       "      <th>110</th>\n",
       "      <td>Brooklyn</td>\n",
       "      <td>Dumbo</td>\n",
       "      <td>438f7b59f964a520412b1fe3</td>\n",
       "      <td>Superfine</td>\n",
       "    </tr>\n",
       "    <tr>\n",
       "      <th>111</th>\n",
       "      <td>Staten Island</td>\n",
       "      <td>Manor Heights</td>\n",
       "      <td>4ba11d67f964a520309937e3</td>\n",
       "      <td>Manor Restaurant</td>\n",
       "    </tr>\n",
       "    <tr>\n",
       "      <th>112</th>\n",
       "      <td>Brooklyn</td>\n",
       "      <td>Homecrest</td>\n",
       "      <td>4b928bc0f964a520f90234e3</td>\n",
       "      <td>Three Star Restaurant</td>\n",
       "    </tr>\n",
       "  </tbody>\n",
       "</table>\n",
       "</div>"
      ],
      "text/plain": [
       "           Borough   Neighborhood                        ID  \\\n",
       "108       Brooklyn          Dumbo  583c7fa58cfe547612b47b93   \n",
       "109       Brooklyn          Dumbo  51dd7c69498ee00b70fa54b8   \n",
       "110       Brooklyn          Dumbo  438f7b59f964a520412b1fe3   \n",
       "111  Staten Island  Manor Heights  4ba11d67f964a520309937e3   \n",
       "112       Brooklyn      Homecrest  4b928bc0f964a520f90234e3   \n",
       "\n",
       "                      Name  \n",
       "108        Westville DUMBO  \n",
       "109           Atrium DUMBO  \n",
       "110              Superfine  \n",
       "111       Manor Restaurant  \n",
       "112  Three Star Restaurant  "
      ]
     },
     "execution_count": 24,
     "metadata": {},
     "output_type": "execute_result"
    }
   ],
   "source": [
    "american_ny = pd.read_csv('american_rest_ny_tocsv1.csv')\n",
    "american_rest_ny.tail()"
   ]
  },
  {
   "cell_type": "code",
   "execution_count": 25,
   "id": "6fff0ab1",
   "metadata": {},
   "outputs": [
    {
     "data": {
      "text/plain": [
       "(113, 4)"
      ]
     },
     "execution_count": 25,
     "metadata": {},
     "output_type": "execute_result"
    }
   ],
   "source": [
    "american_rest_ny.shape"
   ]
  },
  {
   "cell_type": "code",
   "execution_count": 26,
   "id": "9249ed6d",
   "metadata": {},
   "outputs": [
    {
     "data": {
      "image/png": "[encoded data removed]",
      "text/plain": [
       "<Figure size 720x360 with 1 Axes>"
      ]
     },
     "metadata": {
      "needs_background": "light"
     },
     "output_type": "display_data"
    }
   ],
   "source": [
    "american_rest_ny.groupby('Borough')['ID'].count().plot.bar(figsize=(10,5), color=clr)\n",
    "plt.title('American Restaurants per Borough: NYC', fontsize = 20)\n",
    "plt.xlabel('Borough', fontsize = 15)\n",
    "plt.ylabel('No. of American Restaurants', fontsize=15)\n",
    "plt.xticks(rotation = 'horizontal')\n",
    "plt.legend()\n",
    "\n",
    "plt.show()"
   ]
  },
  {
   "cell_type": "code",
   "execution_count": 27,
   "id": "089945db",
   "metadata": {},
   "outputs": [
    {
     "data": {
      "image/png": "[encoded data removed]",
      "text/plain": [
       "<Figure size 720x360 with 1 Axes>"
      ]
     },
     "metadata": {
      "needs_background": "light"
     },
     "output_type": "display_data"
    }
   ],
   "source": [
    "NOofNeigh = 6 # top number for graphing all the same past 6\n",
    "american_rest_ny.groupby('Neighborhood')['ID'].count().nlargest(NOofNeigh).plot.bar(figsize=(10,5), color=clr)\n",
    "plt.title('American Restaurants per Neighborhood: NYC', fontsize = 20)\n",
    "plt.xlabel('Neighborhood', fontsize = 15)\n",
    "plt.ylabel('No. of American Restaurants', fontsize=15)\n",
    "plt.xticks(rotation = 'horizontal')\n",
    "plt.legend()\n",
    "plt.show()"
   ]
  },
  {
   "cell_type": "code",
   "execution_count": 31,
   "id": "a171e407",
   "metadata": {},
   "outputs": [
    {
     "data": {
      "text/html": [
       "<div>\n",
       "<style scoped>\n",
       "    .dataframe tbody tr th:only-of-type {\n",
       "        vertical-align: middle;\n",
       "    }\n",
       "\n",
       "    .dataframe tbody tr th {\n",
       "        vertical-align: top;\n",
       "    }\n",
       "\n",
       "    .dataframe thead th {\n",
       "        text-align: right;\n",
       "    }\n",
       "</style>\n",
       "<table border=\"1\" class=\"dataframe\">\n",
       "  <thead>\n",
       "    <tr style=\"text-align: right;\">\n",
       "      <th></th>\n",
       "      <th>Borough</th>\n",
       "      <th>Neighborhood</th>\n",
       "      <th>ID</th>\n",
       "      <th>Name</th>\n",
       "    </tr>\n",
       "  </thead>\n",
       "  <tbody>\n",
       "    <tr>\n",
       "      <th>39</th>\n",
       "      <td>Manhattan</td>\n",
       "      <td>Clinton</td>\n",
       "      <td>461f8cc8f964a5207e451fe3</td>\n",
       "      <td>West Bank Cafe</td>\n",
       "    </tr>\n",
       "    <tr>\n",
       "      <th>40</th>\n",
       "      <td>Manhattan</td>\n",
       "      <td>Clinton</td>\n",
       "      <td>5854cfc203cf255eb3b9c8cb</td>\n",
       "      <td>Chef's Table At Brooklyn Fare</td>\n",
       "    </tr>\n",
       "    <tr>\n",
       "      <th>41</th>\n",
       "      <td>Manhattan</td>\n",
       "      <td>Clinton</td>\n",
       "      <td>4665447af964a5207f471fe3</td>\n",
       "      <td>44 &amp; X</td>\n",
       "    </tr>\n",
       "    <tr>\n",
       "      <th>42</th>\n",
       "      <td>Manhattan</td>\n",
       "      <td>Clinton</td>\n",
       "      <td>59f3554f002f4c0655d65bab</td>\n",
       "      <td>Legacy Records</td>\n",
       "    </tr>\n",
       "    <tr>\n",
       "      <th>43</th>\n",
       "      <td>Manhattan</td>\n",
       "      <td>Clinton</td>\n",
       "      <td>525d964a11d2be5d7eb1192c</td>\n",
       "      <td>Genuine Roadside</td>\n",
       "    </tr>\n",
       "  </tbody>\n",
       "</table>\n",
       "</div>"
      ],
      "text/plain": [
       "      Borough Neighborhood                        ID  \\\n",
       "39  Manhattan      Clinton  461f8cc8f964a5207e451fe3   \n",
       "40  Manhattan      Clinton  5854cfc203cf255eb3b9c8cb   \n",
       "41  Manhattan      Clinton  4665447af964a5207f471fe3   \n",
       "42  Manhattan      Clinton  59f3554f002f4c0655d65bab   \n",
       "43  Manhattan      Clinton  525d964a11d2be5d7eb1192c   \n",
       "\n",
       "                             Name  \n",
       "39                 West Bank Cafe  \n",
       "40  Chef's Table At Brooklyn Fare  \n",
       "41                         44 & X  \n",
       "42                 Legacy Records  \n",
       "43               Genuine Roadside  "
      ]
     },
     "execution_count": 31,
     "metadata": {},
     "output_type": "execute_result"
    }
   ],
   "source": [
    "american_rest_ny[american_rest_ny['Neighborhood']=='Clinton']"
   ]
  },
  {
   "cell_type": "code",
   "execution_count": 33,
   "id": "5019d03b",
   "metadata": {},
   "outputs": [
    {
     "data": {
      "text/html": [
       "<div>\n",
       "<style scoped>\n",
       "    .dataframe tbody tr th:only-of-type {\n",
       "        vertical-align: middle;\n",
       "    }\n",
       "\n",
       "    .dataframe tbody tr th {\n",
       "        vertical-align: top;\n",
       "    }\n",
       "\n",
       "    .dataframe thead th {\n",
       "        text-align: right;\n",
       "    }\n",
       "</style>\n",
       "<table border=\"1\" class=\"dataframe\">\n",
       "  <thead>\n",
       "    <tr style=\"text-align: right;\">\n",
       "      <th></th>\n",
       "      <th>Borough</th>\n",
       "      <th>Neighborhood</th>\n",
       "      <th>ID</th>\n",
       "      <th>Name</th>\n",
       "    </tr>\n",
       "  </thead>\n",
       "  <tbody>\n",
       "    <tr>\n",
       "      <th>98</th>\n",
       "      <td>Manhattan</td>\n",
       "      <td>Flatiron</td>\n",
       "      <td>3fd66200f964a520aee91ee3</td>\n",
       "      <td>Gramercy Tavern</td>\n",
       "    </tr>\n",
       "    <tr>\n",
       "      <th>99</th>\n",
       "      <td>Manhattan</td>\n",
       "      <td>Flatiron</td>\n",
       "      <td>4e1a41d3183880768f53f08c</td>\n",
       "      <td>The Cellar at Beecher's</td>\n",
       "    </tr>\n",
       "    <tr>\n",
       "      <th>100</th>\n",
       "      <td>Manhattan</td>\n",
       "      <td>Flatiron</td>\n",
       "      <td>5536759a498e56e343077057</td>\n",
       "      <td>Dig Inn</td>\n",
       "    </tr>\n",
       "    <tr>\n",
       "      <th>101</th>\n",
       "      <td>Manhattan</td>\n",
       "      <td>Flatiron</td>\n",
       "      <td>3fd66200f964a52080e41ee3</td>\n",
       "      <td>Craft</td>\n",
       "    </tr>\n",
       "    <tr>\n",
       "      <th>102</th>\n",
       "      <td>Manhattan</td>\n",
       "      <td>Flatiron</td>\n",
       "      <td>417c4200f964a520c91d1fe3</td>\n",
       "      <td>Tocqueville Restaurant</td>\n",
       "    </tr>\n",
       "  </tbody>\n",
       "</table>\n",
       "</div>"
      ],
      "text/plain": [
       "       Borough Neighborhood                        ID                     Name\n",
       "98   Manhattan     Flatiron  3fd66200f964a520aee91ee3          Gramercy Tavern\n",
       "99   Manhattan     Flatiron  4e1a41d3183880768f53f08c  The Cellar at Beecher's\n",
       "100  Manhattan     Flatiron  5536759a498e56e343077057                  Dig Inn\n",
       "101  Manhattan     Flatiron  3fd66200f964a52080e41ee3                    Craft\n",
       "102  Manhattan     Flatiron  417c4200f964a520c91d1fe3   Tocqueville Restaurant"
      ]
     },
     "execution_count": 33,
     "metadata": {},
     "output_type": "execute_result"
    }
   ],
   "source": [
    "\n",
    "american_rest_ny[american_rest_ny['Neighborhood']=='Flatiron']"
   ]
  },
  {
   "cell_type": "markdown",
   "id": "0f9e1667",
   "metadata": {},
   "source": [
    "We got 113 American Restaurants across the New York City.\n",
    "\n",
    "As we continue our analysis, we see below that although Manhattan had the least number of neighborhoods, it does have the highest number of American restaurants. Additionally, we see how many restaurants the top 6 neighborhoods have. The neighborhood of Greenwich village and Sutton Place has the highest number of American restaurants in all of NYC and is actually located in the boroughs of Manhattan.\n",
    "\n",
    "So the Clinton & Flatiron in Manhattan has the highest number of American Restaurants with a total count of 5 each.\n",
    "\n",
    "Now we will get the ranking of each restaurant for further analysis."
   ]
  },
  {
   "cell_type": "code",
   "execution_count": 34,
   "id": "00583279",
   "metadata": {},
   "outputs": [],
   "source": [
    "def get_venue_details(venue_id):\n",
    "    #url to fetch data from foursquare api\n",
    "    url = 'https://api.foursquare.com/v2/venues/{}?&client_id={}&client_secret={}&v={}'.format(\n",
    "            venue_id,\n",
    "            CLIENT_ID, \n",
    "            CLIENT_SECRET, \n",
    "            VERSION)\n",
    "    # get all the data\n",
    "    results = requests.get(url).json()\n",
    "    print(results)\n",
    "    venue_data=results['response']['venue']\n",
    "    venue_details=[]\n",
    "    try:\n",
    "        venue_id=venue_data['id']\n",
    "        venue_name=venue_data['name']\n",
    "        venue_likes=venue_data['likes']['count']\n",
    "        venue_rating=venue_data['rating']\n",
    "        venue_tips=venue_data['tips']['count']\n",
    "        venue_details.append([venue_id,venue_name,venue_likes,venue_rating,venue_tips])\n",
    "    except KeyError:\n",
    "        pass\n",
    "    column_names=['ID','Name','Likes','Rating','Tips']\n",
    "    df = pd.DataFrame(venue_details,columns=column_names)\n",
    "    return df"
   ]
  },
  {
   "cell_type": "code",
   "execution_count": 36,
   "id": "fdb81520",
   "metadata": {},
   "outputs": [
    {
     "name": "stdout",
     "output_type": "stream",
     "text": [
      "{'meta': {'code': 200, 'requestId': '60e48a9eacbd503c80a870d4'}, 'response': {'venue': {'id': '5b65e59064c8e1003946bf7e', 'name': 'The Kitchen', 'contact': {'phone': '7187981002', 'formattedPhone': '(718) 798-1002', 'instagram': 'thekitchen4330'}, 'location': {'address': '4330 Katonah Ave', 'crossStreet': 'E 238th Street', 'lat': 40.899733, 'lng': -73.867408, 'labeledLatLngs': [{'label': 'display', 'lat': 40.899733, 'lng': -73.867408}], 'postalCode': '10470', 'cc': 'US', 'city': 'New York', 'state': 'NY', 'country': 'United States', 'formattedAddress': ['4330 Katonah Ave (E 238th Street)', 'New York, NY 10470', 'United States']}, 'canonicalUrl': 'https://foursquare.com/v/the-kitchen/5b65e59064c8e1003946bf7e', 'categories': [{'id': '4bf58dd8d48988d14e941735', 'name': 'American Restaurant', 'pluralName': 'American Restaurants', 'shortName': 'American', 'icon': {'prefix': 'https://ss3.4sqi.net/img/categories_v2/food/default_', 'suffix': '.png'}, 'primary': True}], 'verified': True, 'stats': {'tipCount': 1}, 'price': {'tier': 2, 'message': 'Moderate', 'currency': '$'}, 'likes': {'count': 3, 'groups': [{'type': 'others', 'count': 3, 'items': [{'firstName': 'The Kitchen', 'countryCode': 'US', 'type': 'venuePage', 'venue': {'id': '5b65e59064c8e1003946bf7e'}}, {'firstName': 'Jackie', 'lastName': 'K', 'countryCode': 'US'}, {'firstName': 'Kane', 'lastName': 'A', 'countryCode': 'US'}]}], 'summary': '3 Likes'}, 'dislike': False, 'ok': False, 'menu': {'type': 'Menu', 'label': 'Menu', 'anchor': 'View Menu', 'url': 'http://www.thekitchenbronx.com', 'mobileUrl': 'http://www.thekitchenbronx.com', 'externalUrl': 'http://www.thekitchenbronx.com'}, 'allowMenuUrlEdit': True, 'beenHere': {'count': 0, 'unconfirmedCount': 0, 'marked': False, 'lastCheckinExpiredAt': 0}, 'specials': {'count': 0, 'items': []}, 'photos': {'count': 6, 'groups': [{'type': 'venue', 'name': 'Venue photos', 'count': 6, 'items': [{'id': '5fb3474e7cd81d6b7491c9a5', 'createdAt': 1605584718, 'source': {'name': 'Foursquare Web', 'url': 'https://foursquare.com'}, 'prefix': 'https://fastly.4sqi.net/img/general/', 'suffix': '/594743219_qtmNUP6XbH7KaQ7tK-tBehH5RXoArk5mN6Ev6Zd_8gA.jpg', 'width': 828, 'height': 1093, 'visibility': 'public'}]}]}, 'venuePage': {'id': '594743219'}, 'reasons': {'count': 0, 'items': []}, 'description': 'Cooking Fresh Food Every day, Serving Delicious Burgers, loaded Fries, Tacos, Apps and Irish Chinese Food', 'page': {'user': {'firstName': 'The Kitchen', 'countryCode': 'US', 'type': 'venuePage', 'venue': {'id': '5b65e59064c8e1003946bf7e'}, 'tips': {'count': 0}, 'lists': {'groups': [{'type': 'created', 'count': 2, 'items': []}]}, 'bio': ''}}, 'hereNow': {'count': 0, 'summary': 'Nobody here', 'groups': []}, 'createdAt': 1533404560, 'tips': {'count': 1, 'groups': [{'type': 'others', 'name': 'All tips', 'count': 1, 'items': [{'id': '54b5cbd0498ee2fa726dabd8', 'createdAt': 1421200336, 'text': \"Shepherd's Pie: $8.50\", 'type': 'user', 'canonicalUrl': 'https://foursquare.com/item/54b5cbd0498ee2fa726dabd8', 'lang': 'en', 'likes': {'count': 0, 'groups': []}, 'logView': True, 'agreeCount': 0, 'disagreeCount': 0, 'todo': {'count': 0}, 'user': {'firstName': 'Michael', 'lastName': 'D', 'countryCode': 'US'}}]}]}, 'shortUrl': 'https://4sq.com/2LQgJqh', 'timeZone': 'America/New_York', 'listed': {'count': 3, 'groups': [{'type': 'others', 'name': 'Lists from other people', 'count': 3, 'items': [{'id': '5e8fc1bf26d4210006a0e892', 'name': '📷', 'description': '', 'type': 'others', 'user': {'firstName': 'Ashinho', 'countryCode': 'US'}, 'editable': False, 'public': True, 'collaborative': False, 'url': '/volcanic_cash/list/-1', 'canonicalUrl': 'https://foursquare.com/volcanic_cash/list/-1', 'createdAt': 1586479551, 'updatedAt': 1625274282, 'photo': {'id': '520f9d1c11d2282184d3453e', 'createdAt': 1376754972, 'prefix': 'https://fastly.4sqi.net/img/general/', 'suffix': '/4133367_lQYp725rfPHxnzvhLdAWiJzQBjF4dcgWTZyNYoM5wZc.jpg', 'width': 540, 'height': 960, 'visibility': 'public'}, 'followers': {'count': 0}, 'listItems': {'count': 48, 'items': [{'id': 'v5b65e59064c8e1003946bf7e', 'createdAt': 1588719915}]}}, {'id': '54849f8f498e955417837d3c', 'name': 'NYC Part Three', 'description': '', 'type': 'others', 'user': {'firstName': 'Claire', 'countryCode': 'US'}, 'editable': False, 'public': True, 'collaborative': False, 'url': '/user/19456193/list/nyc-part-three', 'canonicalUrl': 'https://foursquare.com/user/19456193/list/nyc-part-three', 'createdAt': 1417977743, 'updatedAt': 1576934274, 'photo': {'id': '517c2751e4b0a00475e2095d', 'createdAt': 1367091025, 'prefix': 'https://fastly.4sqi.net/img/general/', 'suffix': '/1813734_SyLestXVWcpjWgZkJYTis_oLvMyGnoCWjubaXFAXFfM.jpg', 'width': 641, 'height': 481, 'visibility': 'public'}, 'followers': {'count': 0}, 'listItems': {'count': 197, 'items': [{'id': 'v5b65e59064c8e1003946bf7e', 'createdAt': 1419649961}]}}]}]}, 'hours': {'status': 'Open until 10:00 PM', 'richStatus': {'entities': [], 'text': 'Open until 10:00 PM'}, 'isOpen': True, 'isLocalHoliday': False, 'dayData': [], 'timeframes': [{'days': 'Mon–Sun', 'includesToday': True, 'open': [{'renderedTime': 'Noon–10:00 PM'}], 'segments': []}]}, 'seasonalHours': [], 'defaultHours': {'status': 'Open until 10:00 PM', 'richStatus': {'entities': [], 'text': 'Open until 10:00 PM'}, 'isOpen': True, 'isLocalHoliday': False, 'dayData': [], 'timeframes': [{'days': 'Mon–Sun', 'includesToday': True, 'open': [{'renderedTime': 'Noon–10:00 PM'}], 'segments': []}]}, 'pageUpdates': {'count': 0, 'items': []}, 'inbox': {'count': 0, 'items': []}, 'attributes': {'groups': [{'type': 'price', 'name': 'Price', 'summary': '$$', 'count': 1, 'items': [{'displayName': 'Price', 'displayValue': '$$', 'priceTier': 2}]}, {'type': 'reservations', 'name': 'Reservations', 'count': 3, 'items': [{'displayName': 'Reservations', 'displayValue': 'No'}]}, {'type': 'payments', 'name': 'Credit Cards', 'summary': 'Credit Cards', 'count': 7, 'items': [{'displayName': 'Credit Cards', 'displayValue': 'Yes (incl. Discover & Visa)'}]}, {'type': 'outdoorSeating', 'name': 'Outdoor Seating', 'summary': 'Outdoor Seating', 'count': 1, 'items': [{'displayName': 'Outdoor Seating', 'displayValue': 'Yes'}]}, {'type': 'wifi', 'name': 'Wi-Fi', 'summary': 'Free Wi-Fi', 'count': 1, 'items': [{'displayName': 'Wi-Fi', 'displayValue': 'Free'}]}, {'type': 'serves', 'name': 'Menus', 'summary': 'Dessert, Lunch & more', 'count': 8, 'items': [{'displayName': 'Breakfast', 'displayValue': 'Breakfast'}, {'displayName': 'Brunch', 'displayValue': 'Brunch'}, {'displayName': 'Lunch', 'displayValue': 'Lunch'}, {'displayName': 'Dinner', 'displayValue': 'Dinner'}, {'displayName': 'Dessert', 'displayValue': 'Dessert'}]}, {'type': 'diningOptions', 'name': 'Dining Options', 'summary': 'Take-out & Delivery', 'count': 5, 'items': [{'displayName': 'Take-out', 'displayValue': 'Take-out'}, {'displayName': 'Delivery', 'displayValue': 'Delivery'}]}]}, 'bestPhoto': {'id': '5fb3474e7cd81d6b7491c9a5', 'createdAt': 1605584718, 'source': {'name': 'Foursquare Web', 'url': 'https://foursquare.com'}, 'prefix': 'https://fastly.4sqi.net/img/general/', 'suffix': '/594743219_qtmNUP6XbH7KaQ7tK-tBehH5RXoArk5mN6Ev6Zd_8gA.jpg', 'width': 828, 'height': 1093, 'visibility': 'public'}}}}\n",
      "Empty DataFrame\n",
      "Columns: [ID, Name, Likes, Rating, Tips]\n",
      "Index: []\n",
      "No data available for id= 5b65e59064c8e1003946bf7e\n",
      "( 1 / 113 ) processed\n",
      "{'meta': {'code': 200, 'requestId': '60e48a9f0462594c16871ecf'}, 'response': {'venue': {'id': '45164517f964a5200a3a1fe3', 'name': 'Black Whale', 'contact': {'phone': '7188853657', 'formattedPhone': '(718) 885-3657', 'twitter': 'theblackwhaleci', 'facebook': '387108081299439', 'facebookUsername': 'TheBlackWhaleCityIsland', 'facebookName': 'The Black Whale City Island'}, 'location': {'address': '279 City Island Ave', 'crossStreet': 'at Hawkins St', 'lat': 40.846397849807644, 'lng': -73.78643822317905, 'labeledLatLngs': [{'label': 'display', 'lat': 40.846397849807644, 'lng': -73.78643822317905}, {'label': 'entrance', 'lat': 40.84635, 'lng': -73.786308}], 'postalCode': '10464', 'cc': 'US', 'city': 'Bronx', 'state': 'NY', 'country': 'United States', 'formattedAddress': ['279 City Island Ave (at Hawkins St)', 'Bronx, NY 10464', 'United States']}, 'canonicalUrl': 'https://foursquare.com/v/black-whale/45164517f964a5200a3a1fe3', 'categories': [{'id': '4bf58dd8d48988d14e941735', 'name': 'American Restaurant', 'pluralName': 'American Restaurants', 'shortName': 'American', 'icon': {'prefix': 'https://ss3.4sqi.net/img/categories_v2/food/default_', 'suffix': '.png'}, 'primary': True}, {'id': '4bf58dd8d48988d123941735', 'name': 'Wine Bar', 'pluralName': 'Wine Bars', 'shortName': 'Wine Bar', 'icon': {'prefix': 'https://ss3.4sqi.net/img/categories_v2/food/winery_', 'suffix': '.png'}}, {'id': '4bf58dd8d48988d1d0941735', 'name': 'Dessert Shop', 'pluralName': 'Dessert Shops', 'shortName': 'Desserts', 'icon': {'prefix': 'https://ss3.4sqi.net/img/categories_v2/food/dessert_', 'suffix': '.png'}}], 'verified': True, 'stats': {'tipCount': 24}, 'url': 'http://www.theblackwhalefb.wix.com/theblackwhaleci', 'price': {'tier': 2, 'message': 'Moderate', 'currency': '$'}, 'hasMenu': True, 'likes': {'count': 31, 'groups': [{'type': 'others', 'count': 31, 'items': []}], 'summary': '31 Likes'}, 'dislike': False, 'ok': False, 'rating': 6.9, 'ratingColor': 'FFC800', 'ratingSignals': 35, 'menu': {'type': 'Menu', 'label': 'Menu', 'anchor': 'View Menu', 'url': 'https://foursquare.com/v/black-whale/45164517f964a5200a3a1fe3/menu', 'mobileUrl': 'https://foursquare.com/v/45164517f964a5200a3a1fe3/device_menu'}, 'allowMenuUrlEdit': True, 'beenHere': {'count': 0, 'unconfirmedCount': 0, 'marked': False, 'lastCheckinExpiredAt': 0}, 'specials': {'count': 0, 'items': []}, 'photos': {'count': 46, 'groups': [{'type': 'venue', 'name': 'Venue photos', 'count': 46, 'items': [{'id': '502d72eae4b047ef998952e9', 'createdAt': 1345155818, 'source': {'name': 'Instagram', 'url': 'http://instagram.com'}, 'prefix': 'https://fastly.4sqi.net/img/general/', 'suffix': '/3mFO-EIEUFrK2DA4eFyqzwaUweL6jYbaCObkrwx8u8Y.jpg', 'width': 612, 'height': 612, 'visibility': 'public'}]}]}, 'venuePage': {'id': '72392465'}, 'reasons': {'count': 1, 'items': [{'summary': 'Lots of people like this place', 'type': 'general', 'reasonName': 'rawLikesReason'}]}, 'page': {'user': {'firstName': 'Black Whale', 'countryCode': 'US', 'type': 'venuePage', 'venue': {'id': '45164517f964a5200a3a1fe3'}, 'tips': {'count': 0}, 'lists': {'groups': [{'type': 'created', 'count': 2, 'items': []}]}, 'bio': ''}}, 'hereNow': {'count': 0, 'summary': 'Nobody here', 'groups': []}, 'createdAt': 1159087383, 'tips': {'count': 24, 'groups': [{'type': 'others', 'name': 'All tips', 'count': 24, 'items': [{'id': '4deec63dae609ae4fa397093', 'createdAt': 1307493949, 'text': 'Omg the crab cakes are amazeballs', 'type': 'user', 'canonicalUrl': 'https://foursquare.com/item/4deec63dae609ae4fa397093', 'lang': 'en', 'likes': {'count': 2, 'groups': [{'type': 'others', 'count': 2, 'items': []}], 'summary': '2 likes'}, 'logView': True, 'agreeCount': 0, 'disagreeCount': 0, 'todo': {'count': 0}, 'user': {'firstName': 'Laura', 'lastName': 'G', 'countryCode': 'US'}}]}]}, 'shortUrl': 'http://4sq.com/ajkIBk', 'timeZone': 'America/New_York', 'listed': {'count': 26, 'groups': [{'type': 'others', 'name': 'Lists from other people', 'count': 26, 'items': [{'id': '4ee12d0329c20563bacf24da', 'name': 'Bronx Eats', 'description': '', 'type': 'others', 'user': {'firstName': 'James', 'lastName': 'P', 'countryCode': 'US'}, 'editable': False, 'public': True, 'collaborative': False, 'url': '/jdpajuelo/list/bronx-eats', 'canonicalUrl': 'https://foursquare.com/jdpajuelo/list/bronx-eats', 'createdAt': 1323379971, 'updatedAt': 1420151039, 'followers': {'count': 6}, 'listItems': {'count': 19, 'items': [{'id': 'v45164517f964a5200a3a1fe3', 'createdAt': 1393707561}]}}, {'id': '51d1d42a498e9b30166eafff', 'name': 'New York', 'description': '', 'type': 'others', 'user': {'firstName': 'Ernie', 'countryCode': 'CA'}, 'editable': False, 'public': True, 'collaborative': False, 'url': '/user/16259711/list/new-york', 'canonicalUrl': 'https://foursquare.com/user/16259711/list/new-york', 'createdAt': 1372705834, 'updatedAt': 1417481824, 'followers': {'count': 2}, 'listItems': {'count': 40, 'items': [{'id': 'v45164517f964a5200a3a1fe3', 'createdAt': 1383363671}]}}, {'id': '5340661f498e605fae39f925', 'name': 'New York New York', 'description': '', 'type': 'others', 'user': {'firstName': 'Lisa', 'lastName': 'N', 'countryCode': 'AU'}, 'editable': False, 'public': True, 'collaborative': False, 'url': '/user/57463858/list/new-york-new-york', 'canonicalUrl': 'https://foursquare.com/user/57463858/list/new-york-new-york', 'createdAt': 1396729375, 'updatedAt': 1439957876, 'followers': {'count': 0}, 'listItems': {'count': 8, 'items': [{'id': 'v45164517f964a5200a3a1fe3', 'createdAt': 1439957876}]}}, {'id': '4ed2af9d29c223f92b9e3cea', 'name': 'The Bronx-A guide for the Albert Einstein Visitors', 'description': 'If you are new to the Albert Einstein College of Medicine (AECOM), this is a list of some of the things you should know and go in the surroundings.', 'type': 'others', 'user': {'firstName': 'Fernando', 'lastName': 'B', 'countryCode': 'US'}, 'editable': False, 'public': True, 'collaborative': False, 'url': '/user/13710815/list/the-bronxa-guide-for-the-albert-einstein-visitors', 'canonicalUrl': 'https://foursquare.com/user/13710815/list/the-bronxa-guide-for-the-albert-einstein-visitors', 'createdAt': 1322430365, 'updatedAt': 1446322905, 'photo': {'id': '4ea7518c9adfcc4eb086784b', 'createdAt': 1319588236, 'prefix': 'https://fastly.4sqi.net/img/general/', 'suffix': '/KIHB3MR4H4GTEB53Y2JNJGMQ4RNADCEZFCZIPF0R3AORIAZU.jpg', 'width': 720, 'height': 540, 'visibility': 'public'}, 'followers': {'count': 17}, 'listItems': {'count': 48, 'items': [{'id': 'v45164517f964a5200a3a1fe3', 'createdAt': 1370196418}]}}]}]}, 'hours': {'status': 'Closed until 5:00 PM', 'richStatus': {'entities': [], 'text': 'Closed until 5:00 PM'}, 'isOpen': False, 'isLocalHoliday': False, 'dayData': [], 'timeframes': [{'days': 'Tue–Fri', 'includesToday': True, 'open': [{'renderedTime': '5:00 PM–10:00 PM'}], 'segments': []}, {'days': 'Sat', 'open': [{'renderedTime': 'Noon–10:00 PM'}], 'segments': []}, {'days': 'Sun', 'open': [{'renderedTime': '10:00 AM–2:00 PM'}, {'renderedTime': '3:30 PM–9:00 PM'}], 'segments': []}]}, 'popular': {'isOpen': False, 'isLocalHoliday': False, 'timeframes': [{'days': 'Today', 'includesToday': True, 'open': [{'renderedTime': '6:00 PM–9:00 PM'}], 'segments': []}, {'days': 'Wed', 'open': [{'renderedTime': '6:00 PM–9:00 PM'}], 'segments': []}, {'days': 'Thu', 'open': [{'renderedTime': '7:00 PM–10:00 PM'}], 'segments': []}, {'days': 'Fri', 'open': [{'renderedTime': '6:00 PM–10:00 PM'}], 'segments': []}, {'days': 'Sat', 'open': [{'renderedTime': 'Noon–11:00 PM'}], 'segments': []}, {'days': 'Sun', 'open': [{'renderedTime': '10:00 AM–9:00 PM'}], 'segments': []}, {'days': 'Mon', 'open': [{'renderedTime': '7:00 PM–8:00 PM'}], 'segments': []}]}, 'seasonalHours': [], 'defaultHours': {'status': 'Closed until 5:00 PM', 'richStatus': {'entities': [], 'text': 'Closed until 5:00 PM'}, 'isOpen': False, 'isLocalHoliday': False, 'dayData': [], 'timeframes': [{'days': 'Tue–Fri', 'includesToday': True, 'open': [{'renderedTime': '5:00 PM–10:00 PM'}], 'segments': []}, {'days': 'Sat', 'open': [{'renderedTime': 'Noon–10:00 PM'}], 'segments': []}, {'days': 'Sun', 'open': [{'renderedTime': '10:00 AM–2:00 PM'}, {'renderedTime': '3:30 PM–9:00 PM'}], 'segments': []}]}, 'pageUpdates': {'count': 0, 'items': []}, 'inbox': {'count': 0, 'items': []}, 'attributes': {'groups': [{'type': 'price', 'name': 'Price', 'summary': '$$', 'count': 1, 'items': [{'displayName': 'Price', 'displayValue': '$$', 'priceTier': 2}]}, {'type': 'reservations', 'name': 'Reservations', 'summary': 'Reservations', 'count': 3, 'items': [{'displayName': 'Reservations', 'displayValue': 'Yes'}]}, {'type': 'payments', 'name': 'Credit Cards', 'summary': 'Credit Cards', 'count': 7, 'items': [{'displayName': 'Credit Cards', 'displayValue': 'Yes (incl. Discover & Visa)'}]}, {'type': 'outdoorSeating', 'name': 'Outdoor Seating', 'summary': 'Outdoor Seating', 'count': 1, 'items': [{'displayName': 'Outdoor Seating', 'displayValue': 'Yes'}]}, {'type': 'wifi', 'name': 'Wi-Fi', 'count': 1, 'items': [{'displayName': 'Wi-Fi', 'displayValue': 'No'}]}, {'type': 'serves', 'name': 'Menus', 'summary': 'Dessert, Brunch & more', 'count': 8, 'items': [{'displayName': 'Brunch', 'displayValue': 'Brunch'}, {'displayName': 'Lunch', 'displayValue': 'Lunch'}, {'displayName': 'Dinner', 'displayValue': 'Dinner'}, {'displayName': 'Dessert', 'displayValue': 'Dessert'}]}, {'type': 'drinks', 'name': 'Drinks', 'summary': 'Wine, Full Bar & Cocktails', 'count': 5, 'items': [{'displayName': 'Wine', 'displayValue': 'Wine'}, {'displayName': 'Full Bar', 'displayValue': 'Full Bar'}, {'displayName': 'Cocktails', 'displayValue': 'Cocktails'}]}]}, 'bestPhoto': {'id': '502d72eae4b047ef998952e9', 'createdAt': 1345155818, 'source': {'name': 'Instagram', 'url': 'http://instagram.com'}, 'prefix': 'https://fastly.4sqi.net/img/general/', 'suffix': '/3mFO-EIEUFrK2DA4eFyqzwaUweL6jYbaCObkrwx8u8Y.jpg', 'width': 612, 'height': 612, 'visibility': 'public'}, 'colors': {'highlightColor': {'photoId': '502d72eae4b047ef998952e9', 'value': -6250336}, 'highlightTextColor': {'photoId': '502d72eae4b047ef998952e9', 'value': -16777216}, 'algoVersion': 3}}}}\n",
      "                         ID         Name  Likes  Rating  Tips\n",
      "0  45164517f964a5200a3a1fe3  Black Whale     31     6.9    24\n",
      "( 2 / 113 ) processed\n",
      "{'meta': {'code': 200, 'requestId': '60e48aa0988cba687cb057fc'}, 'response': {'venue': {'id': '4d4ec779db1b37046d37111f', 'name': \"Jimbo's Hamburger Palace\", 'contact': {'phone': '7185626222', 'formattedPhone': '(718) 562-6222'}, 'location': {'address': '2419 Grand Concourse', 'lat': 40.86077117919922, 'lng': -73.89849090576172, 'labeledLatLngs': [{'label': 'display', 'lat': 40.86077117919922, 'lng': -73.89849090576172}], 'postalCode': '10468', 'cc': 'US', 'city': 'Bronx', 'state': 'NY', 'country': 'United States', 'formattedAddress': ['2419 Grand Concourse', 'Bronx, NY 10468', 'United States']}, 'canonicalUrl': 'https://foursquare.com/v/jimbos-hamburger-palace/4d4ec779db1b37046d37111f', 'categories': [{'id': '4bf58dd8d48988d14e941735', 'name': 'American Restaurant', 'pluralName': 'American Restaurants', 'shortName': 'American', 'icon': {'prefix': 'https://ss3.4sqi.net/img/categories_v2/food/default_', 'suffix': '.png'}, 'primary': True}, {'id': '4bf58dd8d48988d143941735', 'name': 'Breakfast Spot', 'pluralName': 'Breakfast Spots', 'shortName': 'Breakfast', 'icon': {'prefix': 'https://ss3.4sqi.net/img/categories_v2/food/breakfast_', 'suffix': '.png'}}], 'verified': False, 'stats': {'tipCount': 2}, 'price': {'tier': 2, 'message': 'Moderate', 'currency': '$'}, 'likes': {'count': 1, 'groups': [{'type': 'others', 'count': 1, 'items': [{'firstName': 'Lawrence', 'lastName': 'L', 'countryCode': 'US'}]}], 'summary': '1 Like'}, 'dislike': False, 'ok': False, 'allowMenuUrlEdit': True, 'beenHere': {'count': 0, 'unconfirmedCount': 0, 'marked': False, 'lastCheckinExpiredAt': 0}, 'specials': {'count': 0, 'items': []}, 'photos': {'count': 1, 'groups': [{'type': 'venue', 'name': 'Venue photos', 'count': 1, 'items': [{'id': '506f305ae4b036c61654b883', 'createdAt': 1349464154, 'source': {'name': 'Foursquare for Android', 'url': 'https://foursquare.com/download/#/android'}, 'prefix': 'https://fastly.4sqi.net/img/general/', 'suffix': '/16221426_okh5_xXzOwDrisiwOeO_QcQY2umTTDDKSl_gwU6XwV8.jpg', 'width': 720, 'height': 540, 'visibility': 'public'}]}]}, 'reasons': {'count': 0, 'items': []}, 'hereNow': {'count': 0, 'summary': 'Nobody here', 'groups': []}, 'createdAt': 1297008505, 'tips': {'count': 2, 'groups': [{'type': 'others', 'name': 'All tips', 'count': 2, 'items': [{'id': '4e9332ec5c5ce36b1941b74b', 'createdAt': 1318269676, 'text': 'Best grilled cheese', 'type': 'user', 'canonicalUrl': 'https://foursquare.com/item/4e9332ec5c5ce36b1941b74b', 'lang': 'en', 'likes': {'count': 1, 'groups': [{'type': 'others', 'count': 1, 'items': []}], 'summary': '1 like'}, 'logView': True, 'agreeCount': 0, 'disagreeCount': 0, 'todo': {'count': 0}, 'user': {'firstName': 'Louise', 'lastName': 'A', 'countryCode': 'US'}}]}]}, 'shortUrl': 'http://4sq.com/ewKStM', 'timeZone': 'America/New_York', 'listed': {'count': 0, 'groups': [{'type': 'others', 'name': 'Lists from other people', 'count': 0, 'items': []}]}, 'seasonalHours': [], 'pageUpdates': {'count': 0, 'items': []}, 'inbox': {'count': 0, 'items': []}, 'attributes': {'groups': [{'type': 'price', 'name': 'Price', 'summary': '$$', 'count': 1, 'items': [{'displayName': 'Price', 'displayValue': '$$', 'priceTier': 2}]}, {'type': 'serves', 'name': 'Menus', 'summary': 'Breakfast', 'count': 8, 'items': [{'displayName': 'Breakfast', 'displayValue': 'Breakfast'}]}]}, 'bestPhoto': {'id': '506f305ae4b036c61654b883', 'createdAt': 1349464154, 'source': {'name': 'Foursquare for Android', 'url': 'https://foursquare.com/download/#/android'}, 'prefix': 'https://fastly.4sqi.net/img/general/', 'suffix': '/16221426_okh5_xXzOwDrisiwOeO_QcQY2umTTDDKSl_gwU6XwV8.jpg', 'width': 720, 'height': 540, 'visibility': 'public'}}}}\n",
      "Empty DataFrame\n",
      "Columns: [ID, Name, Likes, Rating, Tips]\n",
      "Index: []\n",
      "No data available for id= 4d4ec779db1b37046d37111f\n",
      "( 3 / 113 ) processed\n",
      "{'meta': {'code': 200, 'requestId': '60e48aa0911351717e9ed966'}, 'response': {'venue': {'id': '4adb9b03f964a520552921e3', 'name': \"Ellie's Diner\", 'contact': {'phone': '7187926068', 'formattedPhone': '(718) 792-6068'}, 'location': {'address': '58 Metropolitan Oval', 'crossStreet': 'Unionport Rd', 'lat': 40.83788039213797, 'lng': -73.86013179887586, 'labeledLatLngs': [{'label': 'display', 'lat': 40.83788039213797, 'lng': -73.86013179887586}, {'label': 'entrance', 'lat': 40.837393, 'lng': -73.859888}], 'postalCode': '10462', 'cc': 'US', 'city': 'Bronx', 'state': 'NY', 'country': 'United States', 'formattedAddress': ['58 Metropolitan Oval (Unionport Rd)', 'Bronx, NY 10462', 'United States']}, 'canonicalUrl': 'https://foursquare.com/v/ellies-diner/4adb9b03f964a520552921e3', 'categories': [{'id': '4bf58dd8d48988d14e941735', 'name': 'American Restaurant', 'pluralName': 'American Restaurants', 'shortName': 'American', 'icon': {'prefix': 'https://ss3.4sqi.net/img/categories_v2/food/default_', 'suffix': '.png'}, 'primary': True}], 'verified': False, 'stats': {'tipCount': 22}, 'price': {'tier': 1, 'message': 'Cheap', 'currency': '$'}, 'likes': {'count': 40, 'groups': [{'type': 'others', 'count': 40, 'items': []}], 'summary': '40 Likes'}, 'dislike': False, 'ok': False, 'rating': 7.1, 'ratingColor': 'C5DE35', 'ratingSignals': 48, 'delivery': {'id': '2543218', 'url': 'https://www.seamless.com/menu/ellies-diner--restaurant-58-metropolitan-avenue-bronx/2543218?affiliate=1131&utm_source=foursquare-affiliate-network&utm_medium=affiliate&utm_campaign=1131&utm_content=2543218', 'provider': {'name': 'seamless', 'icon': {'prefix': 'https://fastly.4sqi.net/img/general/cap/', 'sizes': [40, 50], 'name': '/delivery_provider_seamless_20180129.png'}}}, 'allowMenuUrlEdit': True, 'beenHere': {'count': 0, 'unconfirmedCount': 0, 'marked': False, 'lastCheckinExpiredAt': 0}, 'specials': {'count': 0, 'items': []}, 'photos': {'count': 23, 'groups': [{'type': 'venue', 'name': 'Venue photos', 'count': 23, 'items': [{'id': '517d4784e4b0ea6269fbd8fc', 'createdAt': 1367164804, 'source': {'name': 'Foursquare for iOS', 'url': 'https://foursquare.com/download/#/iphone'}, 'prefix': 'https://fastly.4sqi.net/img/general/', 'suffix': '/674052_vgAthXlrb8X3Jjam1e_e1uKHrr8mc0eRmsNGUh99yaA.jpg', 'width': 1440, 'height': 1920, 'visibility': 'public'}]}]}, 'reasons': {'count': 1, 'items': [{'summary': 'Lots of people like this place', 'type': 'general', 'reasonName': 'rawLikesReason'}]}, 'hereNow': {'count': 0, 'summary': 'Nobody here', 'groups': []}, 'createdAt': 1255906051, 'tips': {'count': 22, 'groups': [{'type': 'others', 'name': 'All tips', 'count': 22, 'items': [{'id': '510d396ce4b0eaff7697a06c', 'createdAt': 1359821164, 'text': \"Get In early it's packed on weekends\", 'type': 'user', 'canonicalUrl': 'https://foursquare.com/item/510d396ce4b0eaff7697a06c', 'lang': 'en', 'likes': {'count': 2, 'groups': [{'type': 'others', 'count': 2, 'items': [{'firstName': 'LiL R', 'lastName': 'H', 'countryCode': 'US'}, {'firstName': 'Lainey', 'countryCode': 'US'}]}], 'summary': '2 likes'}, 'logView': True, 'agreeCount': 2, 'disagreeCount': 0, 'todo': {'count': 0}, 'user': {'firstName': 'Jemel', 'lastName': 'L', 'countryCode': 'US'}}]}]}, 'shortUrl': 'http://4sq.com/c3F7nn', 'timeZone': 'America/New_York', 'listed': {'count': 12, 'groups': [{'type': 'others', 'name': 'Lists from other people', 'count': 12, 'items': [{'id': '53b710d3498e276d06073dd2', 'name': '2014', 'description': '', 'type': 'others', 'user': {'firstName': 'Ashley', 'lastName': 'H', 'countryCode': 'US'}, 'editable': False, 'public': True, 'collaborative': False, 'url': '/user/57168893/list/2014', 'canonicalUrl': 'https://foursquare.com/user/57168893/list/2014', 'createdAt': 1404506323, 'updatedAt': 1489146890, 'photo': {'id': '528b74bd498ef5461a8a8ede', 'createdAt': 1384871101, 'prefix': 'https://fastly.4sqi.net/img/general/', 'suffix': '/2617464_UD5llhwwvsQNaB2OcP-bHZMLvySWScq2ZYZ281b67a4.jpg', 'width': 720, 'height': 960, 'visibility': 'public'}, 'followers': {'count': 0}, 'listItems': {'count': 143, 'items': [{'id': 'v4adb9b03f964a520552921e3', 'createdAt': 1404507224}]}}, {'id': '527a730311d295217c634e8b', 'name': \"Places I've been to eat in the North\", 'description': '', 'type': 'others', 'user': {'firstName': 'Kim', 'lastName': 'M', 'countryCode': 'US'}, 'editable': False, 'public': True, 'collaborative': False, 'url': '/user/11628580/list/places-ive-been-to-eat-in-the-north', 'canonicalUrl': 'https://foursquare.com/user/11628580/list/places-ive-been-to-eat-in-the-north', 'createdAt': 1383756547, 'updatedAt': 1451348870, 'photo': {'id': '514dd65ae4b0250948c1fbeb', 'createdAt': 1364055642, 'prefix': 'https://fastly.4sqi.net/img/general/', 'suffix': '/19031507_Y5c16DYvIYWGAS4l9_XnmRCwyCDIMjQFspLOwrVnJ7o.jpg', 'width': 720, 'height': 960, 'visibility': 'public'}, 'followers': {'count': 1}, 'listItems': {'count': 27, 'items': [{'id': 'v4adb9b03f964a520552921e3', 'createdAt': 1388074426, 'photo': {'id': '517d4784e4b0ea6269fbd8fc', 'createdAt': 1367164804, 'prefix': 'https://fastly.4sqi.net/img/general/', 'suffix': '/674052_vgAthXlrb8X3Jjam1e_e1uKHrr8mc0eRmsNGUh99yaA.jpg', 'width': 1440, 'height': 1920, 'visibility': 'public'}}]}}, {'id': '552f8133498ed1f7e623e8f1', 'name': 'deliver', 'description': '', 'type': 'others', 'user': {'firstName': 'apple', 'lastName': 'b', 'countryCode': 'US'}, 'editable': False, 'public': True, 'collaborative': False, 'url': '/user/125912233/list/deliver', 'canonicalUrl': 'https://foursquare.com/user/125912233/list/deliver', 'createdAt': 1429176627, 'updatedAt': 1429178111, 'photo': {'id': '4fde2543e4b03622b20302c7', 'createdAt': 1339958595, 'prefix': 'https://fastly.4sqi.net/img/general/', 'suffix': '/hRbDo_I1EwLEDH8PVhky0SdD3uBD3GaCDSiXAE6w-8g.jpg', 'width': 720, 'height': 537, 'visibility': 'public'}, 'followers': {'count': 0}, 'listItems': {'count': 11, 'items': [{'id': 'v4adb9b03f964a520552921e3', 'createdAt': 1429177338}]}}]}]}, 'hours': {'status': 'Open until 8:00 PM', 'richStatus': {'entities': [], 'text': 'Open until 8:00 PM'}, 'isOpen': True, 'isLocalHoliday': False, 'dayData': [], 'timeframes': [{'days': 'Mon–Sat', 'includesToday': True, 'open': [{'renderedTime': '10:00 AM–8:00 PM'}], 'segments': []}, {'days': 'Sun', 'open': [{'renderedTime': '11:00 AM–6:00 PM'}], 'segments': []}]}, 'popular': {'isOpen': False, 'isLocalHoliday': False, 'timeframes': [{'days': 'Today', 'includesToday': True, 'open': [{'renderedTime': '8:00 AM–Noon'}, {'renderedTime': '4:00 PM–9:00 PM'}], 'segments': []}, {'days': 'Wed', 'open': [{'renderedTime': '9:00 AM–11:00 AM'}, {'renderedTime': '1:00 PM–3:00 PM'}], 'segments': []}, {'days': 'Thu', 'open': [{'renderedTime': '8:00 AM–Noon'}, {'renderedTime': '3:00 PM–6:00 PM'}, {'renderedTime': '8:00 PM–9:00 PM'}], 'segments': []}, {'days': 'Fri', 'open': [{'renderedTime': '7:00 AM–3:00 PM'}, {'renderedTime': '5:00 PM–9:00 PM'}], 'segments': []}, {'days': 'Sat', 'open': [{'renderedTime': '8:00 AM–7:00 PM'}], 'segments': []}, {'days': 'Sun', 'open': [{'renderedTime': '8:00 AM–8:00 PM'}], 'segments': []}, {'days': 'Mon', 'open': [{'renderedTime': '7:00 AM–2:00 PM'}], 'segments': []}]}, 'seasonalHours': [], 'defaultHours': {'status': 'Open until 8:00 PM', 'richStatus': {'entities': [], 'text': 'Open until 8:00 PM'}, 'isOpen': True, 'isLocalHoliday': False, 'dayData': [], 'timeframes': [{'days': 'Mon–Sat', 'includesToday': True, 'open': [{'renderedTime': '10:00 AM–8:00 PM'}], 'segments': []}, {'days': 'Sun', 'open': [{'renderedTime': '11:00 AM–6:00 PM'}], 'segments': []}]}, 'pageUpdates': {'count': 0, 'items': []}, 'inbox': {'count': 0, 'items': []}, 'attributes': {'groups': [{'type': 'price', 'name': 'Price', 'summary': '$', 'count': 1, 'items': [{'displayName': 'Price', 'displayValue': '$', 'priceTier': 1}]}, {'type': 'reservations', 'name': 'Reservations', 'summary': 'Reservations', 'count': 3, 'items': [{'displayName': 'Reservations', 'displayValue': 'Yes'}]}, {'type': 'payments', 'name': 'Credit Cards', 'summary': 'Credit Cards', 'count': 7, 'items': [{'displayName': 'Credit Cards', 'displayValue': 'Yes'}]}, {'type': 'outdoorSeating', 'name': 'Outdoor Seating', 'count': 1, 'items': [{'displayName': 'Outdoor Seating', 'displayValue': 'No'}]}, {'type': 'serves', 'name': 'Menus', 'summary': 'Dinner, Breakfast & more', 'count': 8, 'items': [{'displayName': 'Breakfast', 'displayValue': 'Breakfast'}, {'displayName': 'Brunch', 'displayValue': 'Brunch'}, {'displayName': 'Lunch', 'displayValue': 'Lunch'}, {'displayName': 'Dinner', 'displayValue': 'Dinner'}]}]}, 'bestPhoto': {'id': '517d4784e4b0ea6269fbd8fc', 'createdAt': 1367164804, 'source': {'name': 'Foursquare for iOS', 'url': 'https://foursquare.com/download/#/iphone'}, 'prefix': 'https://fastly.4sqi.net/img/general/', 'suffix': '/674052_vgAthXlrb8X3Jjam1e_e1uKHrr8mc0eRmsNGUh99yaA.jpg', 'width': 1440, 'height': 1920, 'visibility': 'public'}, 'colors': {'highlightColor': {'photoId': '517d4784e4b0ea6269fbd8fc', 'value': -13629424}, 'highlightTextColor': {'photoId': '517d4784e4b0ea6269fbd8fc', 'value': -1}, 'algoVersion': 3}}}}\n",
      "                         ID           Name  Likes  Rating  Tips\n",
      "0  4adb9b03f964a520552921e3  Ellie's Diner     40     7.1    22\n",
      "( 4 / 113 ) processed\n",
      "{'meta': {'code': 200, 'requestId': '60e48aa1aa081c3491a1b02e'}, 'response': {'venue': {'id': '58ddb2e4a4367c31f23f23b5', 'name': 'Clinton Hall', 'contact': {'phone': '7182206400', 'formattedPhone': '(718) 220-6400'}, 'location': {'address': '601 E 189th St', 'lat': 40.857304458110725, 'lng': -73.8858122629058, 'labeledLatLngs': [{'label': 'display', 'lat': 40.857304458110725, 'lng': -73.8858122629058}], 'postalCode': '10458', 'cc': 'US', 'city': 'Bronx', 'state': 'NY', 'country': 'United States', 'formattedAddress': ['601 E 189th St', 'Bronx, NY 10458', 'United States']}, 'canonicalUrl': 'https://foursquare.com/v/clinton-hall/58ddb2e4a4367c31f23f23b5', 'categories': [{'id': '4bf58dd8d48988d14e941735', 'name': 'American Restaurant', 'pluralName': 'American Restaurants', 'shortName': 'American', 'icon': {'prefix': 'https://ss3.4sqi.net/img/categories_v2/food/default_', 'suffix': '.png'}, 'primary': True}], 'verified': True, 'stats': {'tipCount': 1}, 'url': 'http://www.clintonhallny.com', 'price': {'tier': 2, 'message': 'Moderate', 'currency': '$'}, 'hasMenu': True, 'likes': {'count': 13, 'groups': [{'type': 'others', 'count': 13, 'items': []}], 'summary': '13 Likes'}, 'dislike': False, 'ok': False, 'rating': 7.1, 'ratingColor': 'C5DE35', 'ratingSignals': 9, 'delivery': {'id': '872115', 'url': 'https://www.seamless.com/menu/clinton-hall-601-e-189th-st-bronx/872115?affiliate=1131&utm_source=foursquare-affiliate-network&utm_medium=affiliate&utm_campaign=1131&utm_content=872115', 'provider': {'name': 'seamless', 'icon': {'prefix': 'https://fastly.4sqi.net/img/general/cap/', 'sizes': [40, 50], 'name': '/delivery_provider_seamless_20180129.png'}}}, 'menu': {'type': 'Menu', 'label': 'Menu', 'anchor': 'View Menu', 'url': 'https://foursquare.com/v/clinton-hall/58ddb2e4a4367c31f23f23b5/menu', 'mobileUrl': 'https://foursquare.com/v/58ddb2e4a4367c31f23f23b5/device_menu'}, 'allowMenuUrlEdit': True, 'beenHere': {'count': 0, 'unconfirmedCount': 0, 'marked': False, 'lastCheckinExpiredAt': 0}, 'specials': {'count': 0, 'items': []}, 'photos': {'count': 36, 'groups': [{'type': 'venue', 'name': 'Venue photos', 'count': 36, 'items': [{'id': '607b72057903e0429db4f788', 'createdAt': 1618702853, 'source': {'name': 'Swarm for iOS', 'url': 'https://www.swarmapp.com'}, 'prefix': 'https://fastly.4sqi.net/img/general/', 'suffix': '/381027_0JPbn47GPUohvUr__QwpTuLAkslsNL3SYkun8AJnnCw.jpg', 'width': 1920, 'height': 1440, 'visibility': 'public'}]}]}, 'reasons': {'count': 0, 'items': []}, 'hereNow': {'count': 0, 'summary': 'Nobody here', 'groups': []}, 'createdAt': 1490924260, 'tips': {'count': 1, 'groups': [{'type': 'others', 'name': 'All tips', 'count': 1, 'items': [{'id': '58fc0df6e97dfb22afbb9669', 'createdAt': 1492913654, 'text': 'Happy Hour 4-7 including weekends. Bar is cute. Service was spotty with bartender being less than friendly. Interesting beer selection. More beer and friendlier service at Bronx Draft House.', 'type': 'user', 'canonicalUrl': 'https://foursquare.com/item/58fc0df6e97dfb22afbb9669', 'photo': {'id': '58fc0dfcc365882544cb7ba2', 'createdAt': 1492913660, 'source': {'name': 'Foursquare for iOS', 'url': 'https://foursquare.com/download/#/iphone'}, 'prefix': 'https://fastly.4sqi.net/img/general/', 'suffix': '/560342_XwATKe2mtMThUfqM0aJcKlXgN_cM2GOKuDhKCOWgEjE.jpg', 'width': 1920, 'height': 1440, 'visibility': 'public'}, 'photourl': 'https://fastly.4sqi.net/img/general/original/560342_XwATKe2mtMThUfqM0aJcKlXgN_cM2GOKuDhKCOWgEjE.jpg', 'lang': 'en', 'likes': {'count': 0, 'groups': []}, 'logView': True, 'agreeCount': 0, 'disagreeCount': 0, 'todo': {'count': 0}, 'user': {'firstName': 'A L E X', 'countryCode': 'US'}, 'authorInteractionType': 'meh'}]}]}, 'shortUrl': 'http://4sq.com/2mUhoKK', 'timeZone': 'America/New_York', 'listed': {'count': 6, 'groups': [{'type': 'others', 'name': 'Lists from other people', 'count': 6, 'items': [{'id': '5d160eea75e1ab002304ad1a', 'name': 'bronx', 'description': '', 'type': 'others', 'user': {'firstName': 'Jessica', 'lastName': 'F', 'countryCode': 'US'}, 'editable': False, 'public': True, 'collaborative': False, 'url': '/user/77565384/list/bronx', 'canonicalUrl': 'https://foursquare.com/user/77565384/list/bronx', 'createdAt': 1561726698, 'updatedAt': 1623772407, 'photo': {'id': '4f2dd4cee4b006ef999ac570', 'createdAt': 1328403662, 'prefix': 'https://fastly.4sqi.net/img/general/', 'suffix': '/lPqvN5qJMB7A7-Ic3O4D3VjIscbxbqvt9xlAC0RzdBU.jpg', 'width': 537, 'height': 720, 'visibility': 'public'}, 'followers': {'count': 0}, 'listItems': {'count': 60, 'items': [{'id': 'v58ddb2e4a4367c31f23f23b5', 'createdAt': 1619438945}]}}, {'id': '59ae11d4ad910e1074c0c839', 'name': 'Midtown', 'description': '', 'type': 'others', 'user': {'firstName': 'nat', 'countryCode': 'US'}, 'editable': False, 'public': True, 'collaborative': False, 'url': '/user/2242054/list/midtown', 'canonicalUrl': 'https://foursquare.com/user/2242054/list/midtown', 'createdAt': 1504580052, 'updatedAt': 1553909874, 'photo': {'id': '5501a9b6498ef14f3f085792', 'createdAt': 1426172342, 'prefix': 'https://fastly.4sqi.net/img/general/', 'suffix': '/121864386_09ppKGLG87PLi0e4yD5AJmP9cUT2HAP2BZ7wBcQk950.jpg', 'width': 636, 'height': 664, 'visibility': 'public'}, 'followers': {'count': 0}, 'listItems': {'count': 104, 'items': [{'id': 'v58ddb2e4a4367c31f23f23b5', 'createdAt': 1522611320}]}}, {'id': '561960c6498ecf239ab01efc', 'name': 'Places to try', 'description': '', 'type': 'others', 'user': {'firstName': 'Christine', 'lastName': 'C', 'countryCode': 'US'}, 'editable': False, 'public': True, 'collaborative': False, 'url': '/user/124414473/list/places-to-try', 'canonicalUrl': 'https://foursquare.com/user/124414473/list/places-to-try', 'createdAt': 1444503750, 'updatedAt': 1599844366, 'followers': {'count': 0}, 'listItems': {'count': 271, 'items': [{'id': 'v58ddb2e4a4367c31f23f23b5', 'createdAt': 1511735631}]}}, {'id': '59d5d1ee4aa3f814a5819394', 'name': 'NYC', 'description': '', 'type': 'others', 'user': {'firstName': 'Lukas', 'lastName': 'Z', 'countryCode': 'DE'}, 'editable': False, 'public': True, 'collaborative': False, 'url': '/user/456580924/list/nyc', 'canonicalUrl': 'https://foursquare.com/user/456580924/list/nyc', 'createdAt': 1507185134, 'updatedAt': 1507185236, 'followers': {'count': 0}, 'listItems': {'count': 4, 'items': [{'id': 'v58ddb2e4a4367c31f23f23b5', 'createdAt': 1507185201}]}}]}]}, 'hours': {'status': 'Closed until 4:00 PM', 'richStatus': {'entities': [], 'text': 'Closed until 4:00 PM'}, 'isOpen': False, 'isLocalHoliday': False, 'dayData': [], 'timeframes': [{'days': 'Mon–Wed', 'includesToday': True, 'open': [{'renderedTime': '4:00 PM–Midnight'}], 'segments': []}, {'days': 'Thu–Fri', 'open': [{'renderedTime': '4:00 PM–2:00 AM'}], 'segments': []}, {'days': 'Sat', 'open': [{'renderedTime': 'Noon–2:00 AM'}], 'segments': []}, {'days': 'Sun', 'open': [{'renderedTime': 'Noon–Midnight'}], 'segments': []}]}, 'popular': {'isOpen': False, 'isLocalHoliday': False, 'timeframes': [{'days': 'Today', 'includesToday': True, 'open': [{'renderedTime': '5:00 PM–9:00 PM'}], 'segments': []}, {'days': 'Wed', 'open': [{'renderedTime': '5:00 PM–9:00 PM'}], 'segments': []}, {'days': 'Thu', 'open': [{'renderedTime': '4:00 PM–Midnight'}], 'segments': []}, {'days': 'Fri', 'open': [{'renderedTime': '4:00 PM–1:00 AM'}], 'segments': []}, {'days': 'Sat', 'open': [{'renderedTime': 'Noon–1:00 AM'}], 'segments': []}, {'days': 'Sun', 'open': [{'renderedTime': '2:00 PM–7:00 PM'}], 'segments': []}, {'days': 'Mon', 'open': [{'renderedTime': '7:00 PM–8:00 PM'}], 'segments': []}]}, 'seasonalHours': [], 'defaultHours': {'status': 'Closed until 4:00 PM', 'richStatus': {'entities': [], 'text': 'Closed until 4:00 PM'}, 'isOpen': False, 'isLocalHoliday': False, 'dayData': [], 'timeframes': [{'days': 'Mon–Wed', 'includesToday': True, 'open': [{'renderedTime': '4:00 PM–Midnight'}], 'segments': []}, {'days': 'Thu–Fri', 'open': [{'renderedTime': '4:00 PM–2:00 AM'}], 'segments': []}, {'days': 'Sat', 'open': [{'renderedTime': 'Noon–2:00 AM'}], 'segments': []}, {'days': 'Sun', 'open': [{'renderedTime': 'Noon–Midnight'}], 'segments': []}]}, 'pageUpdates': {'count': 0, 'items': []}, 'inbox': {'count': 0, 'items': []}, 'attributes': {'groups': [{'type': 'price', 'name': 'Price', 'summary': '$$', 'count': 1, 'items': [{'displayName': 'Price', 'displayValue': '$$', 'priceTier': 2}]}, {'type': 'drinks', 'name': 'Drinks', 'summary': 'Beer', 'count': 5, 'items': [{'displayName': 'Beer', 'displayValue': 'Beer'}]}]}, 'bestPhoto': {'id': '607b72057903e0429db4f788', 'createdAt': 1618702853, 'source': {'name': 'Swarm for iOS', 'url': 'https://www.swarmapp.com'}, 'prefix': 'https://fastly.4sqi.net/img/general/', 'suffix': '/381027_0JPbn47GPUohvUr__QwpTuLAkslsNL3SYkun8AJnnCw.jpg', 'width': 1920, 'height': 1440, 'visibility': 'public'}}}}\n",
      "                         ID          Name  Likes  Rating  Tips\n",
      "0  58ddb2e4a4367c31f23f23b5  Clinton Hall     13     7.1     1\n",
      "( 5 / 113 ) processed\n",
      "{'meta': {'code': 429, 'errorType': 'quota_exceeded', 'errorDetail': 'Quota exceeded', 'requestId': '60e48aa2121e2a2b604b2072'}, 'response': {}}\n"
     ]
    },
    {
     "ename": "KeyError",
     "evalue": "'venue'",
     "output_type": "error",
     "traceback": [
      "\u001b[1;31m---------------------------------------------------------------------------\u001b[0m",
      "\u001b[1;31mKeyError\u001b[0m                                  Traceback (most recent call last)",
      "\u001b[1;32m<ipython-input-36-f15a9cce2daa>\u001b[0m in \u001b[0;36m<module>\u001b[1;34m\u001b[0m\n\u001b[0;32m      5\u001b[0m     \u001b[0mBorough\u001b[0m\u001b[1;33m,\u001b[0m\u001b[0mNeighborhood\u001b[0m\u001b[1;33m,\u001b[0m\u001b[0mID\u001b[0m\u001b[1;33m,\u001b[0m\u001b[0mName\u001b[0m\u001b[1;33m=\u001b[0m\u001b[0mrow\u001b[0m\u001b[1;33m\u001b[0m\u001b[1;33m\u001b[0m\u001b[0m\n\u001b[0;32m      6\u001b[0m     \u001b[1;32mtry\u001b[0m\u001b[1;33m:\u001b[0m\u001b[1;33m\u001b[0m\u001b[1;33m\u001b[0m\u001b[0m\n\u001b[1;32m----> 7\u001b[1;33m         \u001b[0mvenue_details\u001b[0m\u001b[1;33m=\u001b[0m\u001b[0mget_venue_details\u001b[0m\u001b[1;33m(\u001b[0m\u001b[0mID\u001b[0m\u001b[1;33m)\u001b[0m\u001b[1;33m\u001b[0m\u001b[1;33m\u001b[0m\u001b[0m\n\u001b[0m\u001b[0;32m      8\u001b[0m         \u001b[0mprint\u001b[0m\u001b[1;33m(\u001b[0m\u001b[0mvenue_details\u001b[0m\u001b[1;33m)\u001b[0m\u001b[1;33m\u001b[0m\u001b[1;33m\u001b[0m\u001b[0m\n\u001b[0;32m      9\u001b[0m         \u001b[0mid\u001b[0m\u001b[1;33m,\u001b[0m\u001b[0mname\u001b[0m\u001b[1;33m,\u001b[0m\u001b[0mlikes\u001b[0m\u001b[1;33m,\u001b[0m\u001b[0mrating\u001b[0m\u001b[1;33m,\u001b[0m\u001b[0mtips\u001b[0m\u001b[1;33m=\u001b[0m\u001b[0mvenue_details\u001b[0m\u001b[1;33m.\u001b[0m\u001b[0mvalues\u001b[0m\u001b[1;33m.\u001b[0m\u001b[0mtolist\u001b[0m\u001b[1;33m(\u001b[0m\u001b[1;33m)\u001b[0m\u001b[1;33m[\u001b[0m\u001b[1;36m0\u001b[0m\u001b[1;33m]\u001b[0m\u001b[1;33m\u001b[0m\u001b[1;33m\u001b[0m\u001b[0m\n",
      "\u001b[1;32m<ipython-input-34-47a3b42888ff>\u001b[0m in \u001b[0;36mget_venue_details\u001b[1;34m(venue_id)\u001b[0m\n\u001b[0;32m      9\u001b[0m     \u001b[0mresults\u001b[0m \u001b[1;33m=\u001b[0m \u001b[0mrequests\u001b[0m\u001b[1;33m.\u001b[0m\u001b[0mget\u001b[0m\u001b[1;33m(\u001b[0m\u001b[0murl\u001b[0m\u001b[1;33m)\u001b[0m\u001b[1;33m.\u001b[0m\u001b[0mjson\u001b[0m\u001b[1;33m(\u001b[0m\u001b[1;33m)\u001b[0m\u001b[1;33m\u001b[0m\u001b[1;33m\u001b[0m\u001b[0m\n\u001b[0;32m     10\u001b[0m     \u001b[0mprint\u001b[0m\u001b[1;33m(\u001b[0m\u001b[0mresults\u001b[0m\u001b[1;33m)\u001b[0m\u001b[1;33m\u001b[0m\u001b[1;33m\u001b[0m\u001b[0m\n\u001b[1;32m---> 11\u001b[1;33m     \u001b[0mvenue_data\u001b[0m\u001b[1;33m=\u001b[0m\u001b[0mresults\u001b[0m\u001b[1;33m[\u001b[0m\u001b[1;34m'response'\u001b[0m\u001b[1;33m]\u001b[0m\u001b[1;33m[\u001b[0m\u001b[1;34m'venue'\u001b[0m\u001b[1;33m]\u001b[0m\u001b[1;33m\u001b[0m\u001b[1;33m\u001b[0m\u001b[0m\n\u001b[0m\u001b[0;32m     12\u001b[0m     \u001b[0mvenue_details\u001b[0m\u001b[1;33m=\u001b[0m\u001b[1;33m[\u001b[0m\u001b[1;33m]\u001b[0m\u001b[1;33m\u001b[0m\u001b[1;33m\u001b[0m\u001b[0m\n\u001b[0;32m     13\u001b[0m     \u001b[1;32mtry\u001b[0m\u001b[1;33m:\u001b[0m\u001b[1;33m\u001b[0m\u001b[1;33m\u001b[0m\u001b[0m\n",
      "\u001b[1;31mKeyError\u001b[0m: 'venue'"
     ]
    }
   ],
   "source": [
    "column_names=['Borough', 'Neighborhood', 'ID','Name','Likes','Rating','Tips']\n",
    "american_rest_stats_ny=pd.DataFrame(columns=column_names)\n",
    "count=1\n",
    "for row in american_rest_ny.values.tolist():\n",
    "    Borough,Neighborhood,ID,Name=row\n",
    "    try:\n",
    "        venue_details=get_venue_details(ID)\n",
    "        print(venue_details)\n",
    "        id,name,likes,rating,tips=venue_details.values.tolist()[0]\n",
    "    except IndexError:\n",
    "        print('No data available for id=',ID)\n",
    "        # we will assign 0 value for these resturants as they may have been \n",
    "        #recently opened or details does not exist in FourSquare Database\n",
    "        id,name,likes,rating,tips=[0]*5\n",
    "    print('(',count,'/',len(american_rest_ny),')','processed')\n",
    "    american_rest_stats_ny = american_rest_stats_ny.append({'Borough': Borough,\n",
    "                                                'Neighborhood': Neighborhood, \n",
    "                                                'ID': id,\n",
    "                                                'Name' : name,\n",
    "                                                'Likes' : likes,\n",
    "                                                'Rating' : rating,\n",
    "                                                'Tips' : tips\n",
    "                                               }, ignore_index=True)\n",
    "    count+=1\n",
    "american_rest_stats_ny.tail()"
   ]
  },
  {
   "cell_type": "code",
   "execution_count": 37,
   "id": "9fa4339c",
   "metadata": {},
   "outputs": [],
   "source": [
    "american_rest_stats_ny.to_csv('american_rest_stats_ny_csv.csv') # As I move through this project I continue to save data to a .csv file"
   ]
  },
  {
   "cell_type": "code",
   "execution_count": 38,
   "id": "f35bd487",
   "metadata": {},
   "outputs": [
    {
     "data": {
      "text/plain": [
       "(5, 7)"
      ]
     },
     "execution_count": 38,
     "metadata": {},
     "output_type": "execute_result"
    }
   ],
   "source": [
    "american_rest_stats_ny.shape"
   ]
  },
  {
   "cell_type": "markdown",
   "id": "a769e45b",
   "metadata": {},
   "source": [
    "We got statistics for all 113 american Restaurants in New York city.\n",
    "\n",
    "Let's check what values we have in our DataFrame"
   ]
  },
  {
   "cell_type": "markdown",
   "id": "c72ac6c3",
   "metadata": {},
   "source": [
    "american_rest_stats_ny.info()"
   ]
  },
  {
   "cell_type": "markdown",
   "id": "170a580c",
   "metadata": {},
   "source": [
    "We see that the values like Likes, Tips are string values. We would need to convert them into float for further analysis"
   ]
  },
  {
   "cell_type": "code",
   "execution_count": 39,
   "id": "25272183",
   "metadata": {},
   "outputs": [
    {
     "name": "stdout",
     "output_type": "stream",
     "text": [
      "<class 'pandas.core.frame.DataFrame'>\n",
      "RangeIndex: 5 entries, 0 to 4\n",
      "Data columns (total 7 columns):\n",
      " #   Column        Non-Null Count  Dtype  \n",
      "---  ------        --------------  -----  \n",
      " 0   Borough       5 non-null      object \n",
      " 1   Neighborhood  5 non-null      object \n",
      " 2   ID            5 non-null      object \n",
      " 3   Name          5 non-null      object \n",
      " 4   Likes         5 non-null      float64\n",
      " 5   Rating        5 non-null      object \n",
      " 6   Tips          5 non-null      float64\n",
      "dtypes: float64(2), object(5)\n",
      "memory usage: 408.0+ bytes\n"
     ]
    }
   ],
   "source": [
    "\n",
    "american_rest_stats_ny['Likes'] = american_rest_stats_ny['Likes'].astype('float64')\n",
    "american_rest_stats_ny['Tips'] = american_rest_stats_ny['Tips'].astype('float64')\n",
    "american_rest_stats_ny.info()"
   ]
  },
  {
   "cell_type": "code",
   "execution_count": 40,
   "id": "f2ed8133",
   "metadata": {},
   "outputs": [
    {
     "data": {
      "text/html": [
       "<div>\n",
       "<style scoped>\n",
       "    .dataframe tbody tr th:only-of-type {\n",
       "        vertical-align: middle;\n",
       "    }\n",
       "\n",
       "    .dataframe tbody tr th {\n",
       "        vertical-align: top;\n",
       "    }\n",
       "\n",
       "    .dataframe thead th {\n",
       "        text-align: right;\n",
       "    }\n",
       "</style>\n",
       "<table border=\"1\" class=\"dataframe\">\n",
       "  <thead>\n",
       "    <tr style=\"text-align: right;\">\n",
       "      <th></th>\n",
       "      <th>Likes</th>\n",
       "      <th>Tips</th>\n",
       "    </tr>\n",
       "  </thead>\n",
       "  <tbody>\n",
       "    <tr>\n",
       "      <th>count</th>\n",
       "      <td>5.000000</td>\n",
       "      <td>5.000000</td>\n",
       "    </tr>\n",
       "    <tr>\n",
       "      <th>mean</th>\n",
       "      <td>16.800000</td>\n",
       "      <td>9.400000</td>\n",
       "    </tr>\n",
       "    <tr>\n",
       "      <th>std</th>\n",
       "      <td>18.157643</td>\n",
       "      <td>12.441865</td>\n",
       "    </tr>\n",
       "    <tr>\n",
       "      <th>min</th>\n",
       "      <td>0.000000</td>\n",
       "      <td>0.000000</td>\n",
       "    </tr>\n",
       "    <tr>\n",
       "      <th>25%</th>\n",
       "      <td>0.000000</td>\n",
       "      <td>0.000000</td>\n",
       "    </tr>\n",
       "    <tr>\n",
       "      <th>50%</th>\n",
       "      <td>13.000000</td>\n",
       "      <td>1.000000</td>\n",
       "    </tr>\n",
       "    <tr>\n",
       "      <th>75%</th>\n",
       "      <td>31.000000</td>\n",
       "      <td>22.000000</td>\n",
       "    </tr>\n",
       "    <tr>\n",
       "      <th>max</th>\n",
       "      <td>40.000000</td>\n",
       "      <td>24.000000</td>\n",
       "    </tr>\n",
       "  </tbody>\n",
       "</table>\n",
       "</div>"
      ],
      "text/plain": [
       "           Likes       Tips\n",
       "count   5.000000   5.000000\n",
       "mean   16.800000   9.400000\n",
       "std    18.157643  12.441865\n",
       "min     0.000000   0.000000\n",
       "25%     0.000000   0.000000\n",
       "50%    13.000000   1.000000\n",
       "75%    31.000000  22.000000\n",
       "max    40.000000  24.000000"
      ]
     },
     "execution_count": 40,
     "metadata": {},
     "output_type": "execute_result"
    }
   ],
   "source": [
    "# descriptive stats of data\n",
    "american_rest_stats_ny.describe()"
   ]
  },
  {
   "cell_type": "code",
   "execution_count": 41,
   "id": "597c8fc3",
   "metadata": {},
   "outputs": [
    {
     "data": {
      "text/plain": [
       "Borough                            Bronx\n",
       "Neighborhood                 Parkchester\n",
       "ID              4adb9b03f964a520552921e3\n",
       "Name                       Ellie's Diner\n",
       "Likes                               40.0\n",
       "Rating                               7.1\n",
       "Tips                                22.0\n",
       "Name: 3, dtype: object"
      ]
     },
     "execution_count": 41,
     "metadata": {},
     "output_type": "execute_result"
    }
   ],
   "source": [
    "# Resturant with maximum Likes\n",
    "american_rest_stats_ny.iloc[american_rest_stats_ny['Likes'].idxmax()]"
   ]
  },
  {
   "cell_type": "code",
   "execution_count": 42,
   "id": "675b6ae5",
   "metadata": {},
   "outputs": [
    {
     "ename": "TypeError",
     "evalue": "reduction operation 'argmax' not allowed for this dtype",
     "output_type": "error",
     "traceback": [
      "\u001b[1;31m---------------------------------------------------------------------------\u001b[0m",
      "\u001b[1;31mTypeError\u001b[0m                                 Traceback (most recent call last)",
      "\u001b[1;32m<ipython-input-42-00ad8e75640f>\u001b[0m in \u001b[0;36m<module>\u001b[1;34m\u001b[0m\n\u001b[0;32m      1\u001b[0m \u001b[1;31m# Resturant with maximum Ratings\u001b[0m\u001b[1;33m\u001b[0m\u001b[1;33m\u001b[0m\u001b[1;33m\u001b[0m\u001b[0m\n\u001b[1;32m----> 2\u001b[1;33m \u001b[0mamerican_rest_stats_ny\u001b[0m\u001b[1;33m.\u001b[0m\u001b[0miloc\u001b[0m\u001b[1;33m[\u001b[0m\u001b[0mamerican_rest_stats_ny\u001b[0m\u001b[1;33m[\u001b[0m\u001b[1;34m'Rating'\u001b[0m\u001b[1;33m]\u001b[0m\u001b[1;33m.\u001b[0m\u001b[0midxmax\u001b[0m\u001b[1;33m(\u001b[0m\u001b[1;33m)\u001b[0m\u001b[1;33m]\u001b[0m\u001b[1;33m\u001b[0m\u001b[1;33m\u001b[0m\u001b[0m\n\u001b[0m",
      "\u001b[1;32mc:\\users\\user\\appdata\\local\\programs\\python\\python39\\lib\\site-packages\\pandas\\core\\series.py\u001b[0m in \u001b[0;36midxmax\u001b[1;34m(self, axis, skipna, *args, **kwargs)\u001b[0m\n\u001b[0;32m   2172\u001b[0m         \"\"\"\n\u001b[0;32m   2173\u001b[0m         \u001b[0mskipna\u001b[0m \u001b[1;33m=\u001b[0m \u001b[0mnv\u001b[0m\u001b[1;33m.\u001b[0m\u001b[0mvalidate_argmax_with_skipna\u001b[0m\u001b[1;33m(\u001b[0m\u001b[0mskipna\u001b[0m\u001b[1;33m,\u001b[0m \u001b[0margs\u001b[0m\u001b[1;33m,\u001b[0m \u001b[0mkwargs\u001b[0m\u001b[1;33m)\u001b[0m\u001b[1;33m\u001b[0m\u001b[1;33m\u001b[0m\u001b[0m\n\u001b[1;32m-> 2174\u001b[1;33m         \u001b[0mi\u001b[0m \u001b[1;33m=\u001b[0m \u001b[0mnanops\u001b[0m\u001b[1;33m.\u001b[0m\u001b[0mnanargmax\u001b[0m\u001b[1;33m(\u001b[0m\u001b[0mself\u001b[0m\u001b[1;33m.\u001b[0m\u001b[0m_values\u001b[0m\u001b[1;33m,\u001b[0m \u001b[0mskipna\u001b[0m\u001b[1;33m=\u001b[0m\u001b[0mskipna\u001b[0m\u001b[1;33m)\u001b[0m\u001b[1;33m\u001b[0m\u001b[1;33m\u001b[0m\u001b[0m\n\u001b[0m\u001b[0;32m   2175\u001b[0m         \u001b[1;32mif\u001b[0m \u001b[0mi\u001b[0m \u001b[1;33m==\u001b[0m \u001b[1;33m-\u001b[0m\u001b[1;36m1\u001b[0m\u001b[1;33m:\u001b[0m\u001b[1;33m\u001b[0m\u001b[1;33m\u001b[0m\u001b[0m\n\u001b[0;32m   2176\u001b[0m             \u001b[1;32mreturn\u001b[0m \u001b[0mnp\u001b[0m\u001b[1;33m.\u001b[0m\u001b[0mnan\u001b[0m\u001b[1;33m\u001b[0m\u001b[1;33m\u001b[0m\u001b[0m\n",
      "\u001b[1;32mc:\\users\\user\\appdata\\local\\programs\\python\\python39\\lib\\site-packages\\pandas\\core\\nanops.py\u001b[0m in \u001b[0;36m_f\u001b[1;34m(*args, **kwargs)\u001b[0m\n\u001b[0;32m     66\u001b[0m             \u001b[1;32mif\u001b[0m \u001b[0many\u001b[0m\u001b[1;33m(\u001b[0m\u001b[0mself\u001b[0m\u001b[1;33m.\u001b[0m\u001b[0mcheck\u001b[0m\u001b[1;33m(\u001b[0m\u001b[0mobj\u001b[0m\u001b[1;33m)\u001b[0m \u001b[1;32mfor\u001b[0m \u001b[0mobj\u001b[0m \u001b[1;32min\u001b[0m \u001b[0mobj_iter\u001b[0m\u001b[1;33m)\u001b[0m\u001b[1;33m:\u001b[0m\u001b[1;33m\u001b[0m\u001b[1;33m\u001b[0m\u001b[0m\n\u001b[0;32m     67\u001b[0m                 \u001b[0mf_name\u001b[0m \u001b[1;33m=\u001b[0m \u001b[0mf\u001b[0m\u001b[1;33m.\u001b[0m\u001b[0m__name__\u001b[0m\u001b[1;33m.\u001b[0m\u001b[0mreplace\u001b[0m\u001b[1;33m(\u001b[0m\u001b[1;34m\"nan\"\u001b[0m\u001b[1;33m,\u001b[0m \u001b[1;34m\"\"\u001b[0m\u001b[1;33m)\u001b[0m\u001b[1;33m\u001b[0m\u001b[1;33m\u001b[0m\u001b[0m\n\u001b[1;32m---> 68\u001b[1;33m                 raise TypeError(\n\u001b[0m\u001b[0;32m     69\u001b[0m                     \u001b[1;34mf\"reduction operation '{f_name}' not allowed for this dtype\"\u001b[0m\u001b[1;33m\u001b[0m\u001b[1;33m\u001b[0m\u001b[0m\n\u001b[0;32m     70\u001b[0m                 )\n",
      "\u001b[1;31mTypeError\u001b[0m: reduction operation 'argmax' not allowed for this dtype"
     ]
    }
   ],
   "source": [
    "# Resturant with maximum Ratings\n",
    "american_rest_stats_ny.iloc[american_rest_stats_ny['Rating'].idxmax()]"
   ]
  },
  {
   "cell_type": "code",
   "execution_count": 43,
   "id": "e7ef57d4",
   "metadata": {},
   "outputs": [
    {
     "data": {
      "text/plain": [
       "Borough                            Bronx\n",
       "Neighborhood                 City Island\n",
       "ID              45164517f964a5200a3a1fe3\n",
       "Name                         Black Whale\n",
       "Likes                               31.0\n",
       "Rating                               6.9\n",
       "Tips                                24.0\n",
       "Name: 1, dtype: object"
      ]
     },
     "execution_count": 43,
     "metadata": {},
     "output_type": "execute_result"
    }
   ],
   "source": [
    "# Resturant with maximum Tips\n",
    "american_rest_stats_ny.iloc[american_rest_stats_ny['Tips'].idxmax()]"
   ]
  },
  {
   "cell_type": "markdown",
   "id": "f7b36953",
   "metadata": {},
   "source": [
    "# Now identify and visualize neighborhood with the maximum average rating of restaurants"
   ]
  },
  {
   "cell_type": "code",
   "execution_count": 53,
   "id": "b0e71e19",
   "metadata": {},
   "outputs": [
    {
     "ename": "KeyError",
     "evalue": "\"['Rating'] not in index\"",
     "output_type": "error",
     "traceback": [
      "\u001b[1;31m---------------------------------------------------------------------------\u001b[0m",
      "\u001b[1;31mKeyError\u001b[0m                                  Traceback (most recent call last)",
      "\u001b[1;32m<ipython-input-53-689e5389037c>\u001b[0m in \u001b[0;36m<module>\u001b[1;34m\u001b[0m\n\u001b[1;32m----> 1\u001b[1;33m \u001b[0mny_neighborhood_stats\u001b[0m\u001b[1;33m=\u001b[0m\u001b[0mamerican_rest_stats_ny\u001b[0m\u001b[1;33m.\u001b[0m\u001b[0mgroupby\u001b[0m\u001b[1;33m(\u001b[0m\u001b[1;34m'Neighborhood'\u001b[0m\u001b[1;33m,\u001b[0m\u001b[0mas_index\u001b[0m\u001b[1;33m=\u001b[0m\u001b[1;32mFalse\u001b[0m\u001b[1;33m)\u001b[0m\u001b[1;33m.\u001b[0m\u001b[0mmean\u001b[0m\u001b[1;33m(\u001b[0m\u001b[1;33m)\u001b[0m\u001b[1;33m[\u001b[0m\u001b[1;33m[\u001b[0m\u001b[1;34m'Neighborhood'\u001b[0m\u001b[1;33m,\u001b[0m\u001b[1;34m'Rating'\u001b[0m\u001b[1;33m]\u001b[0m\u001b[1;33m]\u001b[0m\u001b[1;33m\u001b[0m\u001b[1;33m\u001b[0m\u001b[0m\n\u001b[0m\u001b[0;32m      2\u001b[0m \u001b[0mny_neighborhood_stats\u001b[0m\u001b[1;33m.\u001b[0m\u001b[0mcolumns\u001b[0m\u001b[1;33m=\u001b[0m\u001b[1;33m[\u001b[0m\u001b[1;34m'Neighborhood'\u001b[0m\u001b[1;33m,\u001b[0m\u001b[1;34m'Average Rating'\u001b[0m\u001b[1;33m]\u001b[0m\u001b[1;33m\u001b[0m\u001b[1;33m\u001b[0m\u001b[0m\n\u001b[0;32m      3\u001b[0m \u001b[0mny_neighborhood_stats\u001b[0m\u001b[1;33m.\u001b[0m\u001b[0msort_values\u001b[0m\u001b[1;33m(\u001b[0m\u001b[1;33m[\u001b[0m\u001b[1;34m'Average Rating'\u001b[0m\u001b[1;33m]\u001b[0m\u001b[1;33m,\u001b[0m\u001b[0mascending\u001b[0m\u001b[1;33m=\u001b[0m\u001b[1;32mFalse\u001b[0m\u001b[1;33m)\u001b[0m\u001b[1;33m.\u001b[0m\u001b[0mhead\u001b[0m\u001b[1;33m(\u001b[0m\u001b[1;36m10\u001b[0m\u001b[1;33m)\u001b[0m\u001b[1;33m\u001b[0m\u001b[1;33m\u001b[0m\u001b[0m\n",
      "\u001b[1;32mc:\\users\\user\\appdata\\local\\programs\\python\\python39\\lib\\site-packages\\pandas\\core\\frame.py\u001b[0m in \u001b[0;36m__getitem__\u001b[1;34m(self, key)\u001b[0m\n\u001b[0;32m   3028\u001b[0m             \u001b[1;32mif\u001b[0m \u001b[0mis_iterator\u001b[0m\u001b[1;33m(\u001b[0m\u001b[0mkey\u001b[0m\u001b[1;33m)\u001b[0m\u001b[1;33m:\u001b[0m\u001b[1;33m\u001b[0m\u001b[1;33m\u001b[0m\u001b[0m\n\u001b[0;32m   3029\u001b[0m                 \u001b[0mkey\u001b[0m \u001b[1;33m=\u001b[0m \u001b[0mlist\u001b[0m\u001b[1;33m(\u001b[0m\u001b[0mkey\u001b[0m\u001b[1;33m)\u001b[0m\u001b[1;33m\u001b[0m\u001b[1;33m\u001b[0m\u001b[0m\n\u001b[1;32m-> 3030\u001b[1;33m             \u001b[0mindexer\u001b[0m \u001b[1;33m=\u001b[0m \u001b[0mself\u001b[0m\u001b[1;33m.\u001b[0m\u001b[0mloc\u001b[0m\u001b[1;33m.\u001b[0m\u001b[0m_get_listlike_indexer\u001b[0m\u001b[1;33m(\u001b[0m\u001b[0mkey\u001b[0m\u001b[1;33m,\u001b[0m \u001b[0maxis\u001b[0m\u001b[1;33m=\u001b[0m\u001b[1;36m1\u001b[0m\u001b[1;33m,\u001b[0m \u001b[0mraise_missing\u001b[0m\u001b[1;33m=\u001b[0m\u001b[1;32mTrue\u001b[0m\u001b[1;33m)\u001b[0m\u001b[1;33m[\u001b[0m\u001b[1;36m1\u001b[0m\u001b[1;33m]\u001b[0m\u001b[1;33m\u001b[0m\u001b[1;33m\u001b[0m\u001b[0m\n\u001b[0m\u001b[0;32m   3031\u001b[0m \u001b[1;33m\u001b[0m\u001b[0m\n\u001b[0;32m   3032\u001b[0m         \u001b[1;31m# take() does not accept boolean indexers\u001b[0m\u001b[1;33m\u001b[0m\u001b[1;33m\u001b[0m\u001b[1;33m\u001b[0m\u001b[0m\n",
      "\u001b[1;32mc:\\users\\user\\appdata\\local\\programs\\python\\python39\\lib\\site-packages\\pandas\\core\\indexing.py\u001b[0m in \u001b[0;36m_get_listlike_indexer\u001b[1;34m(self, key, axis, raise_missing)\u001b[0m\n\u001b[0;32m   1264\u001b[0m             \u001b[0mkeyarr\u001b[0m\u001b[1;33m,\u001b[0m \u001b[0mindexer\u001b[0m\u001b[1;33m,\u001b[0m \u001b[0mnew_indexer\u001b[0m \u001b[1;33m=\u001b[0m \u001b[0max\u001b[0m\u001b[1;33m.\u001b[0m\u001b[0m_reindex_non_unique\u001b[0m\u001b[1;33m(\u001b[0m\u001b[0mkeyarr\u001b[0m\u001b[1;33m)\u001b[0m\u001b[1;33m\u001b[0m\u001b[1;33m\u001b[0m\u001b[0m\n\u001b[0;32m   1265\u001b[0m \u001b[1;33m\u001b[0m\u001b[0m\n\u001b[1;32m-> 1266\u001b[1;33m         \u001b[0mself\u001b[0m\u001b[1;33m.\u001b[0m\u001b[0m_validate_read_indexer\u001b[0m\u001b[1;33m(\u001b[0m\u001b[0mkeyarr\u001b[0m\u001b[1;33m,\u001b[0m \u001b[0mindexer\u001b[0m\u001b[1;33m,\u001b[0m \u001b[0maxis\u001b[0m\u001b[1;33m,\u001b[0m \u001b[0mraise_missing\u001b[0m\u001b[1;33m=\u001b[0m\u001b[0mraise_missing\u001b[0m\u001b[1;33m)\u001b[0m\u001b[1;33m\u001b[0m\u001b[1;33m\u001b[0m\u001b[0m\n\u001b[0m\u001b[0;32m   1267\u001b[0m         \u001b[1;32mreturn\u001b[0m \u001b[0mkeyarr\u001b[0m\u001b[1;33m,\u001b[0m \u001b[0mindexer\u001b[0m\u001b[1;33m\u001b[0m\u001b[1;33m\u001b[0m\u001b[0m\n\u001b[0;32m   1268\u001b[0m \u001b[1;33m\u001b[0m\u001b[0m\n",
      "\u001b[1;32mc:\\users\\user\\appdata\\local\\programs\\python\\python39\\lib\\site-packages\\pandas\\core\\indexing.py\u001b[0m in \u001b[0;36m_validate_read_indexer\u001b[1;34m(self, key, indexer, axis, raise_missing)\u001b[0m\n\u001b[0;32m   1314\u001b[0m             \u001b[1;32mif\u001b[0m \u001b[0mraise_missing\u001b[0m\u001b[1;33m:\u001b[0m\u001b[1;33m\u001b[0m\u001b[1;33m\u001b[0m\u001b[0m\n\u001b[0;32m   1315\u001b[0m                 \u001b[0mnot_found\u001b[0m \u001b[1;33m=\u001b[0m \u001b[0mlist\u001b[0m\u001b[1;33m(\u001b[0m\u001b[0mset\u001b[0m\u001b[1;33m(\u001b[0m\u001b[0mkey\u001b[0m\u001b[1;33m)\u001b[0m \u001b[1;33m-\u001b[0m \u001b[0mset\u001b[0m\u001b[1;33m(\u001b[0m\u001b[0max\u001b[0m\u001b[1;33m)\u001b[0m\u001b[1;33m)\u001b[0m\u001b[1;33m\u001b[0m\u001b[1;33m\u001b[0m\u001b[0m\n\u001b[1;32m-> 1316\u001b[1;33m                 \u001b[1;32mraise\u001b[0m \u001b[0mKeyError\u001b[0m\u001b[1;33m(\u001b[0m\u001b[1;34mf\"{not_found} not in index\"\u001b[0m\u001b[1;33m)\u001b[0m\u001b[1;33m\u001b[0m\u001b[1;33m\u001b[0m\u001b[0m\n\u001b[0m\u001b[0;32m   1317\u001b[0m \u001b[1;33m\u001b[0m\u001b[0m\n\u001b[0;32m   1318\u001b[0m             \u001b[0mnot_found\u001b[0m \u001b[1;33m=\u001b[0m \u001b[0mkey\u001b[0m\u001b[1;33m[\u001b[0m\u001b[0mmissing_mask\u001b[0m\u001b[1;33m]\u001b[0m\u001b[1;33m\u001b[0m\u001b[1;33m\u001b[0m\u001b[0m\n",
      "\u001b[1;31mKeyError\u001b[0m: \"['Rating'] not in index\""
     ]
    }
   ],
   "source": [
    "ny_neighborhood_stats=american_rest_stats_ny.groupby('Neighborhood',as_index=False).mean()[['Neighborhood','Rating']]\n",
    "ny_neighborhood_stats.columns=['Neighborhood','Average Rating']\n",
    "ny_neighborhood_stats.sort_values(['Average Rating'],ascending=False).head(10)"
   ]
  },
  {
   "cell_type": "markdown",
   "id": "fdb9a8a0",
   "metadata": {},
   "source": [
    "Above are the top neighborhoods with the highest average ratings of american restaurants."
   ]
  },
  {
   "cell_type": "code",
   "execution_count": 45,
   "id": "787a4cc1",
   "metadata": {},
   "outputs": [
    {
     "ename": "KeyError",
     "evalue": "\"['Rating'] not in index\"",
     "output_type": "error",
     "traceback": [
      "\u001b[1;31m---------------------------------------------------------------------------\u001b[0m",
      "\u001b[1;31mKeyError\u001b[0m                                  Traceback (most recent call last)",
      "\u001b[1;32m<ipython-input-45-2810d54f475d>\u001b[0m in \u001b[0;36m<module>\u001b[1;34m\u001b[0m\n\u001b[1;32m----> 1\u001b[1;33m \u001b[0mny_borough_stats\u001b[0m\u001b[1;33m=\u001b[0m\u001b[0mamerican_rest_stats_ny\u001b[0m\u001b[1;33m.\u001b[0m\u001b[0mgroupby\u001b[0m\u001b[1;33m(\u001b[0m\u001b[1;34m'Borough'\u001b[0m\u001b[1;33m,\u001b[0m\u001b[0mas_index\u001b[0m\u001b[1;33m=\u001b[0m\u001b[1;32mFalse\u001b[0m\u001b[1;33m)\u001b[0m\u001b[1;33m.\u001b[0m\u001b[0mmean\u001b[0m\u001b[1;33m(\u001b[0m\u001b[1;33m)\u001b[0m\u001b[1;33m[\u001b[0m\u001b[1;33m[\u001b[0m\u001b[1;34m'Borough'\u001b[0m\u001b[1;33m,\u001b[0m\u001b[1;34m'Rating'\u001b[0m\u001b[1;33m]\u001b[0m\u001b[1;33m]\u001b[0m\u001b[1;33m\u001b[0m\u001b[1;33m\u001b[0m\u001b[0m\n\u001b[0m\u001b[0;32m      2\u001b[0m \u001b[0mny_borough_stats\u001b[0m\u001b[1;33m.\u001b[0m\u001b[0mcolumns\u001b[0m\u001b[1;33m=\u001b[0m\u001b[1;33m[\u001b[0m\u001b[1;34m'Borough'\u001b[0m\u001b[1;33m,\u001b[0m\u001b[1;34m'Average Rating'\u001b[0m\u001b[1;33m]\u001b[0m\u001b[1;33m\u001b[0m\u001b[1;33m\u001b[0m\u001b[0m\n\u001b[0;32m      3\u001b[0m \u001b[0mny_borough_stats\u001b[0m\u001b[1;33m.\u001b[0m\u001b[0msort_values\u001b[0m\u001b[1;33m(\u001b[0m\u001b[1;33m[\u001b[0m\u001b[1;34m'Average Rating'\u001b[0m\u001b[1;33m]\u001b[0m\u001b[1;33m,\u001b[0m\u001b[0mascending\u001b[0m\u001b[1;33m=\u001b[0m\u001b[1;32mFalse\u001b[0m\u001b[1;33m)\u001b[0m\u001b[1;33m.\u001b[0m\u001b[0mhead\u001b[0m\u001b[1;33m(\u001b[0m\u001b[1;33m)\u001b[0m\u001b[1;33m\u001b[0m\u001b[1;33m\u001b[0m\u001b[0m\n",
      "\u001b[1;32mc:\\users\\user\\appdata\\local\\programs\\python\\python39\\lib\\site-packages\\pandas\\core\\frame.py\u001b[0m in \u001b[0;36m__getitem__\u001b[1;34m(self, key)\u001b[0m\n\u001b[0;32m   3028\u001b[0m             \u001b[1;32mif\u001b[0m \u001b[0mis_iterator\u001b[0m\u001b[1;33m(\u001b[0m\u001b[0mkey\u001b[0m\u001b[1;33m)\u001b[0m\u001b[1;33m:\u001b[0m\u001b[1;33m\u001b[0m\u001b[1;33m\u001b[0m\u001b[0m\n\u001b[0;32m   3029\u001b[0m                 \u001b[0mkey\u001b[0m \u001b[1;33m=\u001b[0m \u001b[0mlist\u001b[0m\u001b[1;33m(\u001b[0m\u001b[0mkey\u001b[0m\u001b[1;33m)\u001b[0m\u001b[1;33m\u001b[0m\u001b[1;33m\u001b[0m\u001b[0m\n\u001b[1;32m-> 3030\u001b[1;33m             \u001b[0mindexer\u001b[0m \u001b[1;33m=\u001b[0m \u001b[0mself\u001b[0m\u001b[1;33m.\u001b[0m\u001b[0mloc\u001b[0m\u001b[1;33m.\u001b[0m\u001b[0m_get_listlike_indexer\u001b[0m\u001b[1;33m(\u001b[0m\u001b[0mkey\u001b[0m\u001b[1;33m,\u001b[0m \u001b[0maxis\u001b[0m\u001b[1;33m=\u001b[0m\u001b[1;36m1\u001b[0m\u001b[1;33m,\u001b[0m \u001b[0mraise_missing\u001b[0m\u001b[1;33m=\u001b[0m\u001b[1;32mTrue\u001b[0m\u001b[1;33m)\u001b[0m\u001b[1;33m[\u001b[0m\u001b[1;36m1\u001b[0m\u001b[1;33m]\u001b[0m\u001b[1;33m\u001b[0m\u001b[1;33m\u001b[0m\u001b[0m\n\u001b[0m\u001b[0;32m   3031\u001b[0m \u001b[1;33m\u001b[0m\u001b[0m\n\u001b[0;32m   3032\u001b[0m         \u001b[1;31m# take() does not accept boolean indexers\u001b[0m\u001b[1;33m\u001b[0m\u001b[1;33m\u001b[0m\u001b[1;33m\u001b[0m\u001b[0m\n",
      "\u001b[1;32mc:\\users\\user\\appdata\\local\\programs\\python\\python39\\lib\\site-packages\\pandas\\core\\indexing.py\u001b[0m in \u001b[0;36m_get_listlike_indexer\u001b[1;34m(self, key, axis, raise_missing)\u001b[0m\n\u001b[0;32m   1264\u001b[0m             \u001b[0mkeyarr\u001b[0m\u001b[1;33m,\u001b[0m \u001b[0mindexer\u001b[0m\u001b[1;33m,\u001b[0m \u001b[0mnew_indexer\u001b[0m \u001b[1;33m=\u001b[0m \u001b[0max\u001b[0m\u001b[1;33m.\u001b[0m\u001b[0m_reindex_non_unique\u001b[0m\u001b[1;33m(\u001b[0m\u001b[0mkeyarr\u001b[0m\u001b[1;33m)\u001b[0m\u001b[1;33m\u001b[0m\u001b[1;33m\u001b[0m\u001b[0m\n\u001b[0;32m   1265\u001b[0m \u001b[1;33m\u001b[0m\u001b[0m\n\u001b[1;32m-> 1266\u001b[1;33m         \u001b[0mself\u001b[0m\u001b[1;33m.\u001b[0m\u001b[0m_validate_read_indexer\u001b[0m\u001b[1;33m(\u001b[0m\u001b[0mkeyarr\u001b[0m\u001b[1;33m,\u001b[0m \u001b[0mindexer\u001b[0m\u001b[1;33m,\u001b[0m \u001b[0maxis\u001b[0m\u001b[1;33m,\u001b[0m \u001b[0mraise_missing\u001b[0m\u001b[1;33m=\u001b[0m\u001b[0mraise_missing\u001b[0m\u001b[1;33m)\u001b[0m\u001b[1;33m\u001b[0m\u001b[1;33m\u001b[0m\u001b[0m\n\u001b[0m\u001b[0;32m   1267\u001b[0m         \u001b[1;32mreturn\u001b[0m \u001b[0mkeyarr\u001b[0m\u001b[1;33m,\u001b[0m \u001b[0mindexer\u001b[0m\u001b[1;33m\u001b[0m\u001b[1;33m\u001b[0m\u001b[0m\n\u001b[0;32m   1268\u001b[0m \u001b[1;33m\u001b[0m\u001b[0m\n",
      "\u001b[1;32mc:\\users\\user\\appdata\\local\\programs\\python\\python39\\lib\\site-packages\\pandas\\core\\indexing.py\u001b[0m in \u001b[0;36m_validate_read_indexer\u001b[1;34m(self, key, indexer, axis, raise_missing)\u001b[0m\n\u001b[0;32m   1314\u001b[0m             \u001b[1;32mif\u001b[0m \u001b[0mraise_missing\u001b[0m\u001b[1;33m:\u001b[0m\u001b[1;33m\u001b[0m\u001b[1;33m\u001b[0m\u001b[0m\n\u001b[0;32m   1315\u001b[0m                 \u001b[0mnot_found\u001b[0m \u001b[1;33m=\u001b[0m \u001b[0mlist\u001b[0m\u001b[1;33m(\u001b[0m\u001b[0mset\u001b[0m\u001b[1;33m(\u001b[0m\u001b[0mkey\u001b[0m\u001b[1;33m)\u001b[0m \u001b[1;33m-\u001b[0m \u001b[0mset\u001b[0m\u001b[1;33m(\u001b[0m\u001b[0max\u001b[0m\u001b[1;33m)\u001b[0m\u001b[1;33m)\u001b[0m\u001b[1;33m\u001b[0m\u001b[1;33m\u001b[0m\u001b[0m\n\u001b[1;32m-> 1316\u001b[1;33m                 \u001b[1;32mraise\u001b[0m \u001b[0mKeyError\u001b[0m\u001b[1;33m(\u001b[0m\u001b[1;34mf\"{not_found} not in index\"\u001b[0m\u001b[1;33m)\u001b[0m\u001b[1;33m\u001b[0m\u001b[1;33m\u001b[0m\u001b[0m\n\u001b[0m\u001b[0;32m   1317\u001b[0m \u001b[1;33m\u001b[0m\u001b[0m\n\u001b[0;32m   1318\u001b[0m             \u001b[0mnot_found\u001b[0m \u001b[1;33m=\u001b[0m \u001b[0mkey\u001b[0m\u001b[1;33m[\u001b[0m\u001b[0mmissing_mask\u001b[0m\u001b[1;33m]\u001b[0m\u001b[1;33m\u001b[0m\u001b[1;33m\u001b[0m\u001b[0m\n",
      "\u001b[1;31mKeyError\u001b[0m: \"['Rating'] not in index\""
     ]
    }
   ],
   "source": [
    "ny_borough_stats=american_rest_stats_ny.groupby('Borough',as_index=False).mean()[['Borough','Rating']]\n",
    "ny_borough_stats.columns=['Borough','Average Rating']\n",
    "ny_borough_stats.sort_values(['Average Rating'],ascending=False).head()"
   ]
  },
  {
   "cell_type": "markdown",
   "id": "b4561d29",
   "metadata": {},
   "source": [
    "Similarly these are the average ratings of Japanese Restaurants for each Borough"
   ]
  },
  {
   "cell_type": "code",
   "execution_count": 46,
   "id": "1877c3dc",
   "metadata": {},
   "outputs": [
    {
     "ename": "KeyError",
     "evalue": "'Rating'",
     "output_type": "error",
     "traceback": [
      "\u001b[1;31m---------------------------------------------------------------------------\u001b[0m",
      "\u001b[1;31mKeyError\u001b[0m                                  Traceback (most recent call last)",
      "\u001b[1;32mc:\\users\\user\\appdata\\local\\programs\\python\\python39\\lib\\site-packages\\pandas\\core\\indexes\\base.py\u001b[0m in \u001b[0;36mget_loc\u001b[1;34m(self, key, method, tolerance)\u001b[0m\n\u001b[0;32m   3079\u001b[0m             \u001b[1;32mtry\u001b[0m\u001b[1;33m:\u001b[0m\u001b[1;33m\u001b[0m\u001b[1;33m\u001b[0m\u001b[0m\n\u001b[1;32m-> 3080\u001b[1;33m                 \u001b[1;32mreturn\u001b[0m \u001b[0mself\u001b[0m\u001b[1;33m.\u001b[0m\u001b[0m_engine\u001b[0m\u001b[1;33m.\u001b[0m\u001b[0mget_loc\u001b[0m\u001b[1;33m(\u001b[0m\u001b[0mcasted_key\u001b[0m\u001b[1;33m)\u001b[0m\u001b[1;33m\u001b[0m\u001b[1;33m\u001b[0m\u001b[0m\n\u001b[0m\u001b[0;32m   3081\u001b[0m             \u001b[1;32mexcept\u001b[0m \u001b[0mKeyError\u001b[0m \u001b[1;32mas\u001b[0m \u001b[0merr\u001b[0m\u001b[1;33m:\u001b[0m\u001b[1;33m\u001b[0m\u001b[1;33m\u001b[0m\u001b[0m\n",
      "\u001b[1;32mpandas\\_libs\\index.pyx\u001b[0m in \u001b[0;36mpandas._libs.index.IndexEngine.get_loc\u001b[1;34m()\u001b[0m\n",
      "\u001b[1;32mpandas\\_libs\\index.pyx\u001b[0m in \u001b[0;36mpandas._libs.index.IndexEngine.get_loc\u001b[1;34m()\u001b[0m\n",
      "\u001b[1;32mpandas\\_libs\\hashtable_class_helper.pxi\u001b[0m in \u001b[0;36mpandas._libs.hashtable.PyObjectHashTable.get_item\u001b[1;34m()\u001b[0m\n",
      "\u001b[1;32mpandas\\_libs\\hashtable_class_helper.pxi\u001b[0m in \u001b[0;36mpandas._libs.hashtable.PyObjectHashTable.get_item\u001b[1;34m()\u001b[0m\n",
      "\u001b[1;31mKeyError\u001b[0m: 'Rating'",
      "\nThe above exception was the direct cause of the following exception:\n",
      "\u001b[1;31mKeyError\u001b[0m                                  Traceback (most recent call last)",
      "\u001b[1;32m<ipython-input-46-082f01a18af1>\u001b[0m in \u001b[0;36m<module>\u001b[1;34m\u001b[0m\n\u001b[0;32m      3\u001b[0m \u001b[0mplt\u001b[0m\u001b[1;33m.\u001b[0m\u001b[0mxlabel\u001b[0m\u001b[1;33m(\u001b[0m\u001b[1;34m'Borough'\u001b[0m\u001b[1;33m,\u001b[0m \u001b[0mfontsize\u001b[0m \u001b[1;33m=\u001b[0m \u001b[1;36m15\u001b[0m\u001b[1;33m)\u001b[0m\u001b[1;33m\u001b[0m\u001b[1;33m\u001b[0m\u001b[0m\n\u001b[0;32m      4\u001b[0m \u001b[0mplt\u001b[0m\u001b[1;33m.\u001b[0m\u001b[0mylabel\u001b[0m\u001b[1;33m(\u001b[0m\u001b[1;34m'Average Rating'\u001b[0m\u001b[1;33m,\u001b[0m \u001b[0mfontsize\u001b[0m\u001b[1;33m=\u001b[0m\u001b[1;36m15\u001b[0m\u001b[1;33m)\u001b[0m\u001b[1;33m\u001b[0m\u001b[1;33m\u001b[0m\u001b[0m\n\u001b[1;32m----> 5\u001b[1;33m \u001b[0mamerican_rest_stats_ny\u001b[0m\u001b[1;33m.\u001b[0m\u001b[0mgroupby\u001b[0m\u001b[1;33m(\u001b[0m\u001b[1;34m'Borough'\u001b[0m\u001b[1;33m)\u001b[0m\u001b[1;33m.\u001b[0m\u001b[0mmean\u001b[0m\u001b[1;33m(\u001b[0m\u001b[1;33m)\u001b[0m\u001b[1;33m[\u001b[0m\u001b[1;34m'Rating'\u001b[0m\u001b[1;33m]\u001b[0m\u001b[1;33m.\u001b[0m\u001b[0mplot\u001b[0m\u001b[1;33m(\u001b[0m\u001b[0mkind\u001b[0m\u001b[1;33m=\u001b[0m\u001b[1;34m'bar'\u001b[0m\u001b[1;33m,\u001b[0m \u001b[0mcolor\u001b[0m\u001b[1;33m=\u001b[0m\u001b[0mclr\u001b[0m\u001b[1;33m)\u001b[0m\u001b[1;33m\u001b[0m\u001b[1;33m\u001b[0m\u001b[0m\n\u001b[0m\u001b[0;32m      6\u001b[0m \u001b[0mplt\u001b[0m\u001b[1;33m.\u001b[0m\u001b[0mlegend\u001b[0m\u001b[1;33m(\u001b[0m\u001b[1;33m)\u001b[0m\u001b[1;33m\u001b[0m\u001b[1;33m\u001b[0m\u001b[0m\n\u001b[0;32m      7\u001b[0m \u001b[0mplt\u001b[0m\u001b[1;33m.\u001b[0m\u001b[0mshow\u001b[0m\u001b[1;33m(\u001b[0m\u001b[1;33m)\u001b[0m\u001b[1;33m\u001b[0m\u001b[1;33m\u001b[0m\u001b[0m\n",
      "\u001b[1;32mc:\\users\\user\\appdata\\local\\programs\\python\\python39\\lib\\site-packages\\pandas\\core\\frame.py\u001b[0m in \u001b[0;36m__getitem__\u001b[1;34m(self, key)\u001b[0m\n\u001b[0;32m   3022\u001b[0m             \u001b[1;32mif\u001b[0m \u001b[0mself\u001b[0m\u001b[1;33m.\u001b[0m\u001b[0mcolumns\u001b[0m\u001b[1;33m.\u001b[0m\u001b[0mnlevels\u001b[0m \u001b[1;33m>\u001b[0m \u001b[1;36m1\u001b[0m\u001b[1;33m:\u001b[0m\u001b[1;33m\u001b[0m\u001b[1;33m\u001b[0m\u001b[0m\n\u001b[0;32m   3023\u001b[0m                 \u001b[1;32mreturn\u001b[0m \u001b[0mself\u001b[0m\u001b[1;33m.\u001b[0m\u001b[0m_getitem_multilevel\u001b[0m\u001b[1;33m(\u001b[0m\u001b[0mkey\u001b[0m\u001b[1;33m)\u001b[0m\u001b[1;33m\u001b[0m\u001b[1;33m\u001b[0m\u001b[0m\n\u001b[1;32m-> 3024\u001b[1;33m             \u001b[0mindexer\u001b[0m \u001b[1;33m=\u001b[0m \u001b[0mself\u001b[0m\u001b[1;33m.\u001b[0m\u001b[0mcolumns\u001b[0m\u001b[1;33m.\u001b[0m\u001b[0mget_loc\u001b[0m\u001b[1;33m(\u001b[0m\u001b[0mkey\u001b[0m\u001b[1;33m)\u001b[0m\u001b[1;33m\u001b[0m\u001b[1;33m\u001b[0m\u001b[0m\n\u001b[0m\u001b[0;32m   3025\u001b[0m             \u001b[1;32mif\u001b[0m \u001b[0mis_integer\u001b[0m\u001b[1;33m(\u001b[0m\u001b[0mindexer\u001b[0m\u001b[1;33m)\u001b[0m\u001b[1;33m:\u001b[0m\u001b[1;33m\u001b[0m\u001b[1;33m\u001b[0m\u001b[0m\n\u001b[0;32m   3026\u001b[0m                 \u001b[0mindexer\u001b[0m \u001b[1;33m=\u001b[0m \u001b[1;33m[\u001b[0m\u001b[0mindexer\u001b[0m\u001b[1;33m]\u001b[0m\u001b[1;33m\u001b[0m\u001b[1;33m\u001b[0m\u001b[0m\n",
      "\u001b[1;32mc:\\users\\user\\appdata\\local\\programs\\python\\python39\\lib\\site-packages\\pandas\\core\\indexes\\base.py\u001b[0m in \u001b[0;36mget_loc\u001b[1;34m(self, key, method, tolerance)\u001b[0m\n\u001b[0;32m   3080\u001b[0m                 \u001b[1;32mreturn\u001b[0m \u001b[0mself\u001b[0m\u001b[1;33m.\u001b[0m\u001b[0m_engine\u001b[0m\u001b[1;33m.\u001b[0m\u001b[0mget_loc\u001b[0m\u001b[1;33m(\u001b[0m\u001b[0mcasted_key\u001b[0m\u001b[1;33m)\u001b[0m\u001b[1;33m\u001b[0m\u001b[1;33m\u001b[0m\u001b[0m\n\u001b[0;32m   3081\u001b[0m             \u001b[1;32mexcept\u001b[0m \u001b[0mKeyError\u001b[0m \u001b[1;32mas\u001b[0m \u001b[0merr\u001b[0m\u001b[1;33m:\u001b[0m\u001b[1;33m\u001b[0m\u001b[1;33m\u001b[0m\u001b[0m\n\u001b[1;32m-> 3082\u001b[1;33m                 \u001b[1;32mraise\u001b[0m \u001b[0mKeyError\u001b[0m\u001b[1;33m(\u001b[0m\u001b[0mkey\u001b[0m\u001b[1;33m)\u001b[0m \u001b[1;32mfrom\u001b[0m \u001b[0merr\u001b[0m\u001b[1;33m\u001b[0m\u001b[1;33m\u001b[0m\u001b[0m\n\u001b[0m\u001b[0;32m   3083\u001b[0m \u001b[1;33m\u001b[0m\u001b[0m\n\u001b[0;32m   3084\u001b[0m         \u001b[1;32mif\u001b[0m \u001b[0mtolerance\u001b[0m \u001b[1;32mis\u001b[0m \u001b[1;32mnot\u001b[0m \u001b[1;32mNone\u001b[0m\u001b[1;33m:\u001b[0m\u001b[1;33m\u001b[0m\u001b[1;33m\u001b[0m\u001b[0m\n",
      "\u001b[1;31mKeyError\u001b[0m: 'Rating'"
     ]
    },
    {
     "data": {
      "image/png": "[encoded data removed]",
      "text/plain": [
       "<Figure size 900x500 with 1 Axes>"
      ]
     },
     "metadata": {
      "needs_background": "light"
     },
     "output_type": "display_data"
    }
   ],
   "source": [
    "plt.figure(figsize=(9,5), dpi = 100)\n",
    "plt.title('Average rating of american Restaurants for each Borough')\n",
    "plt.xlabel('Borough', fontsize = 15)\n",
    "plt.ylabel('Average Rating', fontsize=15)\n",
    "american_rest_stats_ny.groupby('Borough').mean()['Rating'].plot(kind='bar', color=clr)\n",
    "plt.legend()\n",
    "plt.show()"
   ]
  },
  {
   "cell_type": "markdown",
   "id": "281aa1d6",
   "metadata": {},
   "source": [
    "\n",
    "We will consider all the neighborhoods with average rating greater or equal 7.5 to visualize on a map"
   ]
  },
  {
   "cell_type": "code",
   "execution_count": 47,
   "id": "b0eb0d17",
   "metadata": {
    "scrolled": true
   },
   "outputs": [
    {
     "ename": "NameError",
     "evalue": "name 'ny_neighborhood_stats' is not defined",
     "output_type": "error",
     "traceback": [
      "\u001b[1;31m---------------------------------------------------------------------------\u001b[0m",
      "\u001b[1;31mNameError\u001b[0m                                 Traceback (most recent call last)",
      "\u001b[1;32m<ipython-input-47-7fe257e47911>\u001b[0m in \u001b[0;36m<module>\u001b[1;34m\u001b[0m\n\u001b[1;32m----> 1\u001b[1;33m \u001b[0mny_neighborhood_stats\u001b[0m\u001b[1;33m=\u001b[0m\u001b[0mny_neighborhood_stats\u001b[0m\u001b[1;33m[\u001b[0m\u001b[0mny_neighborhood_stats\u001b[0m\u001b[1;33m[\u001b[0m\u001b[1;34m'Average Rating'\u001b[0m\u001b[1;33m]\u001b[0m\u001b[1;33m>=\u001b[0m\u001b[1;36m7.5\u001b[0m\u001b[1;33m]\u001b[0m\u001b[1;33m\u001b[0m\u001b[1;33m\u001b[0m\u001b[0m\n\u001b[0m\u001b[0;32m      2\u001b[0m \u001b[0mny_neighborhood_stats\u001b[0m\u001b[1;33m\u001b[0m\u001b[1;33m\u001b[0m\u001b[0m\n",
      "\u001b[1;31mNameError\u001b[0m: name 'ny_neighborhood_stats' is not defined"
     ]
    }
   ],
   "source": [
    "ny_neighborhood_stats=ny_neighborhood_stats[ny_neighborhood_stats['Average Rating']>=7.5]\n",
    "ny_neighborhood_stats"
   ]
  },
  {
   "cell_type": "code",
   "execution_count": 48,
   "id": "5c797c46",
   "metadata": {},
   "outputs": [
    {
     "ename": "NameError",
     "evalue": "name 'ny_neighborhood_stats' is not defined",
     "output_type": "error",
     "traceback": [
      "\u001b[1;31m---------------------------------------------------------------------------\u001b[0m",
      "\u001b[1;31mNameError\u001b[0m                                 Traceback (most recent call last)",
      "\u001b[1;32m<ipython-input-48-a6942b9fb3b2>\u001b[0m in \u001b[0;36m<module>\u001b[1;34m\u001b[0m\n\u001b[0;32m      1\u001b[0m \u001b[1;31m#  join this Dataset to original New York data to get longitude and latitude\u001b[0m\u001b[1;33m\u001b[0m\u001b[1;33m\u001b[0m\u001b[1;33m\u001b[0m\u001b[0m\n\u001b[1;32m----> 2\u001b[1;33m \u001b[0mny_neighborhood_stats\u001b[0m\u001b[1;33m=\u001b[0m\u001b[0mpd\u001b[0m\u001b[1;33m.\u001b[0m\u001b[0mmerge\u001b[0m\u001b[1;33m(\u001b[0m\u001b[0mny_neighborhood_stats\u001b[0m\u001b[1;33m,\u001b[0m\u001b[0mdata\u001b[0m\u001b[1;33m,\u001b[0m \u001b[0mon\u001b[0m\u001b[1;33m=\u001b[0m\u001b[1;34m'Neighborhood'\u001b[0m\u001b[1;33m)\u001b[0m\u001b[1;33m\u001b[0m\u001b[1;33m\u001b[0m\u001b[0m\n\u001b[0m\u001b[0;32m      3\u001b[0m \u001b[0mny_neighborhood_stats\u001b[0m\u001b[1;33m=\u001b[0m\u001b[0mny_neighborhood_stats\u001b[0m\u001b[1;33m[\u001b[0m\u001b[1;33m[\u001b[0m\u001b[1;34m'Borough'\u001b[0m\u001b[1;33m,\u001b[0m\u001b[1;34m'Neighborhood'\u001b[0m\u001b[1;33m,\u001b[0m\u001b[1;34m'Latitude'\u001b[0m\u001b[1;33m,\u001b[0m\u001b[1;34m'Longitude'\u001b[0m\u001b[1;33m,\u001b[0m\u001b[1;34m'Average Rating'\u001b[0m\u001b[1;33m]\u001b[0m\u001b[1;33m]\u001b[0m\u001b[1;33m\u001b[0m\u001b[1;33m\u001b[0m\u001b[0m\n\u001b[0;32m      4\u001b[0m \u001b[0mny_neighborhood_stats\u001b[0m\u001b[1;33m\u001b[0m\u001b[1;33m\u001b[0m\u001b[0m\n",
      "\u001b[1;31mNameError\u001b[0m: name 'ny_neighborhood_stats' is not defined"
     ]
    }
   ],
   "source": [
    "#  join this Dataset to original New York data to get longitude and latitude\n",
    "ny_neighborhood_stats=pd.merge(ny_neighborhood_stats,data, on='Neighborhood')\n",
    "ny_neighborhood_stats=ny_neighborhood_stats[['Borough','Neighborhood','Latitude','Longitude','Average Rating']]\n",
    "ny_neighborhood_stats"
   ]
  },
  {
   "cell_type": "code",
   "execution_count": 49,
   "id": "56ccac9b",
   "metadata": {},
   "outputs": [],
   "source": [
    "\n",
    "# creating a map\n",
    "def geo_location(address):\n",
    "    # get geo location of address\n",
    "    geolocator = Nominatim(user_agent=\"foursquare_agent\")\n",
    "    location = geolocator.geocode(address)\n",
    "    latitude = location.latitude\n",
    "    longitude = location.longitude\n",
    "    return latitude,longitude"
   ]
  },
  {
   "cell_type": "code",
   "execution_count": 50,
   "id": "162de512",
   "metadata": {},
   "outputs": [
    {
     "ename": "NameError",
     "evalue": "name 'ny_neighborhood_stats' is not defined",
     "output_type": "error",
     "traceback": [
      "\u001b[1;31m---------------------------------------------------------------------------\u001b[0m",
      "\u001b[1;31mNameError\u001b[0m                                 Traceback (most recent call last)",
      "\u001b[1;32m<ipython-input-50-aa24480054b9>\u001b[0m in \u001b[0;36m<module>\u001b[1;34m\u001b[0m\n\u001b[0;32m      4\u001b[0m \u001b[1;33m\u001b[0m\u001b[0m\n\u001b[0;32m      5\u001b[0m \u001b[1;31m# loop through the ratings and add each to the neighborhood feature group\u001b[0m\u001b[1;33m\u001b[0m\u001b[1;33m\u001b[0m\u001b[1;33m\u001b[0m\u001b[0m\n\u001b[1;32m----> 6\u001b[1;33m \u001b[1;32mfor\u001b[0m \u001b[0mlat\u001b[0m\u001b[1;33m,\u001b[0m \u001b[0mlng\u001b[0m\u001b[1;33m,\u001b[0m \u001b[1;32min\u001b[0m \u001b[0mny_neighborhood_stats\u001b[0m\u001b[1;33m[\u001b[0m\u001b[1;33m[\u001b[0m\u001b[1;34m'Latitude'\u001b[0m\u001b[1;33m,\u001b[0m\u001b[1;34m'Longitude'\u001b[0m\u001b[1;33m]\u001b[0m\u001b[1;33m]\u001b[0m\u001b[1;33m.\u001b[0m\u001b[0mvalues\u001b[0m\u001b[1;33m:\u001b[0m\u001b[1;33m\u001b[0m\u001b[1;33m\u001b[0m\u001b[0m\n\u001b[0m\u001b[0;32m      7\u001b[0m     rating.add_child(\n\u001b[0;32m      8\u001b[0m         folium.CircleMarker(\n",
      "\u001b[1;31mNameError\u001b[0m: name 'ny_neighborhood_stats' is not defined"
     ]
    }
   ],
   "source": [
    "ny_map = folium.Map(location=geo_location('New York'), zoom_start=12)\n",
    "# instantiate a feature group for the ratings in the dataframe\n",
    "rating = folium.map.FeatureGroup()\n",
    "\n",
    "# loop through the ratings and add each to the neighborhood feature group\n",
    "for lat, lng, in ny_neighborhood_stats[['Latitude','Longitude']].values:\n",
    "    rating.add_child(\n",
    "        folium.CircleMarker(\n",
    "            [lat, lng],\n",
    "            radius=10, # define how big you want the circle markers to be\n",
    "            color='yellow',\n",
    "            fill=True,\n",
    "            fill_color='blue',\n",
    "            fill_opacity=0.6\n",
    "        )\n",
    "    )"
   ]
  },
  {
   "cell_type": "code",
   "execution_count": 51,
   "id": "c3b286f0",
   "metadata": {},
   "outputs": [
    {
     "ename": "NameError",
     "evalue": "name 'ny_neighborhood_stats' is not defined",
     "output_type": "error",
     "traceback": [
      "\u001b[1;31m---------------------------------------------------------------------------\u001b[0m",
      "\u001b[1;31mNameError\u001b[0m                                 Traceback (most recent call last)",
      "\u001b[1;32m<ipython-input-51-1ff30fc7b4b6>\u001b[0m in \u001b[0;36m<module>\u001b[1;34m\u001b[0m\n\u001b[1;32m----> 1\u001b[1;33m \u001b[0mny_neighborhood_stats\u001b[0m\u001b[1;33m[\u001b[0m\u001b[1;34m'Label'\u001b[0m\u001b[1;33m]\u001b[0m\u001b[1;33m=\u001b[0m\u001b[0mny_neighborhood_stats\u001b[0m\u001b[1;33m[\u001b[0m\u001b[1;34m'Neighborhood'\u001b[0m\u001b[1;33m]\u001b[0m\u001b[1;33m+\u001b[0m\u001b[1;34m', '\u001b[0m\u001b[1;33m+\u001b[0m\u001b[0mny_neighborhood_stats\u001b[0m\u001b[1;33m[\u001b[0m\u001b[1;34m'Borough'\u001b[0m\u001b[1;33m]\u001b[0m\u001b[1;33m+\u001b[0m\u001b[1;34m'('\u001b[0m\u001b[1;33m+\u001b[0m\u001b[0mny_neighborhood_stats\u001b[0m\u001b[1;33m[\u001b[0m\u001b[1;34m'Average Rating'\u001b[0m\u001b[1;33m]\u001b[0m\u001b[1;33m.\u001b[0m\u001b[0mmap\u001b[0m\u001b[1;33m(\u001b[0m\u001b[0mstr\u001b[0m\u001b[1;33m)\u001b[0m\u001b[1;33m+\u001b[0m\u001b[1;34m')'\u001b[0m\u001b[1;33m\u001b[0m\u001b[1;33m\u001b[0m\u001b[0m\n\u001b[0m\u001b[0;32m      2\u001b[0m \u001b[1;31m# add pop-up text to each marker on the map\u001b[0m\u001b[1;33m\u001b[0m\u001b[1;33m\u001b[0m\u001b[1;33m\u001b[0m\u001b[0m\n\u001b[0;32m      3\u001b[0m \u001b[1;32mfor\u001b[0m \u001b[0mlat\u001b[0m\u001b[1;33m,\u001b[0m \u001b[0mlng\u001b[0m\u001b[1;33m,\u001b[0m \u001b[0mlabel\u001b[0m \u001b[1;32min\u001b[0m \u001b[0mny_neighborhood_stats\u001b[0m\u001b[1;33m[\u001b[0m\u001b[1;33m[\u001b[0m\u001b[1;34m'Latitude'\u001b[0m\u001b[1;33m,\u001b[0m\u001b[1;34m'Longitude'\u001b[0m\u001b[1;33m,\u001b[0m\u001b[1;34m'Label'\u001b[0m\u001b[1;33m]\u001b[0m\u001b[1;33m]\u001b[0m\u001b[1;33m.\u001b[0m\u001b[0mvalues\u001b[0m\u001b[1;33m:\u001b[0m\u001b[1;33m\u001b[0m\u001b[1;33m\u001b[0m\u001b[0m\n\u001b[0;32m      4\u001b[0m     \u001b[0mfolium\u001b[0m\u001b[1;33m.\u001b[0m\u001b[0mMarker\u001b[0m\u001b[1;33m(\u001b[0m\u001b[1;33m[\u001b[0m\u001b[0mlat\u001b[0m\u001b[1;33m,\u001b[0m \u001b[0mlng\u001b[0m\u001b[1;33m]\u001b[0m\u001b[1;33m,\u001b[0m \u001b[0mpopup\u001b[0m\u001b[1;33m=\u001b[0m\u001b[0mlabel\u001b[0m\u001b[1;33m)\u001b[0m\u001b[1;33m.\u001b[0m\u001b[0madd_to\u001b[0m\u001b[1;33m(\u001b[0m\u001b[0mny_map\u001b[0m\u001b[1;33m)\u001b[0m\u001b[1;33m\u001b[0m\u001b[1;33m\u001b[0m\u001b[0m\n\u001b[0;32m      5\u001b[0m \u001b[1;31m# add ratings to map\u001b[0m\u001b[1;33m\u001b[0m\u001b[1;33m\u001b[0m\u001b[1;33m\u001b[0m\u001b[0m\n",
      "\u001b[1;31mNameError\u001b[0m: name 'ny_neighborhood_stats' is not defined"
     ]
    }
   ],
   "source": [
    "ny_neighborhood_stats['Label']=ny_neighborhood_stats['Neighborhood']+', '+ny_neighborhood_stats['Borough']+'('+ny_neighborhood_stats['Average Rating'].map(str)+')'\n",
    "# add pop-up text to each marker on the map\n",
    "for lat, lng, label in ny_neighborhood_stats[['Latitude','Longitude','Label']].values:\n",
    "    folium.Marker([lat, lng], popup=label).add_to(ny_map)        \n",
    "# add ratings to map\n",
    "ny_map.add_child(rating)"
   ]
  },
  {
   "cell_type": "markdown",
   "id": "1f6e5fd8",
   "metadata": {},
   "source": [
    "Make this Notebook Trusted to load map: File -> Trust Notebook"
   ]
  },
  {
   "cell_type": "markdown",
   "id": "75562e6f",
   "metadata": {},
   "source": [
    "# Results"
   ]
  },
  {
   "cell_type": "markdown",
   "id": "11d601e9",
   "metadata": {},
   "source": [
    "\n",
    "Manhattan and Staten Island have the best rated american restaurants on average. Queens and The Bronx have the least amount of american restaurants per borough. However, of note, Greenvich Village & Sutton Palace in Manhattan has the highest number of american Restaurants in all of NY. Despite Manhattan having the least number of neighborhoods in all five boroughs, it has the most number of american restaurants. Based on the above information, I would state that Manhattan and Staten Island are the best locations for Japanese cuisine in NYC. To have the best shot of success, I would open a american restaurant in Brooklyn. Brooklyn has multiple neighborhoods with average ratings exceeding 8.0 on a scale of 1.0 to 10.0 and has less amount of american restaurants than Manhattan and Staten island, making competition easier. Also we should keep in mind, that real estate prices in Brooklyn are much cheaper than in Manhattan. Finally, I would go to The Kati Roll Company in Manhattan for the best american food based on 835 likes. As a final note, all of the above analysis is depended on the accuracy of Four Square data. A more comprehensive analysis and future work would need to incorporate data from other external databases."
   ]
  },
  {
   "cell_type": "code",
   "execution_count": null,
   "id": "9061b8c6",
   "metadata": {},
   "outputs": [],
   "source": []
  },
  {
   "cell_type": "code",
   "execution_count": null,
   "id": "fe707621",
   "metadata": {},
   "outputs": [],
   "source": []
  }
 ],
 "metadata": {
  "kernelspec": {
   "display_name": "Python 3",
   "language": "python",
   "name": "python3"
  },
  "language_info": {
   "codemirror_mode": {
    "name": "ipython",
    "version": 3
   },
   "file_extension": ".py",
   "mimetype": "text/x-python",
   "name": "python",
   "nbconvert_exporter": "python",
   "pygments_lexer": "ipython3",
   "version": "3.9.5"
  }
 },
 "nbformat": 4,
 "nbformat_minor": 5
}
